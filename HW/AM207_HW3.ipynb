{
 "cells": [
  {
   "cell_type": "markdown",
   "metadata": {},
   "source": [
    "# Homework #3 (Due 09/30/2021, 11:59pm)\n",
    "## Sampling and Monte Carlo Integration\n",
    "\n",
    "**AM 207: Advanced Scientific Computing**<br>\n",
    "**Instructor: Weiwei Pan**<br>\n",
    "**Fall 2021**"
   ]
  },
  {
   "cell_type": "markdown",
   "metadata": {},
   "source": [
    "**Name:**\n",
    "\n",
    "**Students collaborators:**"
   ]
  },
  {
   "cell_type": "markdown",
   "metadata": {},
   "source": [
    "### Instructions:\n",
    "\n",
    "**Submission Format:** Use this notebook as a template to complete your homework. Please intersperse text blocks (using Markdown cells) amongst `python` code and results -- format your submission for maximum readability. Your assignments will be graded for correctness as well as clarity of exposition and presentation -- a “right” answer by itself without an explanation or is presented with a difficult to follow format will receive no credit.\n",
    "\n",
    "**Code Check:** Before submitting, you must do a \"Restart and Run All\" under \"Kernel\" in the Jupyter or colab menu. Portions of your submission that contains syntactic or run-time errors will not be graded.\n",
    "\n",
    "**Libraries and packages:** Unless a problems specifically asks you to implement from scratch, you are welcomed to use any `python` library package in the standard Anaconda distribution."
   ]
  },
  {
   "cell_type": "code",
   "execution_count": null,
   "metadata": {},
   "outputs": [],
   "source": [
    "### Import basic libraries\n",
    "import numpy as np\n",
    "import pandas as pd\n",
    "import sklearn as sk\n",
    "from sklearn.linear_model import LinearRegression\n",
    "import matplotlib.pyplot as plt\n",
    "%matplotlib inline"
   ]
  },
  {
   "cell_type": "markdown",
   "metadata": {},
   "source": [
    "## Problem Description\n",
    "\n",
    "Let $X$ be a random variable with distribution described by the following pdf:\n",
    "\n",
    "$$\n",
    "f_X(x) = \\begin{cases}\n",
    "\\frac{1}{12}(x-1), &1\\leq x\\leq 3\\\\\n",
    "-\\frac{1}{12}(x-5), &3< x\\leq 5\\\\\n",
    "\\frac{1}{6}(x-5), &5< x\\leq 7\\\\\n",
    "-\\frac{1}{6}(x-9), &7< x\\leq 9\\\\\n",
    "0, &otherwise\n",
    "\\end{cases}\n",
    "$$\n",
    "\n",
    "Let $h$ be the following function of the random variable $X$:\n",
    "\n",
    "$$\n",
    "h(x) = 7 * \\mathrm{exp}\\left\\{\\frac{(x-4)^2}{-2}\\right\\} + 3 * \\mathrm{exp}\\left\\{\\frac{(x-8)^2}{-2 * 0.7^2}\\right\\}\n",
    "$$\n",
    "\n",
    "Our goal is to compute the expected value of $h(X)$:\n",
    "$$\n",
    "I = \\mathbb{E}_{X\\sim f_X}\\left[h(X)\\right] = \\int_{\\Omega} h(x) f_X(x)dx,\n",
    "$$\n",
    "where $\\Omega$ is the domain of $f_X$.\n",
    "\n",
    "---\n",
    "## Part I. Implement Some Monte Carlo Estimates\n",
    "\n",
    "Approximate $\\mathbb{E}_{X\\sim f_X}[h(X)]$ using the Monte Carlo integration methods and your choice of a reasonable fixed $S$ (for rejection sampling, this means run the algorithm $S$ times):\n",
    "\n",
    "\n",
    "1. ***Inverse CDF Sampling*** and naive Monte Carlo estimation.<br><br>\n",
    "\n",
    "2. ***Rejection Sampling*** and naive Monte Carlo estimation, using each of the following\n",
    "\n",
    "  - a uniform proposal distribution\n",
    "  - a normal proposal distribution \n",
    "\n",
    "  and your choice of reasonable parameters for the proposal distributions.<br><br>\n",
    "  \n",
    "3. ***Importance Sampling*** using each of the following\n",
    "\n",
    "  - a uniform importance distribution \n",
    "  - a normal importance distribution\n",
    "\n",
    "  and your choice of reasonable parameters for the importance distributions.<br><br>\n",
    "  \n",
    "2. ***Stratified Sampling*** using 4 strata, whose end points are given by\n",
    "$$\n",
    "[1, 3, 5, 7, 9].\n",
    "$$\n",
    "Use inverse cdf sampling on each stratum."
   ]
  },
  {
   "cell_type": "code",
   "execution_count": null,
   "metadata": {},
   "outputs": [],
   "source": []
  },
  {
   "cell_type": "markdown",
   "metadata": {},
   "source": [
    "---\n",
    "## Part II. Debug Your Samplers\n",
    "\n",
    "1. Visualize the pdf $f_X$ as well as samples obtained from Inverse CDF Sampling and Rejection Sampling (for both proposal distributions). It's probably better to make separate plots for each set of samples.\n",
    "\n",
    "  What does the comparison say about the quality of your samples? In particular, which sampler (and which proposal distribution) produces \"better\" samples? Is this surprising -- i.e. use some properties of these samplers discussed in class to explain the patterns you're observing?\n",
    "  \n",
    "  **Hint:** you might find it helpful to visualize the proposal distributions along with $f_X$ in your analysis of rejection sampling.<br><br>\n",
    "\n",
    "2. Visualize the distribution of the importance weights (one for each importance distribution). \n",
    "  \n",
    "   Is the weight distribution surprising -- i.e. use some properties of these samplers discussed in class to explain the patterns you're observing?\n",
    "\n",
    "   What do these importance weights tell you about the quality of your importance sampling estimate? \n",
    "   \n",
    "     **Hint:** you might find it helpful to visualize the importnce distributions along with $f_X$ and $h$ in your analysis of importance sampling.<br><br>\n",
    "     \n",
    "3. Visualize the distribution of all the samples across strata. Is the distribution what you expect -- i.e. use some properties of these samplers discussed in class to explain the patterns you're observing?"
   ]
  },
  {
   "cell_type": "code",
   "execution_count": null,
   "metadata": {},
   "outputs": [],
   "source": []
  },
  {
   "cell_type": "markdown",
   "metadata": {},
   "source": [
    "---\n",
    "\n",
    "## Part III: Variance Reduction\n",
    "\n",
    "1. Compute the sample variance of the four Monte Carlo estimates in Part I. Based on the discussions in lecture, which sampling methods (and proposal/importance distributions) is expected, in principle, to resulted in lower variances? How well do your results align with these expectations?<br><br>\n",
    "\n",
    "3. Based on your experiments, would you feel comfortable concluding which type of Monte Carlo estimate will **generally** have the lowest variance? Why or why not?"
   ]
  },
  {
   "cell_type": "code",
   "execution_count": null,
   "metadata": {},
   "outputs": [],
   "source": []
  }
 ],
 "metadata": {
  "anaconda-cloud": {},
  "kernelspec": {
   "display_name": "Python 3",
   "language": "python",
   "name": "python3"
  },
  "language_info": {
   "codemirror_mode": {
    "name": "ipython",
    "version": 3
   },
   "file_extension": ".py",
   "mimetype": "text/x-python",
   "name": "python",
   "nbconvert_exporter": "python",
   "pygments_lexer": "ipython3",
   "version": "3.7.4"
  }
 },
 "nbformat": 4,
 "nbformat_minor": 1
}
