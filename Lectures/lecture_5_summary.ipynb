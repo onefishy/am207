{
 "cells": [
  {
   "cell_type": "markdown",
   "metadata": {
    "slideshow": {
     "slide_type": "slide"
    }
   },
   "source": [
    "# Lecture #5: Sampling for Posterior Simulation\n",
    "## AM 207: Advanced Scientific Computing\n",
    "### Stochastic Methods for Data Analysis, Inference and Optimization\n",
    "### Fall, 2021"
   ]
  },
  {
   "cell_type": "markdown",
   "metadata": {
    "slideshow": {
     "slide_type": "slide"
    }
   },
   "source": [
    "<img src=\"fig/logos.jpg\" style=\"height:150px;\">"
   ]
  },
  {
   "cell_type": "markdown",
   "metadata": {
    "slideshow": {
     "slide_type": "slide"
    }
   },
   "source": [
    "## Lecture #5 Summary\n",
    "\n",
    "0. What's a good strategy for learning/organizing the info in this class?\n",
    "\n",
    "  Every topic is potentially really technical and really deep (e.g. do I need to read a text book on measure-theoretic foundations of probability theory first?), how do you manage diminishing margins of return and your finite energy?\n",
    "\n",
    "  - ***Ask: what is this good for?*** Let the tasks and real-life questions guide you to the piece of theory that is necessary to address these tasts/questions **productively** and **responsibly**.<br><br>\n",
    "  - ***Ask: why do I care?*** Remember **the big-picture story** of the class, each topic is linked to the next and builds on the previous. You can Google the details later.\n",
    "  \n",
    "\n",
    "1. **Why Are We Sampling Again?** AKA Bayesian Model Evaluation\n",
    "  - ***(Posterior Predictive Check: Obviously Needs Sampling)*** Use the models in the posterior to generate synethic data, in order to compare with real data, i.e. sample from the posterior predictive. \n",
    "  - ***(Marginal Data Log-Likelihood: Secretely Needs Sampling)*** Compute the marginal log-likelihood of the data (train or test) over the posterior: \n",
    "    $$\\sum_{m=1}^M \\log \\int_\\Theta p(\\mathbf{y}^*_m | \\theta) p(\\theta| \\text{Data}) d\\theta$$<br><br>\n",
    "    \n",
    "2. Why is sampling hard (can't we `numpy.random.something`)?<br><br>\n",
    "\n",
    "3. Basic strategy of sampling:\n",
    "  - build up a set of simple distributions that we can pseudo-randomly sample from (e.g. Uniform)\n",
    "  - transform samples from our simple distributions into samples from complex distributions:\n",
    "    - inverse CDF (only if the CDF is defined can be inverted analytically)\n",
    "    - rejection sampling (not efficient in high dimensions)\n",
    "    - Gibbs (only if the conditional distributions are easy to sample from)<br><br>\n",
    "    \n",
    "4. How do I evaluate the quality of my samples?\n",
    "  - Can I histogram my samples and compare it with the graph of my target pdf?\n",
    "  - There's a whole lot of math that came with my sampler, do I need to care?\n",
    "  - Can I customize or change the sampling algorithm?\n",
    "  - If I know that my sampler is correct (e.g. produces actual samples from my target pdf) do I care about any other properties?<br><br>\n",
    "  \n",
    "5. **But do I REALLY need to be Bayesian???**\n",
    "  - Uncertainty is obviously important in many high-impact tasks (e.g. Bayesian Modeling of Uncertainty in Ensembles of Climate Models)<br><br>\n",
    "  - Even if I ***ONLY*** care about prediction, the averaged predictions from an *ensemble* of models is very often better in terms of accuracy, and Bayesian posteriors naturally given you an *ensemble* of models. Averaging the predictions of models in the Bayesian posterior is called ***Bayesian averaging*** and it can be better in terms of accuracy than even bootstrap ensembles!"
   ]
  }
 ],
 "metadata": {
  "celltoolbar": "Slideshow",
  "kernelspec": {
   "display_name": "Python 3",
   "language": "python",
   "name": "python3"
  },
  "language_info": {
   "codemirror_mode": {
    "name": "ipython",
    "version": 3
   },
   "file_extension": ".py",
   "mimetype": "text/x-python",
   "name": "python",
   "nbconvert_exporter": "python",
   "pygments_lexer": "ipython3",
   "version": "3.7.4"
  }
 },
 "nbformat": 4,
 "nbformat_minor": 2
}
