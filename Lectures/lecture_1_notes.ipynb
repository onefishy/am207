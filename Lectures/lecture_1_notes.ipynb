{
 "cells": [
  {
   "cell_type": "markdown",
   "metadata": {
    "slideshow": {
     "slide_type": "slide"
    }
   },
   "source": [
    "# Lecture #1: Course Overview\n",
    "## AM 207: Advanced Scientific Computing\n",
    "### Stochastic Methods for Data Analysis, Inference and Optimization\n",
    "### Fall, 2021"
   ]
  },
  {
   "cell_type": "markdown",
   "metadata": {
    "slideshow": {
     "slide_type": "slide"
    }
   },
   "source": [
    "<img src=\"fig/logos.jpg\" style=\"height:150px;\">"
   ]
  },
  {
   "cell_type": "code",
   "execution_count": 1,
   "metadata": {
    "slideshow": {
     "slide_type": "skip"
    }
   },
   "outputs": [],
   "source": [
    "from IPython.display import HTML"
   ]
  },
  {
   "cell_type": "markdown",
   "metadata": {
    "slideshow": {
     "slide_type": "slide"
    }
   },
   "source": [
    "## Outline\n",
    "1. What is this course about?\n",
    "2. What technology do I need?\n",
    "3. How is this course structured?\n",
    "4. How do I get help for the course?\n",
    "5. Final words of advice"
   ]
  },
  {
   "cell_type": "markdown",
   "metadata": {
    "slideshow": {
     "slide_type": "slide"
    }
   },
   "source": [
    "# What is this course about?"
   ]
  },
  {
   "cell_type": "markdown",
   "metadata": {
    "slideshow": {
     "slide_type": "slide"
    }
   },
   "source": [
    "## How Do We Model Patterns in Data?\n",
    "\n",
    "This is a scatter plot of home prices vs square footage of some homes in southern California.\n",
    "\n",
    "<img src=\"fig/fig32.jpg\" style=\"height:350px;\">\n",
    "\n",
    "Can you see any patterns or trends?\n"
   ]
  },
  {
   "cell_type": "markdown",
   "metadata": {
    "slideshow": {
     "slide_type": "slide"
    }
   },
   "source": [
    "## How Do We Model Patterns in Data?\n",
    "\n",
    "We see that as **square footage** increases, so does **price**. \n",
    "\n",
    "<img src=\"fig/fig32.jpg\" style=\"height:350px;\">\n",
    "\n",
    "But what is a precise, mathematical description of this relationship?"
   ]
  },
  {
   "cell_type": "markdown",
   "metadata": {
    "slideshow": {
     "slide_type": "slide"
    }
   },
   "source": [
    "## What is a Model?\n",
    "\n",
    "Building a model to capture a hypothesized relationship means we predict the value of one group of attributes using another group. \n",
    "\n",
    "This prediction problem is called ***regression***, the attribute we are trying to predict (e.g.price) is called the ***outcome*** or the ***target***, denoted by $y$. \n",
    "\n",
    "The group of attributes (e.g. square footage) we use to make the prediction is called the ***covariates***, denoted by $x$.\n",
    "\n",
    "A ***regression model*** is a mathematical function, $f(x)$, that predicts the target. We denote our prediction by $\\hat{y} = f(x)$. "
   ]
  },
  {
   "cell_type": "markdown",
   "metadata": {
    "slideshow": {
     "slide_type": "slide"
    }
   },
   "source": [
    "## What is a Model?\n",
    "\n",
    "We conjectured that the model for this data is a line: $\\hat{y} = f(x) = w_1x + w_0$.\n",
    "\n",
    "<img src=\"fig/fig33.jpg\" style=\"height:350px;\">\n",
    "\n",
    "But which line fits the data best?"
   ]
  },
  {
   "cell_type": "markdown",
   "metadata": {
    "slideshow": {
     "slide_type": "slide"
    }
   },
   "source": [
    "## A Notion of Error\n",
    "\n",
    "An ***absolute residual*** is the absolute difference between the actual price of a home and the price predicted by the line for a given square footage:\n",
    "$$\n",
    "\\mathtt{Residual}_n = y_n - \\hat{y}_n\n",
    "$$\n",
    "\n",
    "<img src=\"fig/fig34.jpg\" style=\"height:350px;\">"
   ]
  },
  {
   "cell_type": "markdown",
   "metadata": {
    "slideshow": {
     "slide_type": "slide"
    }
   },
   "source": [
    "## How do we quantify the overall error?\n",
    "\n",
    "1. **(Max absolute deviation)** Count only the biggest \"error\"\n",
    "$$\n",
    "\\max_n |y_n - \\hat{y}_n| \n",
    "$$\n",
    "2. **(Sum of absolute deviations)** Add up all the \"errors\"\n",
    "$$\n",
    "\\sum_n |y_n - \\hat{y}_n| \n",
    "$$\n",
    "3. **(Sum of squared errors)** Add up the squares of the \"errors\"\n",
    "$$\n",
    "\\sum_n |y_n - \\hat{y}_n|^2 \n",
    "$$\n",
    "4. **(Mean squared errors)** We can also average the squared \"errors\".\n",
    "$$\n",
    "\\frac{1}{N}\\sum_{n=1}^N |y_n - \\hat{y}_n|^2 \n",
    "$$\n",
    "\n",
    "Again, $y_n$ is the observed target, $\\hat{y}_n$ is the predicted target."
   ]
  },
  {
   "cell_type": "markdown",
   "metadata": {
    "slideshow": {
     "slide_type": "slide"
    }
   },
   "source": [
    "## Model Fitting\n",
    "\n",
    "**Question:** What do we mean by choosing \"best\" line, $\\hat{y} = w_1x + w_0$? \n",
    "\n",
    "The ***model fitting*** process:\n",
    "\n",
    "1. *Choose* an overall error metric. This metric is called the ***loss function*** or ***training objective***:\n",
    "$$\n",
    "\\mathcal{L}(w_1, w_0) = \\frac{1}{N}\\sum_{n=1}^N |y_n - (w_1x_n + w_0)|^2, \\quad\\quad \\text{(Mean Squared Error Loss)}\n",
    "$$\n",
    "\n",
    "2. Set up the problem of finding coefficients or ***parameters***, $w_0, w_1$, such that the loss function is **minimized**:\n",
    "$$\n",
    "\\underset{w_0, w_1}{\\mathrm{argmin}}\\mathcal{L}(w_1, w_0) = \\underset{w_0, w_1}{\\mathrm{argmin}}\\frac{1}{N}\\sum_{n=1}^N |y_n - (w_1x_n + w_0)|^2 \n",
    "$$\n",
    "\n",
    "3. Choose a method of minimizing the loss function.\n",
    "\n",
    "**Note:** For linear regression, we can minimize $\\mathcal{L}$ analytically. We cannot do this for every model!"
   ]
  },
  {
   "cell_type": "markdown",
   "metadata": {
    "slideshow": {
     "slide_type": "skip"
    }
   },
   "source": [
    "## Linear Regression in `sklearn`\n",
    "\n",
    "```python\n",
    "# import the LinearRegression model from the sklearn library\n",
    "from sklearn.linear_model import LinearRegression\n",
    "\n",
    "# make an instance of the linear regression model\n",
    "regression = LinearRegression()\n",
    "\n",
    "# find the coefficients for the line that minimizes mean squared error\n",
    "regression.fit(x_train, y_train)\n",
    "```"
   ]
  },
  {
   "cell_type": "markdown",
   "metadata": {
    "slideshow": {
     "slide_type": "slide"
    }
   },
   "source": [
    "## What is a Statistical Model?\n",
    "Perhaps our **choice** of an overall error can be less arbitrary if we explain how, we believe, the residual arise.\n",
    "\n",
    "**Belief:** The theoretical relationship between price and square footage ($x$) is given by $f(x)$. But, in real-life, due to unpredictable circumstances observed prices ($y$) differ from $f(x)$ by some random amount, $\\epsilon$, called ***noise***:\n",
    "$$\n",
    "y = f(x) + \\epsilon, \\quad \\epsilon \\sim p(\\epsilon)\n",
    "$$\n",
    "\n",
    "A ***statistical model*** is one that explicitly accounts for uncertainty or randomness. "
   ]
  },
  {
   "cell_type": "markdown",
   "metadata": {
    "slideshow": {
     "slide_type": "slide"
    }
   },
   "source": [
    "## A Statistical Model for Regression\n",
    "\n",
    "Let us *assume* that (1) the underlying relationship between price and square footage $x$ is given by $f(x) = w_1x + w_0$; (2) that the observed price $y$ deviates from $f(x)$ by a random amount that is independent from $x$ and is distributed as $\\mathcal{N}(0, 1)$:\n",
    "\n",
    "$$\n",
    "y = f(x) + \\epsilon, \\quad \\epsilon \\overset{\\text{iid}}{\\sim} \\mathcal{N}(0, 1)\n",
    "$$\n",
    "\n",
    "Note that $y$ is now a random variable with distribution $\\mathcal{N}(f(x), 1)$, denoted by $p(y|x, w_1, w_0)$."
   ]
  },
  {
   "cell_type": "markdown",
   "metadata": {
    "slideshow": {
     "slide_type": "slide"
    }
   },
   "source": [
    "## How Do We Quantify Fitness?\n",
    "\n",
    "Given our statistical model, a natural way for quantifying how well $f(x) = w_1x + w_0$ fits the data is by checking how likely our choice of $w_0$ and $w_1$ makes the observed data, i.e. compute\n",
    "$$\n",
    "\\mathcal{L}(w_1, w_0) = \\prod_{n=1}^N p(y_n|x_n, w_1, w_0).\n",
    "$$\n",
    "The function $\\mathcal{L}(w_1, w_0)$ is called the ***likelihood function***.\n",
    "\n",
    "**Exercise:** suppose we have two models, $f(x) = 3x + 2$ and $f(x) = 10 - x$. Suppose that $\\mathcal{L}(w_1=3, w_0=2) = 10.2$ and $\\mathcal{L}(w_1=-1, w_0=10) = 0.002$. Which model is a better fit for the data and why?"
   ]
  },
  {
   "cell_type": "markdown",
   "metadata": {
    "slideshow": {
     "slide_type": "slide"
    }
   },
   "source": [
    "## Model Fitting\n",
    "\n",
    "**Question:** What do we mean by choosing \"best\" line, $\\hat{y} = f(x) = w_1x + w_0$? \n",
    "\n",
    "The ***model fitting*** process:\n",
    "\n",
    "1. *Choose* a method of estimation for statistical models. For example, set up the problem of finding coefficients or ***parameters***, $w_0, w_1$, such that the likelihood of the data is **maximized**:\n",
    "$$\n",
    "\\mathrm{argmax}_{w_0, w_1}\\mathcal{L}(w_1, w_0) = \\mathrm{argmax}_{w_0, w_1}\\prod_{n=1}^N p(y_n|x_n, w_1, w_0) \n",
    "$$\n",
    "\n",
    "3. Choose a method of computing the estimate. For example, choose a way to maximize the likelihood."
   ]
  },
  {
   "cell_type": "markdown",
   "metadata": {
    "slideshow": {
     "slide_type": "slide"
    }
   },
   "source": [
    "## Maximimum Likelihood and Minimum Mean Square Error\n",
    "\n",
    "Given our statistical model\n",
    "$$\n",
    "y = f(x) + \\epsilon, \\quad \\epsilon \\overset{\\text{iid}}{\\sim} \\mathcal{N}(0, 1)\n",
    "$$\n",
    "Maximimizing the likelihood is equivalent to minimizing the mean squared error:\n",
    "$$\n",
    "\\mathrm{argmax}_{w_0, w_1}\\prod_{n=1}^N p(y_n|x_n, w_1, w_0) \\equiv \\mathrm{argmin}_{w_0, w_1}\\frac{1}{N}\\sum_{i=1}^N |y_i - (w_1x_1 + w_0)|^2 \n",
    "$$\n",
    "\n",
    "*Hint: note that* \n",
    "$$\\prod_{n=1}^Np(y_n|x_n, w_1, w_0) = \\frac{1}{\\sqrt{2\\pi 1}^N} \\exp\\left\\{-\\frac{\\sum_{i=1}^N(y_n - (w_1x_n + w_0))^2}{2 * 1} \\right\\}$$ \n",
    "*and that*\n",
    "$$\\log p(y|x, w_1, w_0) = N\\log\\left(\\frac{1}{\\sqrt{2\\pi 1}}\\right) - \\frac{\\sum_{i=1}^N(y_n - (w_1x_n + w_0))^2}{2 * 1} $$"
   ]
  },
  {
   "cell_type": "markdown",
   "metadata": {
    "slideshow": {
     "slide_type": "slide"
    }
   },
   "source": [
    "## Model Evaluation\n",
    "After fitting the model (finding coefficients that maximizes the likelihood or that minimizes the loss function), we need to **check the error or residuals of the model**. Why?\n",
    "\n",
    "<img src=\"fig/fig36.jpg\" style=\"height:300px;\">\n",
    "\n",
    "Working with statistical models gives us an advantage in model evaluation, can you see why?"
   ]
  },
  {
   "cell_type": "markdown",
   "metadata": {
    "slideshow": {
     "slide_type": "slide"
    }
   },
   "source": [
    "## Model Interpretation\n",
    "\n",
    "In addition to evaluating our model on training and testing data, we must also examine the coefficients themselves. Why?\n",
    "\n",
    "<img src=\"fig/fig35.jpg\" style=\"height:300px;\">\n"
   ]
  },
  {
   "cell_type": "markdown",
   "metadata": {
    "slideshow": {
     "slide_type": "slide"
    }
   },
   "source": [
    "## What is a Bayesian Model?\n",
    "In addition to a statistical model that explains trends $f(x)$ and observation noise $\\epsilon$, we also want to incorporate our **prior beliefs** about the model. Finally, we want to obtain a measure of **uncertainty** for our parameter estimates as well as our predictions.\n",
    "\n",
    "Our Bayesian model for linear regression:\n",
    "\\begin{aligned}\n",
    "y &= w_1x + w_0 +\\epsilon\\\\\n",
    "\\epsilon &\\overset{\\text{iid}}{\\sim} \\mathcal{N}(0, 1)\\\\\n",
    "w_1 &\\sim p(w_1)\\\\\n",
    "w_0 &\\sim p(w_0)\\\\\n",
    "\\end{aligned}\n",
    "\n",
    "where the prior $p(w_i)$ may express that we want $w_i$ to be non-negative and not too large."
   ]
  },
  {
   "cell_type": "markdown",
   "metadata": {
    "slideshow": {
     "slide_type": "slide"
    }
   },
   "source": [
    "## Model Inference\n",
    "How do we \"learn\" the parameters in a Bayesian model?\n",
    "\n",
    "Baye's Rule gives us a way to obtain a distribution over $w_1, w_0$ given the data $(x_1, y_1), \\ldots, (x_N, y_N)$:\n",
    "\n",
    "$$\n",
    "p(w_1, w_0 | x_1, \\ldots, x_N, y_1, \\ldots, y_N) \\propto \\underbrace{\\left(\\prod_{n=1}^N p(y_n|x_n, w_1, w_0)\\right)}_{\\text{How well params fit the data}} \\underbrace{p(w_1)p(w_0)}_{\\text{How well the params fit priors}}\n",
    "$$\n",
    "\n",
    "The distirbution $p(w_1, w_0 | x_1, \\ldots, x_N, y_1, \\ldots, y_N)$ is called the ***poseterior*** and gives the likelihood of a pair of parameters $w_1, w_0$ given the observed data.\n",
    "\n",
    "We see that the likelihood score of the parameters under the posterior is influence both by how well the parameters fit the data and how well the parameters fit our prior beliefs."
   ]
  },
  {
   "cell_type": "markdown",
   "metadata": {
    "slideshow": {
     "slide_type": "slide"
    }
   },
   "source": [
    "## Bayesian Linear Regression\n",
    "\n",
    "When we choose normal priors for the parameters in a linear regression model, for example,\n",
    "\n",
    "\\begin{aligned}\n",
    "y &=  w_1x + w_0 + \\epsilon\\\\\n",
    "\\epsilon &\\overset{\\text{iid}}{\\sim} \\mathcal{N}(0, 1)\\\\\n",
    "w_1 &\\sim \\mathcal{N}(0, 0.5)\\\\\n",
    "w_0 &\\sim \\mathcal{N}(0, 1)\\\\\n",
    "\\end{aligned}\n",
    "\n",
    "The posterior $p(w_1, w_0 | x_1, \\ldots, x_N, y_1, \\ldots, y_N)$ is again a (multivariate) normal distribution, $\\mathcal{N}(\\mu, \\Sigma)$, and we can derive closed form solutions for $\\mu$ and $\\Sigma$.\n",
    "\n",
    "Why is this observation important?"
   ]
  },
  {
   "cell_type": "markdown",
   "metadata": {
    "slideshow": {
     "slide_type": "slide"
    }
   },
   "source": [
    "## Bayesian versus Frequentist Uncertainty\n",
    "\n",
    "The main advantage of the Bayesian approach is that rather than obtaining a single \"best\" estimate of the model parameters, the posterior gives us a distribution over a set of plausible model parameters (with some models being more likely than others).\n",
    "\n",
    "The spread of this distribution over plausible models naturally gives us a way to quantify our **uncertainty** over which is the \"best\" model. When the spread is wide (when many very different models are equally very likely), our uncertainty is high. When the spread is narrow (when all likely models look very similar), our uncertainty is low.\n",
    "\n",
    "We can also obtain a sense of uncertainty over models using the non-Bayesian probabilistic model. Typically, we randomly sample sets of training data point from the training data, on each set, we compute the MLE of the model parameters. This process is called **bootstrapping**.\n",
    "\n",
    "In HW#0 you will compare the uncertainties from the posteriors of Bayesian models with those from bootstrapping maximum likelihood models. "
   ]
  },
  {
   "cell_type": "markdown",
   "metadata": {
    "slideshow": {
     "slide_type": "slide"
    }
   },
   "source": [
    "## Model Evaluation\n",
    "\n",
    "With a Bayesian model we get a distribution $p(w_1, w_0| \\text{Data})$ over likely functions rather than a single function $f(x) = w_1x + w_0$. How then do we evaluate the \"error\" of model?\n",
    "\n",
    "In the Maximum Likelihood model, we can explicitly check the correctness of our assumptions by checking the distribution of the residuals. How do we criticize a Bayesian model?"
   ]
  },
  {
   "cell_type": "markdown",
   "metadata": {
    "slideshow": {
     "slide_type": "slide"
    }
   },
   "source": [
    "## Why is This Hard?\n",
    "\n",
    "1. Stating that our goal is to maximize likelihood or minimize MSE is easy. Finding the optimal parameters is often very hard (especially if $f(x)$ is not linear, but rather, a complex function represented by a neural network).\n",
    "<br><br>\n",
    "2. If we choose more \"interesting\" or \"expressive\" priors, or if we choose more complex $f(x)$, then it is often the case that the posterior cannot be computed in closed form.\n",
    "\n",
    "Both model fitting and inference requires sophisticated algorithms derived from deep theoretical understanding of the models."
   ]
  },
  {
   "cell_type": "markdown",
   "metadata": {
    "slideshow": {
     "slide_type": "slide"
    }
   },
   "source": [
    "## Is Accuracy Enough?\n",
    "We mentioned that we can get predictive uncertainty from maximum likelihood models by bootstrapping and that Bayesian models naturally give us a sense of predictive uncertainty. These are useful properties that are important for real-life applications.\n",
    "\n",
    "When machine learning models are applied to safety-critical, risk-adverse domains such as precision health care, financial and criminal justice systems, reliable measurements of a model's predictive uncertainty may be as crucial as correctness of its predictions.\n",
    "\n",
    "<img src=\"./fig/health.jpg\" style=\"height: 300px;\" align=\"center\"/>"
   ]
  },
  {
   "cell_type": "markdown",
   "metadata": {
    "slideshow": {
     "slide_type": "slide"
    }
   },
   "source": [
    "## What Kinds of Predictive Uncertainty Do We Want?\n",
    "Predictive uncertainty helps us quantify risk in down-stream tasks:\n",
    "\n",
    "<img src=\"fig/dosage.png\" style=\"height:100px;\" align=\"center\"/>\n",
    "\n",
    "We also care about the ***source of uncertainty***:\n",
    "<img src=\"fig/dosage2.png\" style=\"height:100px;\" align=\"center\"/>"
   ]
  },
  {
   "cell_type": "markdown",
   "metadata": {
    "slideshow": {
     "slide_type": "slide"
    }
   },
   "source": [
    "## What Kinds of Predictive Uncertainty Do We Want?\n",
    "\n",
    "What information about the data/model do we want our uncertainties to capture?\n",
    "\n",
    "**Epistemic Uncertainty** asks which function fits our data. Epistemic uncertainty arises due to small number of samples across all scenarios. This can be reduced by more samples!\n",
    "\n",
    "**Aleatoric Uncertainty:** asks what is the level of randomness that underlies the data generation process. This is irreducible.<br><br>\n",
    "\n",
    "<img src=\"fig/uncertainty.png\" style=\"height:250px;\" align=\"center\"/>"
   ]
  },
  {
   "cell_type": "markdown",
   "metadata": {
    "slideshow": {
     "slide_type": "slide"
    }
   },
   "source": [
    "## So Now You Have Predictive Uncertainties, What Are You Gonna Do With Them?\n",
    "\n",
    "In [*Efficient Out-of-Distribution Detection in Digital Pathology Using Multi-Head Convolutional Neural Networks*]() (Linmans et al, Medical Imaging with Deep Learning 2020), the authors train an uncertainty-aware neural network model to detect breast cancer metastasis.\n",
    "\n",
    "The epistemic uncertainty is used during test time to detect new types of breast tissue images that were not included in the training data. Classification of these novel types of images can be deferred to a human. \n",
    "\n",
    "Unfamiliar types were caught at test time with **AUC of .98**.\n",
    "\n",
    "<img src=\"./fig/BreastPathQ.png\" style=\"height: 350px;\" align=\"center\"/>"
   ]
  },
  {
   "cell_type": "markdown",
   "metadata": {
    "slideshow": {
     "slide_type": "slide"
    }
   },
   "source": [
    "## How Do We Explain Decisions of Machine Learning Models?\n",
    "In order for human decision makers to interact with machine learning models meaningfully, we need these models to be **interpretable**. But explanation complex models is difficult.\n",
    "\n",
    "<img src=\"fig/slide14.png\" style=\"height:350px;\" align=\"center\"/>"
   ]
  },
  {
   "cell_type": "markdown",
   "metadata": {
    "slideshow": {
     "slide_type": "slide"
    }
   },
   "source": [
    "## How Do You Communicate ML Predictions, And Does It Matter?\n",
    "\n",
    "In [*An explainable deep-learning algorithm for the detection of acute intracranial haemorrhage from small datasets*]() (Lee et al, Nature Biomedical Engineering, 2019), the authors build a neural network model to detect acute intracranial haemorrhage (ICH) and classifies five ICH subtypes. \n",
    "\n",
    "Model classifications are explained by highlighting the pixels that contributed the most to the decision. The highligthed regions tends to overlapped with ‘bleeding points’ annotated by neuroradiologists on the images.\n",
    "\n",
    "<img src=\"./fig/shap.png\" style=\"height: 350px;\" align=\"center\"/>"
   ]
  },
  {
   "cell_type": "markdown",
   "metadata": {
    "slideshow": {
     "slide_type": "slide"
    }
   },
   "source": [
    "## What Interactions Do We Need to Think About When We Design ML Models?\n",
    "We tend to think of modeling as a purely mathematical or engineering feat, but in many cases the model has a complex interaction with a human decision maker. \n",
    "\n",
    "We also tend to think of the tech and the user as a closed system. but your tech is actually one cog in a complex **social-technical system**, your intended use is just one actor in a web of stakeholders. \n",
    "\n",
    "We not only need to worry about the performance of the model, we also need to worry about the performance the combined system of Human + AI.\n",
    "\n",
    "<img src=\"fig/slide13.png\" style=\"height:350px;\" align=\"center\"/>"
   ]
  },
  {
   "cell_type": "markdown",
   "metadata": {
    "slideshow": {
     "slide_type": "slide"
    }
   },
   "source": [
    "## The Promises of Human + AI Systems\n",
    "In [*Consistent Estimators for Learning to Defer to an Expert*]() (Mozannar et al, International Conference on Machine Learning, 2020), the authors trains a model that decides when (and how) to classify an input and when to defer the decision to an human expert.\n",
    "\n",
    "The joint Human + AI system can be superior to both components. \n",
    "\n",
    "<img src=\"./fig/human+ai2.png\" style=\"height: 400px;\" align=\"center\"/>"
   ]
  },
  {
   "cell_type": "markdown",
   "metadata": {
    "slideshow": {
     "slide_type": "slide"
    }
   },
   "source": [
    "## The Perils of Human + AI Systems\n",
    "In [*How machine-learning recommendations influence clinician treatment selections: the example of antidepressant selection*]() (Jacobs et al, Translational Psychiatry, 2021), the authors found that clinicians interacting with incorrect recommendations paired with simple explanations experienced significant reduction in treatment selection accuracy.\n",
    "\n",
    "<img src=\"./fig/reliance.png\" style=\"height: 400px;\" align=\"center\"/>\n",
    "\n",
    "\n",
    "Incorrect ML recommendations may adversely impact clinician treatment selections and that explanations are insufficient for addressing overreliance on imperfect ML algorithms."
   ]
  },
  {
   "cell_type": "markdown",
   "metadata": {
    "slideshow": {
     "slide_type": "slide"
    }
   },
   "source": [
    "## The Potential Social Benifits of Machine Learning\n",
    "\n",
    "***Artifcial intellegence*** or ***machine learning*** models are becoming increasinglly ubiquitous in modern life. These models have already made meaningful impact on many of the most pressing problems we face today.\n",
    "\n",
    "<img src=\"./fig/benifits.jpeg\" style=\"height: 500px;\" align=\"center\"/>\n",
    "\n"
   ]
  },
  {
   "cell_type": "markdown",
   "metadata": {
    "slideshow": {
     "slide_type": "slide"
    }
   },
   "source": [
    "## The Negative Social Impacts of Machine Learning\n",
    "\n",
    "<img src=\"./fig/risks.jpeg\" style=\"height: 500px;\" align=\"center\"/>\n",
    "\n"
   ]
  },
  {
   "cell_type": "markdown",
   "metadata": {
    "slideshow": {
     "slide_type": "slide"
    }
   },
   "source": [
    "## Why Is This Happening?\n",
    "Bias in tech is not an algorithmic or math problem; it is a people problem, it is about neglecting the human dimension and inextricably linked with diversity & representation in the ways we approach problem solving.\n",
    "\n",
    "<img src=\"./fig/gaps.jpeg\" style=\"height: 500px;\" align=\"center\"/>"
   ]
  },
  {
   "cell_type": "markdown",
   "metadata": {
    "slideshow": {
     "slide_type": "slide"
    }
   },
   "source": [
    "## Alternative Problem Solving Frameworks for Machine Learning\n",
    "Machine learning is making a movement away from traditional design frameworks and problem solving methodologies.\n",
    "\n",
    "<img src=\"./fig/participate.jpeg\" style=\"height: 500px;\" align=\"center\"/>"
   ]
  },
  {
   "cell_type": "markdown",
   "metadata": {
    "slideshow": {
     "slide_type": "slide"
    }
   },
   "source": [
    "## Machine Learning: Much More Than Accuracy\n",
    "Machine learning is much more than engineering for abstract performance metrics. Increasingly the field is grappling with the role digital technology is playing in our entire socio-technical system.\n",
    "\n",
    "Machine learning and data science are **interdisciplinary** fields that require people with **diverse skill-sets/backgrounds** to work closely and **cooperatively**. \n",
    "\n",
    "There is also increasing calls for machine learning/data science researchers to engage meaningfully with **social, economic, political, cultural and ethical impacts** of their work when embedded in complex human institutions.\n",
    "\n",
    "<img src=\"fig/slide19.png\" style=\"height:350px;\" align=\"center\"/>"
   ]
  },
  {
   "cell_type": "markdown",
   "metadata": {
    "slideshow": {
     "slide_type": "slide"
    }
   },
   "source": [
    "## What is AM207?\n",
    "\n",
    "1. Build statistical (Bayesian and non-Bayesian) models for: continuous, ordinal and categorical data\n",
    "2. Study algorithms for model fitting and inference\n",
    "3. Study paradigms for model evaluation and critique\n",
    "4. Understand ways models can fail or produce unintended negative impact in real-life settings\n",
    "\n",
    "**Goal:** students become familiar with standard statistical models and modern techniques of inference. At the end of the course you should be able to productively read current machine learning research papers and apply these models to solve real-life problems. You should also be able to anticipate model failure modes and perform nuanced analyses of the broader social impact of your model.\n",
    "\n",
    "\n",
    "**Focus:** \n",
    "- **Why:** theory should serve a concrete purpose. \n",
    "- **How:** emphasize computational aspects of inference.\n",
    "- **But Should I?:** anticipate failure modes and negative social impacts.\n",
    "\n",
    "**Related Courses:** Bayesian Inference (Stats), Advanced Machine Learning (CS), Computational Statistics (Stats)"
   ]
  },
  {
   "cell_type": "markdown",
   "metadata": {
    "slideshow": {
     "slide_type": "slide"
    }
   },
   "source": [
    "# What technologies do you need for this class?"
   ]
  },
  {
   "cell_type": "markdown",
   "metadata": {
    "slideshow": {
     "slide_type": "slide"
    }
   },
   "source": [
    "## For Meetings\n",
    "\n",
    "- We will meet in person for classes and office hours. Students who cannot attend in-person meetings can obtain an exception from the instructor and attend classes and office hours via over [Zoom](https://zoom.us). \n",
    "\n",
    "\n",
    "- Students can work together virtually in the [gather.town](https://gather.town) room created for this course. "
   ]
  },
  {
   "cell_type": "markdown",
   "metadata": {
    "slideshow": {
     "slide_type": "slide"
    }
   },
   "source": [
    "## `gather.town`'s Virtual Environment"
   ]
  },
  {
   "cell_type": "code",
   "execution_count": 4,
   "metadata": {
    "slideshow": {
     "slide_type": "fragment"
    }
   },
   "outputs": [
    {
     "data": {
      "text/html": [
       "<iframe width=\"560\" height=\"315\" src=\"https://www.youtube.com/embed/dqG6-ehe39w?rel=0&amp;controls=0&amp;showinfo=0\" frameborder=\"0\" allowfullscreen></iframe>"
      ],
      "text/plain": [
       "<IPython.core.display.HTML object>"
      ]
     },
     "execution_count": 4,
     "metadata": {},
     "output_type": "execute_result"
    }
   ],
   "source": [
    "HTML('<iframe width=\"560\" height=\"315\" src=\"https://www.youtube.com/embed/dqG6-ehe39w?rel=0&amp;controls=0&amp;showinfo=0\" frameborder=\"0\" allowfullscreen></iframe>')"
   ]
  },
  {
   "cell_type": "markdown",
   "metadata": {
    "slideshow": {
     "slide_type": "slide"
    }
   },
   "source": [
    "## For Completing Assignments\n",
    "Homework will be completed in Jupyter Notebooks.\n",
    "\n",
    "You have one of two options\n",
    "1. Download the latest [Anaconda `python` 3.x](https://www.anaconda.com/products/individual) distribution on your personal machine\n",
    "2. Complete homework using [Deepnote](https://deepnote.com/) - a free cloud computing service that comes with pre-installed machine learning tools. Deepnote is built on Jupyter Notebooks, an open-source web application that allows you to create and share documents that contain live code, equations, visualizations and narrative text. "
   ]
  },
  {
   "cell_type": "markdown",
   "metadata": {
    "slideshow": {
     "slide_type": "slide"
    }
   },
   "source": [
    "## For In-Class Exercises\n",
    "\n",
    "In class exercises are completed in [Deepnote](https://deepnote.com/). Duplicate the starter code to your personal workspace. Turn on \"Sharing\" for your notebook (so that anyone with the link can view) and submit the share link to the Course Canvas. \n",
    "\n",
    "Each group submits a single notebook."
   ]
  },
  {
   "cell_type": "markdown",
   "metadata": {
    "slideshow": {
     "slide_type": "slide"
    }
   },
   "source": [
    "# How is this course structured?"
   ]
  },
  {
   "cell_type": "markdown",
   "metadata": {
    "slideshow": {
     "slide_type": "slide"
    }
   },
   "source": [
    "## Graded Components\n",
    "\n",
    "1. Concept quizzes following lecture videos\n",
    "2. In-class group exercises\n",
    "3. 9 equally weighted weekly homework\n",
    "4. 1 group project\n",
    "\n",
    "Each homework will be a combination of derivations/proofs (theory) and programming (implementation).\n",
    "\n",
    "The group project involves choosing one pre-approved research paper and producing a tutorial in Jupyter Notebook to demonstrate the concepts and methodologies in the paper."
   ]
  },
  {
   "cell_type": "markdown",
   "metadata": {
    "slideshow": {
     "slide_type": "slide"
    }
   },
   "source": [
    "## Policies\n",
    "\n",
    "**Grading:** Unreadable formatting or code with syntactic or runtime errrors will not be graded. \"Right\" answer without a (brief) justification will not receive full score. You can drop your lowest HW grade.\n",
    "\n",
    "**Late HW:** Each student has **three** late days that can be applied to any one or two homework. Outside of late days, late submissions will not be accepted.\n",
    "\n",
    "**Collaboration:** Collaboration is strongly encouraged, but copying is strictly not allowed (see policy on Syllabus).\n",
    "\n",
    "**Attendance:** Attendance of class meetings is required. Attendance waivers can be obtained by contacting the instructor."
   ]
  },
  {
   "cell_type": "markdown",
   "metadata": {
    "slideshow": {
     "slide_type": "slide"
    }
   },
   "source": [
    "# How do I get help for the course?"
   ]
  },
  {
   "cell_type": "markdown",
   "metadata": {
    "slideshow": {
     "slide_type": "slide"
    }
   },
   "source": [
    "## Teaching Staff\n",
    "\n",
    "**Instructor:** Weiwei Pan\n",
    "\n",
    "**TFs:** \n",
    "- Haoxue Fan\n",
    "- Max Cembalest\n",
    "- Elaine Cunha\n",
    "- Felipe Gomez\n",
    "- David Asseraf\n",
    "- Sean Gao\n",
    "- Claire Tseng\n",
    "- David Ma\n",
    "- Jiayu Yao"
   ]
  },
  {
   "cell_type": "markdown",
   "metadata": {
    "slideshow": {
     "slide_type": "slide"
    }
   },
   "source": [
    "## TF Office Hours\n",
    "\n",
    "Students need to submit their questions as comments on the appropriate Piazza post ***prior to each TF office hour***. During each OH, similar questions will be consolidated and answered in the order they were submitted. \n",
    "\n",
    "Each OH has a specific focus, questions that are not aligned with the focus of the session will be given lower priority. For example, on Monday, questions about how to get started on homework problems will be prioritized lower than trouble-shooting questions on solutions in progress.\n",
    "\n",
    "- **(Saturday)** Focus: background concepts and homework problem setup \n",
    "- **(Sunday)** Focus: background concepts and homework problem setup\n",
    "- **(Monday)** Focus: implementation and trouble shooting\n",
    "- **(Tuesday)** Focus: implementation and trouble shooting\n",
    "- **(Wednesday)** Focus: interpretation"
   ]
  },
  {
   "cell_type": "markdown",
   "metadata": {
    "slideshow": {
     "slide_type": "slide"
    }
   },
   "source": [
    "## Instructor Office Hours\n",
    "\n",
    "The focus of TF office hours is on providing support for homework assignments. The focus on instructor office hours is to support general understanding of the class material. \n",
    "\n",
    "While you are welcome to bring questions about homework assignments to instructor office hours, you may get more out of your total face-time with staff if you can make use of both sets of office hours.\n",
    "\n",
    "Suggested workflow:\n",
    "- **(Friday)** clarify concepts covered during the week during instructor office hour\n",
    "- **(Saturday and/or Sunday)** setup all homework problems during TF office hours\n",
    "- **(Monday and/or Tuesday)** trouble-shoot implementation issues during TF office hours\n",
    "- **(Wednsday)** discuss interpretation during instructor office hour"
   ]
  },
  {
   "cell_type": "markdown",
   "metadata": {
    "slideshow": {
     "slide_type": "slide"
    }
   },
   "source": [
    "## Piazza\n",
    "\n",
    "There is a course Piazza to faciliate collaboration amongst students. \n",
    "\n",
    "Teaching staff moderate the discussions but are **not responsible for answering questions**! \n",
    "\n",
    "If you want help from the staff come to an office hour or schedule a meeting."
   ]
  },
  {
   "cell_type": "markdown",
   "metadata": {
    "slideshow": {
     "slide_type": "slide"
    }
   },
   "source": [
    "# Final Words of Advice"
   ]
  },
  {
   "cell_type": "markdown",
   "metadata": {
    "slideshow": {
     "slide_type": "slide"
    }
   },
   "source": [
    "## How We've Changed AM207\n",
    "\n",
    "Last year, when we learned that AM207 will be remote, we made a number of fundamental changes to maximize the time you have to interact with each other and staff. Because these changes were universally approved by students, we have kept these changes for 2021:\n",
    "\n",
    "1. We've doubled the sections to keep enorllment in each section small\n",
    "2. We've doubled OHs\n",
    "3. We've flipped the classroom, so that class time is interactive and active"
   ]
  },
  {
   "cell_type": "markdown",
   "metadata": {
    "slideshow": {
     "slide_type": "slide"
    }
   },
   "source": [
    "## What We are Asking From You\n",
    "\n",
    "We are asking you also put in work in order to make this a successful learning experience:\n",
    "\n",
    "1. Come to office hours \n",
    "2. Ask questions:\n",
    "  - **Ask questions to understand**. There is no such thing as an obvious fact or a trivial question. Don't let shyness of intimidation prevent you from asking for help to understand something.\n",
    "  - **Ask questions to dig deeper**. Every single concept in this course serves a purpose and has a justification. Don't settle for knowing facts, there's always a questions you can ask about something you already know that will show you something new and something deep.\n",
    "3. Focus on creating connections, relation between and syntheses of concept. Don't worry about memorizing lines of math."
   ]
  },
  {
   "cell_type": "markdown",
   "metadata": {
    "slideshow": {
     "slide_type": "slide"
    }
   },
   "source": [
    "## How to Work in Teams\n",
    "\n",
    "Most of the work you do in AM207 you will do in teams. Since this is a traditionally diverse class in terms of backgrounds, your teammates will likely not have the same outlook and expertise as you.\n",
    "\n",
    "1. **When you're the one in the know** If you find a section of the material easy, don't settle for just doing the work for your team! Your challenge in this case is to teach, find a way to bring your teammates to your level of understanding. \n",
    "2. **When you're the one in the dark** If you find yourself lost on a task and someone else seems to be taking the lead, don't settle into the \"back-seat\"! Your challenge in this case is to ask good critical questions and interrogate the validity of every \"answer\" being proposed.\n",
    "3. **When you disagree** Solicit everyone's opinion, take time to understand what they are saying, be open to discussions (be able to suspend your own skepticism). When you can't reconcile difference, come to us and we can continue the discussion."
   ]
  }
 ],
 "metadata": {
  "celltoolbar": "Slideshow",
  "kernelspec": {
   "display_name": "Python 3",
   "language": "python",
   "name": "python3"
  },
  "language_info": {
   "codemirror_mode": {
    "name": "ipython",
    "version": 3
   },
   "file_extension": ".py",
   "mimetype": "text/x-python",
   "name": "python",
   "nbconvert_exporter": "python",
   "pygments_lexer": "ipython3",
   "version": "3.7.4"
  }
 },
 "nbformat": 4,
 "nbformat_minor": 2
}
