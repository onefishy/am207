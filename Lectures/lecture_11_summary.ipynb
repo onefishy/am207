{
 "cells": [
  {
   "cell_type": "markdown",
   "metadata": {
    "slideshow": {
     "slide_type": "slide"
    }
   },
   "source": [
    "# Lecture #11: Hierarchical Models\n",
    "## AM 207: Advanced Scientific Computing\n",
    "### Stochastic Methods for Data Analysis, Inference and Optimization\n",
    "### Fall, 2021"
   ]
  },
  {
   "cell_type": "markdown",
   "metadata": {
    "slideshow": {
     "slide_type": "slide"
    }
   },
   "source": [
    "<img src=\"fig/logos.jpg\" style=\"height:150px;\">"
   ]
  },
  {
   "cell_type": "markdown",
   "metadata": {
    "slideshow": {
     "slide_type": "slide"
    }
   },
   "source": [
    "\n",
    "## Lecture #11 Summary\n",
    "\n",
    "The questions we ask today are \"When should we be Bayesian? How Bayesian should we be?\"\n",
    "\n",
    "Consider the kidney cancer data set from Homework #4:\n",
    "We posit that the observed number of cases of kidney cancer, $y_j$, for the $j$-th county (with total population $n_j$) is a Poisson random variable that depends on the true underlying cancer rate, $\\theta$:\n",
    "\n",
    "\\begin{aligned}\n",
    "y_j | \\theta_j &\\sim Poisson(5 \\cdot n_j \\cdot \\theta_j), \\quad j = 1, \\ldots, N\n",
    "\\end{aligned}\n",
    "\n",
    "1. **(The MLE Model)** Why not use MLE estimates of $\\theta$?\n",
    "$\n",
    "\\theta_{\\text{MLE}} = \\frac{y_j}{n_j}\n",
    "$\n",
    "\n",
    "<img src=\"fig/cancer.png\" style=\"height:350px;\">\n",
    "\n",
    "\n",
    "2. **(The Bayesian Model)** Why not use choose an arbitrary prior for $\\theta$ or choose a different prior per county?\n",
    "\n",
    "\\begin{aligned}\n",
    "y_j | \\theta_j &\\sim Poisson(5 \\cdot n_j \\cdot \\theta_j), \\quad j = 1, \\ldots, N\\\\\n",
    "\\theta_j &\\sim Gamma(\\alpha, \\beta), \\quad j = 1, \\ldots, N\n",
    "\\end{aligned}\n",
    "\n",
    "3. **(The Empirical Bayes Model)** Why should we choose $\\alpha$, $\\beta$ using ***type-II MLE*** or ***empirical Bayes***? \n",
    "  **Idea:** choose the hyperparameters $\\alpha, \\beta$ for the beta prior such that the ***evidence***, is maximized:\n",
    "\n",
    "\\begin{aligned}\n",
    "\\alpha_{\\text{MLE-II}}, \\beta_{\\text{MLE-II}} = \\text{argmax}_{\\alpha, \\beta} p(Y_1, \\ldots, Y_N| \\alpha, \\beta) = \\text{argmax}_{\\alpha, \\beta} \\prod_{j=1}^J \\int_0^1 Poisson(Y_j; 5 \\cdot n_j \\cdot \\theta_j) Gamma(\\theta_j; \\alpha, \\beta)d\\theta_j\n",
    "\\end{aligned}\n",
    "\n",
    "\n",
    "4. **(The Hierarchical Bayes Model)** Why should we choose to use a ***hierarchical Bayes model***?\n",
    "\n",
    "\\begin{aligned}\n",
    "y_j| \\theta_j &\\sim Poisson(5 \\cdot n_j \\cdot \\theta_j), \\quad j = 1, \\ldots, N\\\\\n",
    "\\theta_j | \\alpha, \\beta &\\sim Gamma(\\alpha, \\beta), \\quad j = 1, \\ldots, N\\\\\n",
    "\\alpha &\\sim Gamma(a, b)\\\\\n",
    "\\beta &\\sim Gamma(c, d)\n",
    "\\end{aligned}\n",
    "\n",
    "<img src=\"fig/shrinkage.png\" style=\"height:350px;\">\n",
    "\n",
    "\n",
    "5. **(Broader Impact)** Why should we care so much about which model to choose?\n",
    "  - Which downstream decisions might be affected by the predictions of this model and how? So what if I underestimate cancer rates? So what if I overestimate?\n",
    "  - Which counties are affected by the overfitting tendencies of MLE?\n",
    "  - Which counties are affected by a poor choice of prior?\n",
    "  - Who lives in these counties?\n",
    "  - If your model negatively affects individual lives, would the negative effects be random or exacerbate systemic inequalities?<br><br>\n",
    "  \n",
    "6. **(The Small Data within Big Data Problem)** The small data with big data problem is everywhere in machine learning. It might appear under names like \"cohort imbalance\", \"sampling bias\". \n",
    "  - Health care: women, people of non-european descent, folks without insurance (and primary care) etc are extremely underrepresented\n",
    "  - What can go wrong with modeling data with an underrepresented cohort?\n",
    "  \n",
    "    <img src=\"fig/cohort.jpg\" style=\"height:350px;\">\n",
    "    \n",
    "  - Why can't you just collect more data? <br><br>\n",
    "  \n",
    "7. **(Why Should Engineers and ML Researchers Care About Broader Impact?)** Is it your responsibility as an engineer to care about broader impact? To what extent is this your responsibility?\n",
    "  - If you're just an engineer in a long ML pipeline in an industry setting, how much should you care about broader impact? Don't company have a legal and ethics department that handles all that?\n",
    "  - If you're just a in-house attorney or social scientist at a tech company, what properties of MLE, Bayesian, Empirical Bayes and Hierarchical Bayes models should you know?"
   ]
  }
 ],
 "metadata": {
  "celltoolbar": "Slideshow",
  "kernelspec": {
   "display_name": "Python 3",
   "language": "python",
   "name": "python3"
  },
  "language_info": {
   "codemirror_mode": {
    "name": "ipython",
    "version": 3
   },
   "file_extension": ".py",
   "mimetype": "text/x-python",
   "name": "python",
   "nbconvert_exporter": "python",
   "pygments_lexer": "ipython3",
   "version": "3.7.4"
  }
 },
 "nbformat": 4,
 "nbformat_minor": 2
}
