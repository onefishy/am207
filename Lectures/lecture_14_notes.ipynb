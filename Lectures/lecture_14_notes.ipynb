{
 "cells": [
  {
   "cell_type": "markdown",
   "metadata": {
    "slideshow": {
     "slide_type": "slide"
    }
   },
   "source": [
    "# Lecture #14: Hamiltonian Monte Carlo\n",
    "## AM 207: Advanced Scientific Computing\n",
    "### Stochastic Methods for Data Analysis, Inference and Optimization\n",
    "### Fall, 2021"
   ]
  },
  {
   "cell_type": "markdown",
   "metadata": {
    "slideshow": {
     "slide_type": "slide"
    }
   },
   "source": [
    "<img src=\"fig/logos.jpg\" style=\"height:150px;\">"
   ]
  },
  {
   "cell_type": "code",
   "execution_count": 2,
   "metadata": {
    "slideshow": {
     "slide_type": "skip"
    }
   },
   "outputs": [],
   "source": [
    "### Import basic libraries\n",
    "import numpy\n",
    "import scipy as sp\n",
    "import pandas as pd\n",
    "import sklearn as sk\n",
    "import math\n",
    "import matplotlib\n",
    "import matplotlib.pyplot as plt\n",
    "import matplotlib.animation as animation\n",
    "from matplotlib import rc\n",
    "from IPython.display import HTML\n",
    "from IPython.display import YouTubeVideo\n",
    "%matplotlib inline"
   ]
  },
  {
   "cell_type": "markdown",
   "metadata": {
    "slideshow": {
     "slide_type": "slide"
    }
   },
   "source": [
    "## Outline\n",
    "1. Hierachical Generalized Linear Models\n",
    "2. Sampling as Optimization\n",
    "3. Hamiltonian Monte Carlo"
   ]
  },
  {
   "cell_type": "markdown",
   "metadata": {
    "slideshow": {
     "slide_type": "slide"
    }
   },
   "source": [
    "# Hierarchical Generalized Linear Models"
   ]
  },
  {
   "cell_type": "markdown",
   "metadata": {
    "slideshow": {
     "slide_type": "slide"
    }
   },
   "source": [
    "## Generalized Linear Models\n",
    "\n",
    "We can add covariates to all the other common statistical models of data $Y^{(n)} \\sim p(Y^{(n)}|\\theta^{(n)})$!\n",
    "\n",
    "The general scheme is:\n",
    "\n",
    "1. Set $\\mathbb{E}[Y^{(n)}] = \\theta^{(n)} = g(\\mathbf{w}^\\top \\mathbf{X}^{(n)})$, where $g$ is typically a non-linear function called the ***link function*** \n",
    "\n",
    "  *Note:* in literature, $g^{-1}$ is called the link function.<br><br>\n",
    "  \n",
    "2. Set the variance according to how the variance of $p(Y^{(n)}|\\theta^{(n)})$ depends on $\\theta$, $\\mathrm{Var}[Y^{(n)}] = \\phi f(\\theta^{(n)})$, where $\\phi$ is a constant.\n",
    "\n",
    "These models are called ***generalized linear models***. Logistic regression is so called because $g^{-1}$ is the ***logistic function***."
   ]
  },
  {
   "cell_type": "markdown",
   "metadata": {
    "slideshow": {
     "slide_type": "slide"
    }
   },
   "source": [
    "## Kidney Cancer Dataset: Pooling vs Fully Independent Estimation\n",
    "Rather than modeling the total incidents of kidney cancer, we collect information for each individual in each county. We can explain how the cancer rate depends on demogaphics.\n",
    "\\begin{aligned}\n",
    "\\theta^{(n)} &= \\text{sigm}\\left(\\mathbf{w}^\\top\\mathbf{X}^{(n)}\\right)\\\\\n",
    "Y^{(n)} &\\sim Ber(\\theta^{(n)})\n",
    "\\end{aligned}\n",
    "**1.** $Y^{(n)}$ is the cancer status of $n$-th individual<br>\n",
    "**2.** $\\mathbf{X}^{(n)}$ include income, level of education, access to preventative care, cost of living etc<br>\n",
    "**3.** $\\theta^{(n)}$ is the underlying cancer rate for the $n$-th individual.\n",
    "\n",
    "**Pooled Estimation:** In the above model, we pooled the data across all counties. We implicitly assume that the cancer rate $\\theta^{(n)}$ depends on demographic factors $\\mathbf{X}$ in the **same way for every individual**.\n",
    "$$\n",
    "\\text{Prob}[Y^{n} = 1 | \\mathbf{X}^{(n)}] = \\text{sigm}\\left(-1 * \\text{income} + 2 * \\text{BMI} + \\ldots\\right)\n",
    "$$\n",
    "**Independent Estimation:**\n",
    "Alternatively, we can estimate a $\\mathbf{w}^{(c)}$ for each county $c$, fully independently:\n",
    "\\begin{aligned}\n",
    "\\theta^{(n, c)} &= \\text{sigm}\\left((\\mathbf{w}^{(c)})^\\top\\mathbf{X}^{(n, c)}\\right)\\\\\n",
    "Y^{(n, c)} &\\sim Ber(\\theta^{(n, c)})\n",
    "\\end{aligned}\n",
    "We implicitly assume that the way $\\theta^{(n, c)}$ depends on demographic factors $\\mathbf{X}$ **varies for every county independently**.\n",
    "\\begin{aligned}\n",
    "\\text{Prob}[Y^{(n, 1)} = 1 | \\mathbf{X}^{(n, 1)}] &= \\text{sigm}\\left(0.1 * \\text{income} - 0.2 * \\text{BMI} + \\ldots\\right)\\\\\n",
    "\\text{Prob}[Y^{(n, 100)} = 1 | \\mathbf{X}^{(n, 100)}] &= \\text{sigm}\\left(-1 * \\text{income} + 2 * \\text{BMI} + \\ldots\\right)\n",
    "\\end{aligned}"
   ]
  },
  {
   "cell_type": "markdown",
   "metadata": {
    "slideshow": {
     "slide_type": "slide"
    }
   },
   "source": [
    "## Kidney Cancer Dataset : Hierachical vs Non-Hiearchical Models\n",
    "**Bayesian Model:** Instead of assuming that the cancer rates in differen counties are fully independent. We can assume that the rates are **similar but differ from each other stochastically**.\n",
    "\\begin{aligned}\n",
    "\\mathbf{w}^{(c)} &\\sim p(\\mathbf{w} | \\phi)\\\\\n",
    "\\theta^{(n, c)} &= \\text{sigm}\\left((\\mathbf{w}^{(c)})^\\top\\mathbf{X}^{(n, c)}\\right)\\\\\n",
    "Y^{(n, c)} &\\sim Ber(\\theta^{(n, c)})\n",
    "\\end{aligned}\n",
    "\n",
    "where $\\phi$ is the set of hyperparameters of this model (i.e. you have to specify it). The prior $p(\\mathbf{w} | \\phi)$ expresses our belief that $\\theta^{(n, c)}$'s are similar.\n",
    "\n",
    "**Hierachical Model:** Rather than choosing $\\phi$ arbitrarily, we can **infer $\\phi$ from the data** by putting a prior on it.\n",
    "\\begin{aligned}\n",
    "\\phi & \\sim p(\\phi| a)\\\\\n",
    "\\mathbf{w}^{(c)} &\\sim p(\\mathbf{w} | \\phi)\\\\\n",
    "\\theta^{(n, c)} &= \\text{sigm}\\left((\\mathbf{w}^{(c)})^\\top\\mathbf{X}^{(n, c)}\\right)\\\\\n",
    "Y^{(n, c)} &\\sim Ber(\\theta^{(n, c)})\n",
    "\\end{aligned}\n",
    "where $a$ is the set of hyperparameters of this model (i.e. you have to specify it)."
   ]
  },
  {
   "cell_type": "markdown",
   "metadata": {
    "slideshow": {
     "slide_type": "slide"
    }
   },
   "source": [
    "## A Hierarchical Generalized Linear Model for Kidney Cancer\n",
    "\n",
    "If we wanted to build an explanatory model for the regional differences in how cancer rate depends on demographic factors, we might want to consider a ***hierarchical generalized linear model*** as below:\n",
    "\n",
    "\\begin{aligned}\n",
    "\\sigma_{\\mathbf{w}}^2 &\\sim exp(1.5)\\\\\n",
    "\\mu &\\sim \\mathcal{N}(0, \\mathbf{I})\\\\\n",
    "\\mathbf{w}^{(c)} &\\sim \\mathcal{N}(\\mu, \\sigma_{\\mathbf{w}}^2 \\mathbf{I})\\\\\n",
    "\\theta^{(n, c)} &= \\text{sigm}\\left((\\mathbf{w}^{(c)})^\\top\\mathbf{X}^{(n, c)}\\right)\\\\\n",
    "Y^{(n, c)} &\\sim Ber(\\theta^{(n, c)})\n",
    "\\end{aligned}\n",
    "\n",
    "The key object of interest for this model is the posterior \n",
    "\n",
    "$$p(\\mu, \\sigma_{\\mathbf{w}}^2, \\{\\mathbf{w}^{(c)}\\}_{c}, \\{\\mathbf{\\theta}^{(n, c)}\\}_{n, c}\\, |\\, \\{Y_{n, c}\\}_{n, c}).$$ \n",
    "\n",
    "Since there is no closed for this posterior, we must sample from it. \n",
    "\n",
    "**Question:** Should we expect that sampling from the posterior of these hierarchical models to be easy? What happened in HW#5 with your sampler?"
   ]
  },
  {
   "cell_type": "markdown",
   "metadata": {
    "slideshow": {
     "slide_type": "slide"
    }
   },
   "source": [
    "# Sampling as Optimization"
   ]
  },
  {
   "cell_type": "markdown",
   "metadata": {
    "slideshow": {
     "slide_type": "slide"
    }
   },
   "source": [
    "## When is Metropolis Hastings Efficient? \n",
    "\n",
    "Come up with a rule for what kinds of proposals get accepted. How many proposals will generally satisfy this rule?"
   ]
  },
  {
   "cell_type": "code",
   "execution_count": 22,
   "metadata": {
    "slideshow": {
     "slide_type": "fragment"
    }
   },
   "outputs": [
    {
     "data": {
      "text/html": [
       "\n",
       "<video height=\"440\" controls>\n",
       "  <source src=\"fig/mh_gaussian.mov\" type=\"video/mp4\">\n",
       "</video>\n"
      ],
      "text/plain": [
       "<IPython.core.display.HTML object>"
      ]
     },
     "execution_count": 22,
     "metadata": {},
     "output_type": "execute_result"
    }
   ],
   "source": [
    "HTML(\"\"\"<video height=\"440\" controls><source src=\"fig/mh_gaussian.mov\" type=\"video/mp4\"></video>\"\"\")"
   ]
  },
  {
   "cell_type": "markdown",
   "metadata": {
    "slideshow": {
     "slide_type": "slide"
    }
   },
   "source": [
    "## When is Metropolis Hastings Inefficient? \n",
    "Come up with a rule for what kinds of proposals get accepted. How many proposals will generally satisfy this rule?"
   ]
  },
  {
   "cell_type": "code",
   "execution_count": 23,
   "metadata": {
    "slideshow": {
     "slide_type": "fragment"
    }
   },
   "outputs": [
    {
     "data": {
      "text/html": [
       "\n",
       "<video height=\"440\" controls>\n",
       "  <source src=\"fig/mh_donut.mov\" type=\"video/mp4\">\n",
       "</video>\n"
      ],
      "text/plain": [
       "<IPython.core.display.HTML object>"
      ]
     },
     "execution_count": 23,
     "metadata": {},
     "output_type": "execute_result"
    }
   ],
   "source": [
    "HTML(\"\"\"<video height=\"440\" controls><source src=\"fig/mh_donut.mov\" type=\"video/mp4\"></video>\"\"\")"
   ]
  },
  {
   "cell_type": "markdown",
   "metadata": {
    "slideshow": {
     "slide_type": "slide"
    }
   },
   "source": [
    "## The Connection Between Energy and Density Functions\n",
    "\n",
    "In ***simulated annealing*** we turn the objective function $U(q)$ into a pdf $\\pi(q)$, but with higher mass where $U$ has lower values. This is the ***Gibbs distribution***:\n",
    "\n",
    "$$\n",
    "\\pi(q) = \\frac{1}{Z}\\exp\\left\\{ -\\frac{U(q)}{T}\\right\\},\\;\\; T \\text{ is a constant}\n",
    "$$\n",
    "\n",
    "where $Z$ is the normalizing constant of the exponential part. The Gibbs distribution has a physical interpretation: $\\pi(q)$ is the likelihood of being in state $q$ given the energy $U(q)$ of state $q$ and the temperature $T$. For now, we set $T=1$.\n",
    "\n",
    "Using the same relationship, we can turn a probability distribution into an energy function\n",
    "$$\n",
    "U(q) = - \\log \\pi(q).\n",
    "$$\n",
    "\n",
    "**Motto:** negative gradient of the energy function points to the direct of steepest decrease in $U$ and the **steepest increase** in $\\pi$."
   ]
  },
  {
   "cell_type": "markdown",
   "metadata": {
    "slideshow": {
     "slide_type": "slide"
    }
   },
   "source": [
    "## The Connection Between Optimization and Sampling\n",
    "\n",
    "If we wanted to sample from high density regions of $\\pi$, why don't we turn $\\pi$ into an energy function $U(q) = - \\log \\pi(q)$ and use gradient descent to find the valleys of $U$ (and hence modes of $\\pi$)? \n",
    "\n",
    "Why isn't gradient descent on $U$ a valid way to sample from $\\pi$?"
   ]
  },
  {
   "cell_type": "code",
   "execution_count": 12,
   "metadata": {
    "slideshow": {
     "slide_type": "skip"
    }
   },
   "outputs": [],
   "source": [
    "def plot_energy_gibbs(f, x, ax):\n",
    "    ax[1].plot(x, f(x), color='red')\n",
    "    ax[1].set_xticks([])\n",
    "    ax[1].set_yticks([])\n",
    "    ax[1].set_title('Energy Function - look for min')\n",
    "\n",
    "    ax[0].plot(x, -f(x), color='blue')\n",
    "    ax[0].set_xticks([])\n",
    "    ax[0].set_yticks([])\n",
    "    ax[0].set_title('Probability Density Function - look for max')\n",
    "    \n",
    "    return ax\n",
    "\n",
    "f = lambda x: x**4 + 1* x**3 - 10 * x**2 + 1\n",
    "x = np.linspace(-4, 3.5, 100)"
   ]
  },
  {
   "cell_type": "code",
   "execution_count": 14,
   "metadata": {
    "slideshow": {
     "slide_type": "fragment"
    }
   },
   "outputs": [
    {
     "data": {
      "image/png": "[encoded data removed]",
      "text/plain": [
       "<Figure size 1440x360 with 2 Axes>"
      ]
     },
     "metadata": {},
     "output_type": "display_data"
    }
   ],
   "source": [
    "fig, ax = plt.subplots(1, 2, figsize=(20, 5))\n",
    "ax = plot_energy_gibbs(f, x, ax)\n",
    "plt.show()"
   ]
  },
  {
   "cell_type": "markdown",
   "metadata": {
    "slideshow": {
     "slide_type": "slide"
    }
   },
   "source": [
    "## Gradient Descent with Random Momentum: Simulating Mechanics of Moving Particles\n",
    "To randomly sample from $\\pi$ we need to perform gradient-baesed descent on $U$ with some randomness to make sure we move around. But we need to make sure this randomness is controlled (i.e. doesn't overwhelm the information in the gradient).\n",
    "\n",
    "What if we performed gradient descent with an initial random momentum? That is, we simulated the way a particle with mass would move on the graph of $U$ if we started its motion with a push (an intitial direction and magnitude of force):\n",
    "\n",
    "**I.** at first, the particle would tend to travel in the direction of the initialization<br>\n",
    "**II.** eventually, gravity will pull it towards the minima (it will perform gradient descent)\n",
    "\n",
    "<img src=\"fig/rollercoaster.png\" style=\"height:300px;\">"
   ]
  },
  {
   "cell_type": "markdown",
   "metadata": {
    "slideshow": {
     "slide_type": "slide"
    }
   },
   "source": [
    "## Sampling by Physical Simulation\n",
    "\n",
    "We can now sketch a sampler of $\\pi$ based on the simulations physical explorations of the graph of it's energy function $U$:\n",
    "\n",
    "1. start at a random $q$, pick a mass $M$\n",
    "2. repeat:\n",
    "  1. start at the current sample $q_{\\text{current}}$\n",
    "  2. pick a random momentum vector (random direction and magnitude of force)\n",
    "  3. simulate, for a period of $T$ seconds, the movement of a particle with mass $M$ moving on the graph of $U$ with this momentum\n",
    "  4. the $q$-coordinate(s) of where the particle lands at the $T$-th second is the new sample $q_{\\text{new}}$\n",
    "  5. set $q_{\\text{current}}\\leftarrow q_{\\text{new}}$\n",
    "\n",
    "<img src=\"fig/gibbs.jpg\" style=\"height:200px;\">"
   ]
  },
  {
   "cell_type": "code",
   "execution_count": 24,
   "metadata": {
    "slideshow": {
     "slide_type": "fragment"
    }
   },
   "outputs": [
    {
     "data": {
      "text/html": [
       "\n",
       "<video height=\"440\" controls>\n",
       "  <source src=\"fig/hmc_donut.mov\" type=\"video/mp4\">\n",
       "</video>\n"
      ],
      "text/plain": [
       "<IPython.core.display.HTML object>"
      ]
     },
     "execution_count": 24,
     "metadata": {},
     "output_type": "execute_result"
    }
   ],
   "source": [
    "HTML(\"\"\"<video height=\"440\" controls><source src=\"fig/hmc_donut.mov\" type=\"video/mp4\"></video>\"\"\")"
   ]
  },
  {
   "cell_type": "markdown",
   "metadata": {
    "slideshow": {
     "slide_type": "slide"
    }
   },
   "source": [
    "# Hamiltonian Monte Carlo"
   ]
  },
  {
   "cell_type": "markdown",
   "metadata": {
    "slideshow": {
     "slide_type": "slide"
    }
   },
   "source": [
    "## Hamiltonian Motion as Differential Equations\n",
    "\n",
    "What does it mean to simulate the movement of a particle on the graph of $U$? It means to exchange potential energy (height) with kinetic energy (related to speed) in a way that obeys the ***conservation of total energy***. \n",
    "\n",
    "A physical properties of system with position $q(t)$ and momentum $p(t)$ is described by a function $H(q, p)$ called the ***Hamiltonian***. We will always choose a Hamiltonian that decomposes as the sum of potential and kinetic energy as follows:\n",
    "\\begin{aligned}\n",
    "\\underbrace{H(q, p)}_{\\text{total}} = \\underbrace{U(q(t))}_{\\text{potential}} + \\underbrace{K(p(t))}_{\\text{kinetic}}\n",
    "\\end{aligned}\n",
    "How the system $(q, p)$ changes over time is described by the partial derivatives of $H$:\n",
    "\\begin{aligned}\n",
    "\\frac{dq}{dt} = \\underbrace{\\frac{\\partial H}{\\partial p}}_{\\text{function of $t$}},\\quad\\quad \\frac{dp}{dt} = \\underbrace{-\\frac{\\partial H}{\\partial q}}_{\\text{function of $t$}}\n",
    "\\end{aligned}\n",
    "This forms a system of ***differential equations*** -- equations describing the derivatives/gradients of a function. We call this a ***Hamiltonian system***.\n",
    "\n",
    "Say the system is at $(q_0, p_0)$ at time $t=0$, the system's state at time $t = T$ is given by **integrating** the differential equations from $t=0$ to $t=T$ and solving for constants based on $q(0) = q_0$, $p(0) = p_0$. The map $\\phi(T)$ transforming the state $(q_0, p_0)$ to the state at $(q_T, p_T)$ is called the ***flow*** of the Hamiltonian system. The principle of conservation of total energy says that $H(q, p)$ is constant along every point $q_t, p_t$ on every flow."
   ]
  },
  {
   "cell_type": "markdown",
   "metadata": {
    "slideshow": {
     "slide_type": "slide"
    }
   },
   "source": [
    "## Hamiltonian Monte Carlo: with Exact Integration\n",
    "\n",
    "Let $\\pi(q)$ be our target distribution with $q\\in \\mathbb{R}^D$. We turn $\\pi$ into an energy function $U(q)$ by $U(q) = - \\log(\\pi(q))$. We choose a kinetic energy function $K(p)$. We fix $t = T$.\n",
    "\n",
    "0. start with a random $q^{(0)}\\in\\mathbb{R}^D$\n",
    "1. repeat:\n",
    "  1. (**kick-off**) sample a random momentum from the Gibbs distribution of $K(p)$, i.e.\n",
    "    $p^{(current)} \\sim \\frac{1}{Z} \\exp\\{-K(p)\\}$.\n",
    "    \n",
    "  2. (**simulate movment**) simulate Hamiltonian motion for a time interval of length $T$, i.e. start at $(q^{(current)}, p^{(current)})$ and find $(q^{(\\text{time }T)}, p^{(\\text{time }T)})$. You need to integrate $\\frac{dq}{dt} = \\frac{\\partial H}{\\partial p}, \\frac{dp}{dt} = -\\frac{\\partial H}{\\partial q}$!\n",
    "  \n",
    "  3. accept $q^{(current)}$ as a new sample: $q^{(current)} \\leftarrow q^{(\\text{time }T)}$.\n",
    "  \n",
    "**Questions:** is this a correct way to sample from $\\pi$? But isn't the integration in Step B hard?"
   ]
  },
  {
   "cell_type": "markdown",
   "metadata": {
    "slideshow": {
     "slide_type": "slide"
    }
   },
   "source": [
    "## Correctness of HMC with Exact Integration\n",
    "Two important properties of Hamiltonian dynamics:\n",
    "\n",
    "I. (**Reversibility**) The flow $\\phi(T)$ of a Hamiltonian system is one-to-one and onto for every interval length $T$, i.e. given $(q^{(\\text{time }T)}, p^{(\\text{time }T)})$ we can compute the point of origin $(q^{(\\text{time }0)}, p^{(\\text{time }0)})$. \n",
    "\n",
    "II. (**Volume Preserving**) It's easy to verify that the vector field of a Hamiltonian system is divergence free, which will imply that the flow $\\phi(T)$ is volume preserving -- if $A\\subset \\mathbb{R}^D$ has volume $V$ then the image of $A$ under $\\phi(T)$ has volume $V$.\n",
    "\n",
    "The above two properties imply detailed balance for HMC with respect to the joint distribution (see readings):\n",
    "$$\\pi(q, p) = \\frac{1}{Z} \\exp\\{-H(q, p) \\}.$$\n",
    "But we can rewrite the joint distribution $\\pi(q, p)$:\n",
    "\\begin{aligned} \n",
    "\\pi(q, p) = \\frac{1}{Z} \\exp\\{-U(q) - K(p) \\} &= \\exp\\{-U(q)\\} \\frac{1}{Z}\\exp\\{-K(p)\\}\\\\\n",
    "&= \\exp\\{\\log(\\pi(q)) \\} \\frac{1}{Z}\\exp\\{-K(p)\\}\\\\\n",
    "&= \\pi(q)\\frac{1}{Z}\\exp\\{-K(p)\\}\n",
    "\\end{aligned}\n",
    "That is, $q$ and $p$ are independent. Hence, sampling from $\\pi(q, p)$ and ignoring $p$ gives us samples from $\\pi(q)$.\n",
    "\n",
    "**Question:** What about irreducibility and aperiodicity?"
   ]
  },
  {
   "cell_type": "markdown",
   "metadata": {
    "slideshow": {
     "slide_type": "slide"
    }
   },
   "source": [
    "## Approximating Flows: Sympletic Integrators\n",
    "\n",
    "Simulating Hamiltonian dynamics for a time period of length $T$, using the flow $\\phi(T)$, requires that we integrate the equations in the Hamiltonian system with respect to $t$, \n",
    "$$\\frac{dq}{dt} = \\frac{\\partial H}{\\partial p}, \\quad\\quad \\frac{dp}{dt} = -\\frac{\\partial H}{\\partial q}$$\n",
    "This is generally intractable to do analytically! In HMC, we approximate the dynamics by:\n",
    "\n",
    "1. discretizing the time period $[0, T]$ into $L$ chunks each with length $\\epsilon$.\n",
    "2. **approximating** the flow for a time period of length $\\epsilon$.\n",
    "\n",
    "A common method of approximating the flow is called the ***leap-frog integrator***. This integrator has the special property of being **reversible** and **volume-preserving**. \n",
    "\n",
    "This means that replacing exact Hamiltonian dynmaics in HMC with the leap-frog integration will not obviously ruin detailed balance!"
   ]
  },
  {
   "cell_type": "markdown",
   "metadata": {
    "slideshow": {
     "slide_type": "slide"
    }
   },
   "source": [
    "## Approximating Flows: Adjusting for Error\n",
    "\n",
    "But the approximation is not exact! The longer the time period $\\epsilon$ the more error in the approximation. The more steps in your simulation (i.e. the longer $T$ is) the more these errors will accumulate. To ensure the correctness of the sampling, **we need to add a Metropolis-Hastings step** so that we can potentially reject the sample from the approximation.\n",
    "\n",
    "<img src=\"fig/integrator.jpg\" style=\"height:300px;\">"
   ]
  },
  {
   "cell_type": "markdown",
   "metadata": {
    "slideshow": {
     "slide_type": "slide"
    }
   },
   "source": [
    "## Hamiltonian Monte Carlo: with the Leap Frog Integrator\n",
    "\n",
    "Let $\\pi(q)$ be our target distribution with $q\\in \\mathbb{R}^D$. We turn $\\pi$ into an energy function $U(q)$ by $U(q) = - \\log(\\pi(q))$. We choose a kinetic energy function $K(p)$.\n",
    "\n",
    "**0.** start with a random $q^{(0)}\\in\\mathbb{R}^D$<br>\n",
    "\n",
    "**1.** repeat:<br>\n",
    "$\\quad$**A.** (**kick-off**) sample a random momentum from the Gibbs distribution of $K(p)$, i.e.\n",
    "    $p^{(current)} \\sim \\frac{1}{Z} \\exp(-K(p))$.<br>\n",
    "    \n",
    "$\\quad$**B.** (**simulate movement**) simulate Hamiltonian motion for $L$ steps each with time interval $\\epsilon$, using the leap-frog integrator. <br>\n",
    "$\\quad$$\\quad$**a.** Repeat for T - 1 times, for $p^{(\\text{step } 0)} = p^{(current)}$, $q^{(\\text{step } 0)} = q^{(current)}$:<br>\n",
    "$\\quad$$\\quad$$\\quad$**i.** (**half-step update for momentum**) $p^{(\\text{step } t + 1/2)} \\leftarrow  p^{(\\text{step } t)} - \\epsilon/2 \\frac{\\partial U}{\\partial q}(q^{(\\text{step } t)})$<br>\n",
    "$\\quad$$\\quad$$\\quad$**ii.*** (**full-step update for position**) $q^{(\\text{step } t + 1)} \\leftarrow q^{(\\text{step } t)} + \\epsilon \\frac{\\partial K}{\\partial p}(p^{(\\text{step } t + 1/2}))$<br>\n",
    "$\\quad$$\\quad$$\\quad$**iii.** (**half-step update for momentum**)$p^{(\\text{step } t + 1)} \\leftarrow  p^{(\\text{step } t + 1/2)} - \\epsilon/2 \\frac{\\partial U}{\\partial q}(q^{(\\text{step } t + 1)})$<br>\n",
    "$\\quad$$\\quad$**b.** (**reverse momentum**) $p^{(\\text{step } T)} \\leftarrow -p^{(\\text{step } T)}$<br>\n",
    "\n",
    "$\\quad$**C.**(**correction for simulation error**) implement Metropolis-Hasting accept mechanism: <br>\n",
    "$\\quad$$\\quad$**a.** compute $\\alpha = \\min\\left(1, \\exp\\left\\{H(q^{(current)}, p^{(current)}) - H(q^{(\\text{step } T)}, p^{(\\text{step } T)})\\right\\} \\right)$<br>\n",
    "$\\quad$$\\quad$**b.** sample $U\\sim U(0, 1)$, if $U \\leq \\alpha$ then accept, else keep old sample"
   ]
  },
  {
   "cell_type": "markdown",
   "metadata": {
    "slideshow": {
     "slide_type": "slide"
    }
   },
   "source": [
    "## HMC with Leap Frog Integrator in Action"
   ]
  },
  {
   "cell_type": "code",
   "execution_count": 57,
   "metadata": {
    "slideshow": {
     "slide_type": "fragment"
    }
   },
   "outputs": [
    {
     "data": {
      "text/html": [
       "\n",
       "<video height=\"440\" controls>\n",
       "  <source src=\"fig/hmc_donut.mov\" type=\"video/mp4\">\n",
       "</video>\n"
      ],
      "text/plain": [
       "<IPython.core.display.HTML object>"
      ]
     },
     "execution_count": 57,
     "metadata": {},
     "output_type": "execute_result"
    }
   ],
   "source": [
    "HTML(\"\"\"<video height=\"440\" controls><source src=\"fig/hmc_donut.mov\" type=\"video/mp4\"></video>\"\"\")"
   ]
  },
  {
   "cell_type": "markdown",
   "metadata": {
    "slideshow": {
     "slide_type": "slide"
    }
   },
   "source": [
    "## Hamiltonian Monte Carlo: Summary\n",
    "\n",
    "Given a target distribution $\\pi$, we\n",
    "1. turn $\\pi(q)$ into a potential energy function $U(q) = - \\log(\\pi(q))$. We choose a kinetic energy function $K(p)$.\n",
    "2. generate samples $\\{ q_s\\}$ by approximately simulating Hamiltonian dynamics for a particle (i.e. realistic movement on the graph of $U(q)$) with random intialization.\n",
    "3. for each sample we need to accept based on a Metropolis-Hastings mechanism because the simulation is not exact.\n",
    "\n",
    "**Design choices:**\n",
    "1. (**Advanced**) kinetic energy function $K(p)$ -- needs to be one such that you can easily sample from its Gibbs distribuion $\\frac{1}{Z} \\exp(-K(p))$.\n",
    "2. (**Advanced**) integrator to approximate Hamiltonian flow -- this needs to be volume-preserving and reversible.\n",
    "3. (**Everyone**) number and size of discrete time steps for discrete integrators.\n",
    "\n",
    "  What happens when the step sizes are large and we take many steps? What happens when the step sizes are tiny and we take few?"
   ]
  },
  {
   "cell_type": "markdown",
   "metadata": {
    "slideshow": {
     "slide_type": "skip"
    }
   },
   "source": [
    "## Example: Euclidean-Gaussian Kinetic Energy\n",
    "\n",
    "Let $q\\in \\mathbb{R}^D$. Let $\\pi(q)$ be our target distribution so that $U(q) = -\\log(\\pi(q))$ defines our potential energy function. Let's choose the mass of this system to be a matrix $M = m \\mathbf{I}_{D\\times D}$. Then the ***Euclidea-Guassian kinetic energy*** function is defined as\n",
    "\n",
    "$$\n",
    "K(p) = \\frac{1}{2} p^\\top M^{-1} p + \\frac{1}{2}\\log|M| + \\frac{D}{2} \\log(2\\pi)\n",
    "$$\n",
    "\n",
    "The Gibbs distribution for $K(p)$ is \n",
    "\n",
    "$$\n",
    "\\pi(p) = \\frac{1}{Z}\\exp\\{-K(p)\\} = \\frac{1}{Z} \\frac{1}{(2\\pi)^{D/2}|M|^{1/2}} \\exp\\left\\{-\\frac{1}{2}p^\\top M^{-1} p\\right\\}\n",
    "$$\n",
    "\n",
    "Since $\\exp\\{-K(p)\\}$ is the pdf of the normal distribution $\\mathcal{N}(0, M)$, it already integrates to 1, and hence $Z =1$.\n",
    "\n",
    "Now, the partial derivatives of $H(q, p) = U(q) + K(P)$ with respect to $q$ and $p$ are\n",
    "\\begin{aligned}\n",
    "\\frac{\\partial U}{\\partial q} &= - \\frac{\\frac{\\partial}{\\partial q}\\pi(q)}{\\pi(q)}\\\\\n",
    "\\frac{\\partial K}{\\partial p} &= \\frac{1}{m} p\n",
    "\\end{aligned}\n",
    "\n",
    "Thus, HMC with the above choices becomes\n",
    "\n",
    "0. start with a random $q^{(0)}\\in\\mathbb{R}^D$\n",
    "1. repeat:\n",
    "  1. (**kick-off**) sample a random momentum from the Gibbs distribution of $K(p)$, i.e.\n",
    "    $p^{(current)} \\sim \\mathcal{N}(0, M)$.\n",
    "    \n",
    "  2. (**simulate movement**) simulate Hamiltonian motion for $L$ steps each with time interval $\\epsilon$, using the leap-frog integrator. \n",
    "  \n",
    "    1. Repeat for T - 1 times, for $p^{(\\text{step } 0)} = p^{(current)}$, $q^{(\\text{step } 0)} = q^{(current)}$:\n",
    "       1. (**half-step update for momentum**) $p^{(\\text{step } t + 1/2)} \\leftarrow  p^{(\\text{step } t)} - \\epsilon/2 \\frac{\\partial U}{\\partial q}(q^{(\\text{step } t)})$\n",
    "       2. (**full-step update for momentum**) $q^{(\\text{step } t + 1)} \\leftarrow q^{(\\text{step } t)} + \\epsilon \\frac{1}{m} p^{(\\text{step } t + 1/2)}$\n",
    "       3. (**half-step update for momentum**) $p^{(\\text{step } t + 1)} \\leftarrow  p^{(\\text{step } t + 1/2)} - \\epsilon/2 \\frac{\\partial U}{\\partial q}(q^{(\\text{step } t + 1)})$\n",
    "     \n",
    "   2. (**reverse momentum**) $p^{(\\text{step } T)} \\leftarrow -p^{(\\text{step } T)}$\n",
    "  \n",
    "  3. (**correction for simulation error**) implement Metropolis-Hasting accept mechanism: \n",
    "    1. compute $\\alpha = \\min\\left(1, \\exp\\left\\{H(q^{(current)}, p^{(current)}) - H(q^{(\\text{step } T)}, p^{(\\text{step } T)})\\right\\} \\right)$\n",
    "    2. sample $U\\sim U(0, 1)$, if $U \\leq \\alpha$ then accept, else keep old sample"
   ]
  },
  {
   "cell_type": "markdown",
   "metadata": {
    "slideshow": {
     "slide_type": "slide"
    }
   },
   "source": [
    "## HMC for Multimodal Distributions"
   ]
  },
  {
   "cell_type": "code",
   "execution_count": 55,
   "metadata": {
    "slideshow": {
     "slide_type": "fragment"
    }
   },
   "outputs": [
    {
     "data": {
      "text/html": [
       "\n",
       "<video height=\"440\" controls>\n",
       "  <source src=\"fig/hmc_multimodal.mov\" type=\"video/mp4\">\n",
       "</video>\n"
      ],
      "text/plain": [
       "<IPython.core.display.HTML object>"
      ]
     },
     "execution_count": 55,
     "metadata": {},
     "output_type": "execute_result"
    }
   ],
   "source": [
    "HTML(\"\"\"<video height=\"440\" controls><source src=\"fig/hmc_multimodal.mov\" type=\"video/mp4\"></video>\"\"\")"
   ]
  }
 ],
 "metadata": {
  "celltoolbar": "Slideshow",
  "kernelspec": {
   "display_name": "Python 3",
   "language": "python",
   "name": "python3"
  },
  "language_info": {
   "codemirror_mode": {
    "name": "ipython",
    "version": 3
   },
   "file_extension": ".py",
   "mimetype": "text/x-python",
   "name": "python",
   "nbconvert_exporter": "python",
   "pygments_lexer": "ipython3",
   "version": "3.8.2"
  }
 },
 "nbformat": 4,
 "nbformat_minor": 2
}
