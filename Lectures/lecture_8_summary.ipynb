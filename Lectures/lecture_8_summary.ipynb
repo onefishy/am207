{
 "cells": [
  {
   "cell_type": "markdown",
   "metadata": {
    "slideshow": {
     "slide_type": "slide"
    }
   },
   "source": [
    "# Lecture #8: Metropolis-Hastings and Gibbs\n",
    "## AM 207: Advanced Scientific Computing\n",
    "### Stochastic Methods for Data Analysis, Inference and Optimization\n",
    "### Fall, 2021"
   ]
  },
  {
   "cell_type": "markdown",
   "metadata": {
    "slideshow": {
     "slide_type": "slide"
    }
   },
   "source": [
    "<img src=\"fig/logos.jpg\" style=\"height:150px;\">"
   ]
  },
  {
   "cell_type": "markdown",
   "metadata": {
    "slideshow": {
     "slide_type": "slide"
    }
   },
   "source": [
    "### Lecture #8 Summary\n",
    "\n",
    "#### Grades!\n",
    "\n",
    "1. **For those concerned about your final course grade.** Pathways to an `A`:\n",
    "  - low `A` on the final project, two 7's two 8's two 9's and three 10's \n",
    "  - low `A` on the final project, two 8's and seven 9's\n",
    "  - mid `A` on the final project, four 8's and five 9's\n",
    "  - high `A` on the final project, two 7's two 8's five 9's\n",
    "  - *etc...*<br><br>\n",
    "  \n",
    "2. **How are we doing?**\n",
    "  - the average on HW#0 is 9.44 (matches historical performance)\n",
    "  - the average on HW#1 is 9.64 (matches historical performance)<br><br>\n",
    "  \n",
    "3. **For those concerned about the grades on individual assignments.** \n",
    "  - TFs grade using a single rubric to reduce variance\n",
    "  - Rubric is formative: points are not assigned to individual parts (this can be punitive), points indicate ladders (from \"mostly correct with minor errors\" to \"major misunderstandings -- student should look again at the materials\")\n",
    "  - Rubric prevents too many points from being deducted (e.g. a -0.25 is not TF trying to nitpick \"there is a slight error\", it's actually indicating a significant error \"there is a major error but student clearly knows what's going on\")\n",
    "  - TFs instructed to focus on providing lots of comments\n",
    "  - We try to write the questions and comments in a way that is very clear, but obviously sometimes you will find them confusing. But **there are no trick questions** (we are not trying to trick you into losing points) <br><br>\n",
    "  \n",
    "4. **How do I write the broader impact statement????!!!!**\n",
    "  - We are looking for **engagement** and **concrete connections between theory and practice**.\n",
    "    - Non-example: \"I wouldn't recommend using this model because it's not accurate. When the model isn't accurate it might harm patients\". \n",
    "      - How can the model harm patients? Who is using this model, what decisions are they making based on the model, and what is the relationship between the user and the patients (what if the patients are empowered to reject the model decisions?)?\n",
    "      - For whom is the model not accurate? For whom is the model accurate? Should we disregard a model completely because it doesn't work for some people? Is it fair to deploy a model that benefits only some people?\n",
    "      - A model can be useful for things OTHER THAN prediction? Did you consider other possibly advantages of this model? Is this model interpretable? Easy to implement and learn? Cheap to deploy?\n",
    "  - If you're not sure what the broader impact is (often times it won't be super clear), come chat with us at any time. Also discuss with eachother on Piazza.<br><br>\n",
    "  \n",
    "\n",
    "---\n",
    "\n",
    "#### How Do I Know That My Sampler is an MCMC Sampler for the target $\\pi^{\\text{target}}$?\n",
    "1. Check that my chain is ***aperiodic***.\n",
    "  - **Finite State Space:** check that the period of each state is 1, where the period of a state is the `gcd` of the lengths of all paths starting and ending.\n",
    "  - **Continuous State Space:** Periodicity is defined as the largest $n$ such that there is a pairwise disjoint family of $n$ number of measurable sets where $T(x, A_{j+1}) = 1$ for all $x\\in A_j$ and $T(x, A_1) = 1$ for all $x\\in A_n$, where $T(x,\\cdot)$ is the measure induced by the transition kernel $T$.<br><br>\n",
    "    It's **sufficient** that the proposal distribution is positive everywhere in the sample space.<br><br>\n",
    "  \n",
    "2. Check that my chain is ***irreducible***.\n",
    "  - **Finite State Space:** check that for some $n$ the transition matrix $T^n$ has all positive entries.\n",
    "  - **Continuous State Space:** a kernel is ***Harris positive recurrent*** if it is $\\varphi$-irreducible (i.e. there is some $n$ such that for all $A$ we have $\\varphi(A)>0$, $T^n(x, A) > 0$) with stationary distribution $\\pi$ and for all $\\pi(A)>0$, all $x$, we have $Pr(\\tau_A <\\infty|X_0 =x)=1$, where $\\tau_A = \\inf\\{n\\geq 1: X_n \\in A\\}.$\n",
    "  \n",
    "    It's **sufficient** that the proposal distribution is positive everywhere in the sample space.<br><br>\n",
    "    \n",
    "3. By the Fundamental Theorem, we get that there exists a unique stationary distribution $\\pi^{\\text{sta}}$ that is the limiting distribution $\\pi^{\\infty}$:\n",
    "$$\n",
    "\\pi^{\\text{sta}} = \\pi^{\\infty}\n",
    "$$\n",
    "\n",
    "4. We check that the sampler satisfy ***detailed balance*** with respect to $\\pi^{\\text{target}}$.\n",
    "5. Then we know that $\\pi^{\\text{target}}$ is stationary, since the stationary distribution is unique for our sampler, and hence limiting:\n",
    "$$\n",
    "\\pi^{\\text{target}} = \\pi^{\\text{sta}} = \\pi^{\\infty}\n",
    "$$\n",
    "\n",
    "---\n",
    "\n",
    "#### Samplers with Asymptotic Guarantees Can Be Lemons!\n",
    "\n",
    "1. **Burn-in:** The first chunch of samples from an MCMC sampler will be worthless. We need to discard these samples.\n",
    "2. **Mixing:** How do we know when the sampler is finally sampling from $\\pi^{\\text{target}}$?\n",
    "  - Look at the trace plots\n",
    "    <img src=\"fig/mixing.jpg\" style=\"height:150px;\">\n",
    "  - Trace plots can be misleading!\n",
    "    <img src=\"fig/trace.pdf\" style=\"height:150px;\">\n",
    "  - Look at the correlation plots\n",
    "    <img src=\"fig/autocorr.jpg\" style=\"height:350px;\">\n",
    "3. **Remember that all your metrics are flawed!**\n",
    "\n",
    "#### More Rigorous Checks for Convergence\n",
    "\n",
    "Look for:\n",
    "1. Large segments of the ***chain*** (sequence of samples) should have give similar statistics (mean, variance etc)\n",
    "2. Low correlations within states of the chain\n",
    "3. \"Reasonably high\" acceptance rate of proposed steps\n",
    "4. Multiple chains initialized from different initial points give similar results\n",
    "\n",
    "Best practics:\n",
    "1. Always run multiple chains initialized from very different random starting points\n",
    "2. Always run your chains for as long as you can then burn and thin\n",
    "3. Always check all relevant convergence diagnostics\n",
    "4. Never be too certain: **remember that there is no \"proof\" of convergence for finite chains!**\n",
    "5. Keep reading about best practice!\n",
    "\n",
    "---\n",
    "\n",
    "#### What Are the Broader Impacts of MCMC Theory?\n",
    "\n",
    "1. How much technical know-how does it take to understand how MCMC samplers work?\n",
    "  - Do ML researchers need to understand how MCMC samplers work? How much do they need to understand?\n",
    "  - Do data scientists need to understand how MCMC samplers work? How much do they need to understand?\n",
    "  - Do domain experts (like clinicians) need to understand how MCMC samplers work? How much do they need to understand?\n",
    "  - How would each group of people know when the sampler has failed? <br><br>\n",
    "  \n",
    "2. How much do you **think** you need to understand in order to comfortably use MCMC samplers? Does your percieved technical overhead of understanding MCMC discourage you from using this method? Innovating in this field?<br><br>\n",
    "\n",
    "3. What kinds of power hierarchies are created by us using fancy models with fancy theory -- i.e. how much power do affected communities have in changing the technology or detecting/attributing fault? How can we equalize this distribution of power?"
   ]
  }
 ],
 "metadata": {
  "celltoolbar": "Slideshow",
  "kernelspec": {
   "display_name": "Python 3",
   "language": "python",
   "name": "python3"
  },
  "language_info": {
   "codemirror_mode": {
    "name": "ipython",
    "version": 3
   },
   "file_extension": ".py",
   "mimetype": "text/x-python",
   "name": "python",
   "nbconvert_exporter": "python",
   "pygments_lexer": "ipython3",
   "version": "3.7.4"
  }
 },
 "nbformat": 4,
 "nbformat_minor": 2
}
