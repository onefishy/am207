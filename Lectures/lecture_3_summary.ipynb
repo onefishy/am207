{
 "cells": [
  {
   "cell_type": "markdown",
   "metadata": {
    "slideshow": {
     "slide_type": "slide"
    }
   },
   "source": [
    "# Lecture #3: Bayesian Modeling\n",
    "## AM 207: Advanced Scientific Computing\n",
    "### Stochastic Methods for Data Analysis, Inference and Optimization\n",
    "### Fall, 2021"
   ]
  },
  {
   "cell_type": "markdown",
   "metadata": {
    "slideshow": {
     "slide_type": "slide"
    }
   },
   "source": [
    "<img src=\"fig/logos.jpg\" style=\"height:150px;\">"
   ]
  },
  {
   "cell_type": "markdown",
   "metadata": {
    "slideshow": {
     "slide_type": "slide"
    }
   },
   "source": [
    "## Lecture #3 Summary\n",
    "\n",
    "1. How do we evaluate the fit of our MLE model? \n",
    "\n",
    "  - With regression it's easy, you plug $x_n$ into $f_{\\theta_\\text{MLE}}(x)$ and then compare the prediction $\\widehat{y}_n$ with $y$. But what if we don't have any inputs, $x_n$, what if we just have $y_n$? In this case we would not be able to predict a $\\widehat{y}_n$ for a specific $y_n$.<br><br>\n",
    "  \n",
    "2. What are the potential drawbacks of MLE (in particular, under data scarcity)?\n",
    "\n",
    "  - What are some common fixes for the drawbacks of MLE? \n",
    "  - What are some potential issues with these fixes?<br><br>\n",
    "  \n",
    "3. What is the point of adding priors to our models? Specifically how does adding priors to our model mitigate some of the drawbacks of MLE?<br><br>\n",
    "\n",
    "4. How should we interpret the posterior of a Bayesian model and why?<br><br>\n",
    "\n",
    "5. What is a posterior predictive? What is the relationship between the posterior predictive and the posterior? What is the point of deriving the posterior predictive (i.e. once we derive the posterior isn't that enough)?<br><br>\n",
    "\n",
    "6. How do we evaluate a Bayesian model (the posterior is a distribution over plausible models not a single \"best\" model)?<br><br>\n",
    "\n",
    "7. How do we choose priors for Bayesian models? What if we chose wrong? Why did we choose a Beta prior for the binomial model for the coin flip data?"
   ]
  }
 ],
 "metadata": {
  "celltoolbar": "Slideshow",
  "kernelspec": {
   "display_name": "Python 3",
   "language": "python",
   "name": "python3"
  },
  "language_info": {
   "codemirror_mode": {
    "name": "ipython",
    "version": 3
   },
   "file_extension": ".py",
   "mimetype": "text/x-python",
   "name": "python",
   "nbconvert_exporter": "python",
   "pygments_lexer": "ipython3",
   "version": "3.7.4"
  }
 },
 "nbformat": 4,
 "nbformat_minor": 2
}
