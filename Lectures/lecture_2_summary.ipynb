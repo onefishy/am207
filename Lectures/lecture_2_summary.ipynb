{
 "cells": [
  {
   "cell_type": "markdown",
   "metadata": {
    "slideshow": {
     "slide_type": "slide"
    }
   },
   "source": [
    "# Lecture #2: Maximimum Likelihood Estimation\n",
    "## AM 207: Advanced Scientific Computing\n",
    "### Stochastic Methods for Data Analysis, Inference and Optimization\n",
    "### Fall, 2021"
   ]
  },
  {
   "cell_type": "markdown",
   "metadata": {
    "slideshow": {
     "slide_type": "slide"
    }
   },
   "source": [
    "<img src=\"fig/logos.jpg\" style=\"height:150px;\">"
   ]
  },
  {
   "cell_type": "markdown",
   "metadata": {
    "slideshow": {
     "slide_type": "slide"
    }
   },
   "source": [
    "## Annoucements & Discussion\n",
    "\n",
    "1. COVID protocol\n",
    "2. Quiz grades\n",
    "3. Look at the feedback on in-class exercises\n",
    "4. Do I have to work in a team?"
   ]
  },
  {
   "cell_type": "markdown",
   "metadata": {
    "slideshow": {
     "slide_type": "slide"
    }
   },
   "source": [
    "## Lecture #1 Summary\n",
    "\n",
    "1. **(Fitting Probabilistic Models)** Given a probabilistic model with parameters $\\theta$, i.e. a model that explicitly accounts for the noise in the data. We learn $\\theta$ that maximizes the likelihood of the observed data.\n",
    "  - **Sanity Check:** What is the noise model for the binomial model of coin tosses?<br><br>\n",
    "  \n",
    "2. **(Maximizing the Likelihood)** Maximizing the likelihood over $\\theta$ is an *optimization problem*. In an optimization problem, we by convention turn every maximization problem (e.g. maximize $g(\\theta)$) into a minimization problem (e.g. minimize $-g(\\theta)$) and then:\n",
    "\n",
    "  - if there are no constraints, we identify the stationary points of the objective function and verify that the objective function is convex. In this case, the stationary points are local min, and every local min is a global min.<br><br>\n",
    "  - if there are constraints, we identify the stationary points of the Lagrangian and verify that the objective function is convex and the equality constraints are affine. In this case, every stationary point is a global min.<br><br>\n",
    "  \n",
    "3. **(Why MLE)** Why should we learn $\\theta$ to maximize the likelihood? What is the philosophical basis for performing MLE?<br><br>\n",
    "\n",
    "4. **(What Are Desirable Properties of Estimators)** If we have a method to produce an estimate $\\widehat{\\theta}$ of the true model parameters $\\theta$, what properties would we want from our estimate?\n",
    "\n",
    "  - ***(Consistency)*** What is consistency and why do we, as practitioners, care?\n",
    "  - ***(Unbiasedness)*** What is unbiasedness and why do we, as practitioners, care?\n",
    "  - ***(Minimum Variance)*** What is minimum variance and why do we, as practitioners, care?<br><br>\n",
    "  \n",
    "5. **(Why Not MLE)** Which properties does MLE have? And which ones does it lack? What does this mean for practiioners using MLE - what do we need to watch out for?<br><br>\n",
    "\n",
    "6. **(Uncertainty)** We said that maximize the likelihood gives us one \"best\" estimate of the model parameters. But how can we get uncertainty on our estimates (e.g. what is bootstrapping)?"
   ]
  },
  {
   "cell_type": "markdown",
   "metadata": {
    "slideshow": {
     "slide_type": "slide"
    }
   },
   "source": [
    "## Broader Impact\n",
    "\n",
    "From the first in-class exercise you've already seen that model evaluation is far more than just computing the MSE or, indeed, any metric. Interpreting the model in the domain application is equally important:\n",
    "\n",
    "1. \"Gut checking\" the clinical meaning of the slope and y-intercept of a linear model can tell us if the model is appropriate.\n",
    "\n",
    "  - Why is it hard to \"gut check\" model for the dataset in Homework #0. What does this say about our typical ML model building pipeline?<br><br>\n",
    "  \n",
    "  - What if the model is not easy to interpret by looking at the parameters themselves? How do we know that our interpretations of models are accurate and objective? What is an \"accurate\" interpretation of a model anyways? Can models be \"objectively\" interpreted? (*Reading:  Towards A Rigorous Science of Interpretable Machine Learning*)<br><br>\n",
    "  \n",
    "  - What if the data has been preprocessed like in HW#0? What does this say about ML development pipelines where the ML experts are removed from the data cleaning, preprocessing step?\n",
    "  \n",
    "2. We've also see that for risk-adverse applications it's cruicial to get predictive uncertainty from our models.\n",
    "\n",
    "  - Why is predictive uncertainty useful? \n",
    "  - What is predictive uncertianty useful for?\n",
    "  - Under what real-life conditions would we need predcitive uncertainty?\n",
    "  \n",
    "  *(Reading: Second opinion needed: communicating uncertainty in medical machine learning, Uncertainty as a Form of Transparency: Measuring, Communicating, and Using Uncertainty)*"
   ]
  }
 ],
 "metadata": {
  "celltoolbar": "Slideshow",
  "kernelspec": {
   "display_name": "Python 3",
   "language": "python",
   "name": "python3"
  },
  "language_info": {
   "codemirror_mode": {
    "name": "ipython",
    "version": 3
   },
   "file_extension": ".py",
   "mimetype": "text/x-python",
   "name": "python",
   "nbconvert_exporter": "python",
   "pygments_lexer": "ipython3",
   "version": "3.7.4"
  }
 },
 "nbformat": 4,
 "nbformat_minor": 2
}
