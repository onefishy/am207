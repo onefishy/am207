{
 "cells": [
  {
   "cell_type": "markdown",
   "metadata": {
    "slideshow": {
     "slide_type": "slide"
    }
   },
   "source": [
    "# Lecture #10: Bayesian Latent Variable Models and Variational Inference\n",
    "## AM 207: Advanced Scientific Computing\n",
    "### Stochastic Methods for Data Analysis, Inference and Optimization\n",
    "### Fall, 2021"
   ]
  },
  {
   "cell_type": "markdown",
   "metadata": {
    "slideshow": {
     "slide_type": "slide"
    }
   },
   "source": [
    "<img src=\"fig/logos.jpg\" style=\"height:150px;\">"
   ]
  },
  {
   "cell_type": "code",
   "execution_count": 1,
   "metadata": {
    "slideshow": {
     "slide_type": "skip"
    }
   },
   "outputs": [],
   "source": [
    "### Import basic libraries\n",
    "import numpy as np\n",
    "import scipy as sp\n",
    "import pandas as pd\n",
    "import sklearn as sk\n",
    "from sklearn.linear_model import LinearRegression\n",
    "import matplotlib.pyplot as plt\n",
    "%matplotlib inline"
   ]
  },
  {
   "cell_type": "markdown",
   "metadata": {
    "slideshow": {
     "slide_type": "slide"
    }
   },
   "source": [
    "## Outline\n",
    "1. Bayesian Latent Variable Models\n",
    "2. Coordinate Ascent Variational Inference\n",
    "3. Bayesian Gaussian Mixture Models"
   ]
  },
  {
   "cell_type": "markdown",
   "metadata": {
    "slideshow": {
     "slide_type": "slide"
    }
   },
   "source": [
    "# Bayesian Latent Variable Models"
   ]
  },
  {
   "cell_type": "markdown",
   "metadata": {
    "slideshow": {
     "slide_type": "slide"
    }
   },
   "source": [
    "## Bayesian Latent Variable Models\n",
    "Overfitting is an always a concern when using MLE model parameters. We can mitigate the effect of outliers in the data on the model we learn by treating the parameters as random variables and placing priors on them. \n",
    "\n",
    "In a latent variable model, maximum liklihood inference treats parameters $\\theta$, $\\phi$ as unknown constants and produces point-estimates for them. In a Bayesian latent variable model, $\\theta$, $\\phi$ are random variables and we derive the posterior distribution over them.\n",
    "\n",
    "<img src=\"fig/bayesian_model.jpg\" style=\"height:220px;\">\n",
    "\n",
    "\n",
    "That is, we want to infer \n",
    "$$p(\\theta, \\phi, Z_1, \\ldots, Z_N|Y_1, \\ldots, Y_N, a, b) = \\frac{p(\\theta | a)p(\\phi|b)\\prod_{n}p(Y_n|Z_n, \\phi)p(Z_n|\\theta)}{\\prod_{n} p(Y_n)}.$$"
   ]
  },
  {
   "cell_type": "markdown",
   "metadata": {
    "slideshow": {
     "slide_type": "slide"
    }
   },
   "source": [
    "## Challenges in Bayesian Inference\n",
    "Unfortunately, most Bayesian models with multiple types of random variables (like Bayesian latent variable models) have complex posteriors that do not match known distributions. ***Exact inference*** is not possible. \n",
    "\n",
    "Sampling from the posterior may not always be the best option because:\n",
    "\n",
    "1. Convergence of samplers may be slow (due to high dimensionality of the distribution or multimodality)<br><br>\n",
    "\n",
    "2. Samplers like Metropolis-Hastings requires evaluating the liklihood $\\prod_n p(Y_n | Z_n, \\phi)$ in each iteration, if the observed data is large ($N$ is in the millions), this computation is expensive."
   ]
  },
  {
   "cell_type": "markdown",
   "metadata": {
    "slideshow": {
     "slide_type": "slide"
    }
   },
   "source": [
    "## The Idea of Variational Inference\n",
    "\n",
    "**Idea: (Approximate Inferenec)** Approximate the hard posterior $p(\\theta, \\phi, Z_1, \\ldots, Z_N|Y_1, \\ldots, Y_N)$ with a distribution $q$ that is easy to sample from (like a Gaussian). Any computation involving the posterior can now be done with $q$.\n",
    "\n",
    "This approximation of $p(\\theta, \\phi, Z_1, \\ldots, Z_N|Y_1, \\ldots, Y_N)$ with a distribution $q$ is called ***variational inference***.\n",
    "<img src=\"fig/variational.jpg\" style=\"height:220px;\">"
   ]
  },
  {
   "cell_type": "markdown",
   "metadata": {
    "slideshow": {
     "slide_type": "slide"
    }
   },
   "source": [
    "## The Design of the Variational Objective\n",
    "\n",
    "**Goal:** given a target posterior distribution $p(\\psi | Y_1, \\ldots, Y_N)$, $\\psi \\in \\mathbb{R}^I$ we want to find a distribution $q(\\psi |\\lambda^*)$ in a family of distributions $Q = \\{q(\\psi |\\lambda) | \\lambda \\in \\Lambda \\}$ such that $q(\\psi |\\lambda^*)$ best approximates $p$. \n",
    "\n",
    "**Design Choices:** we need to choose:\n",
    "\n",
    "A. ***(Variational family)*** a family $Q$ of candidate distributions for approximating $p$. The members of $Q$ are called the ***variational distributions***.\n",
    "\n",
    "  **Our Choice:**  we assume that the joint $q(\\psi)$ factorizes completely over each dimension of $\\psi$, i.e. $q(\\psi)= \\prod_{i=1}^I q(\\psi_i | \\lambda_i)$. This is called the ***mean field assumption***. What can go wrong with this design choice?\n",
    "  \n",
    "B. ***(Divergence measure)*** a divergence measure to quantify the difference between $p$ and $q$.\n",
    "\n",
    "  **Our Choice:** \n",
    "  $$D_{\\text{KL}}(q(\\psi | \\lambda) \\| p(\\psi | Y_1, \\ldots, Y_N)) = \\mathbb{E}_{\\psi \\sim q(\\psi|\\lambda)}\\left[\\log\\left( \\frac{q(\\psi | \\lambda)}{p(\\psi | Y_1, \\ldots, Y_N)} \\right) \\right]$$\n",
    "  What can go wrong with this design choice?\n",
    "  "
   ]
  },
  {
   "cell_type": "markdown",
   "metadata": {
    "slideshow": {
     "slide_type": "slide"
    }
   },
   "source": [
    "## Variational Inference as Optimization\n",
    "\n",
    "We now formalize variational inference for a target $p(\\psi)$: find $q(\\psi|\\lambda^*)$ where \n",
    "\n",
    "\\begin{aligned}\n",
    "\\lambda^* &= \\underset{\\lambda}{\\text{argmin}}\\; D_{\\text{KL}}(q(\\psi|\\lambda) \\| p(\\psi|Y_1, \\ldots, Y_N))) \\\\\n",
    "&= \\underset{\\lambda}{\\text{argmin}}\\; \\mathbb{E}_{\\psi \\sim q(\\psi|\\lambda)}\\left[\\log\\left(\\frac{q(\\psi | \\lambda)}{p(\\psi|Y_1, \\ldots, Y_N))}\\right) \\right]\n",
    "\\end{aligned}\n",
    "\n",
    "Recall that for EM, we had proved that minimizing the KL is equivalent to maximizing the ELBO (for which it is easier to compute the gradient). We will do the same here:\n",
    "\n",
    "\\begin{aligned}\n",
    "\\underset{\\lambda}{\\min}D_{\\text{KL}}(q(\\psi|\\lambda) \\| p(\\psi|Y_1, \\ldots, Y_N))) \\overset{\\text{equiv}}{\\equiv}& \\underset{\\lambda}{\\max} -D_{\\text{KL}}(q(\\psi|\\lambda) \\| p(\\psi|Y_1, \\ldots, Y_N))) \\\\\n",
    "=& \\underset{\\lambda}{\\max} -\\mathbb{E}_{\\psi \\sim q(\\psi|\\lambda)}\\left[\\log\\left(\\frac{q(\\psi | \\lambda)}{p(\\psi|Y_1, \\ldots, Y_N))} \\right)\\right] \\\\\n",
    "=& \\underset{\\lambda}{\\max}\\underbrace{\\mathbb{E}_{\\psi \\sim q(\\psi|\\lambda)}\\left[\\log\\left(\\frac{p(\\psi, Y_1, \\ldots, Y_N))}{q(\\psi | \\lambda)} \\right)\\right]}_{ELBO(\\lambda)} \\\\\n",
    "&- \\log p(Y_1, \\ldots, Y_N).\n",
    "\\end{aligned}\n",
    "\n",
    "Thus, the variational objective can be rephrased as maximizing the $ELBO$."
   ]
  },
  {
   "cell_type": "markdown",
   "metadata": {
    "slideshow": {
     "slide_type": "slide"
    }
   },
   "source": [
    "## Gradients of the ELBO\n",
    "\n",
    "Unfortunately, the ELBO for variational inference of the posterior does not have easy gradients,\n",
    "\n",
    "\\begin{aligned}\n",
    "\\nabla_{\\lambda}\\,\\underbrace{\\mathbb{E}_{\\psi \\sim q(\\psi|\\lambda)}\\left[\\log\\left(\\frac{p(\\psi, Y_1, \\ldots, Y_N)}{q(\\psi | \\lambda)} \\right)\\right]}_{ELBO(\\lambda)}.\n",
    "\\end{aligned}\n",
    "\n",
    "In particular, the issue is that the gradient taken is with respect to the parameter $\\psi$ of the distribution over which we are taking the expectation - i.e. we cannot push the gradient into the expectation.\n",
    "\n",
    "Today we will maximize the $ELBO$ using coordinate ascent (just as in the case of EM). But you'll see that ***coordinate ascent variational inference*** requires that we perform model specific computations (often in closed form). This restrict the class of Bayesian models for which we can perform variational inference.\n",
    "\n",
    "Two of the major development we will cover later in the semester address how to estimate this gradient **efficiently and without bias**."
   ]
  },
  {
   "cell_type": "markdown",
   "metadata": {
    "slideshow": {
     "slide_type": "slide"
    }
   },
   "source": [
    "## Coordinate Ascent Variational Inference"
   ]
  },
  {
   "cell_type": "markdown",
   "metadata": {
    "slideshow": {
     "slide_type": "skip"
    }
   },
   "source": [
    "<img src=\"fig/Lecture_10_derivation.pdf\" style=\"height:900px;\">"
   ]
  },
  {
   "cell_type": "markdown",
   "metadata": {
    "slideshow": {
     "slide_type": "slide"
    }
   },
   "source": [
    "## Maximizing the ELBO via Coordinate Ascent\n",
    "\n",
    "The coordinate ascent algorithm maximizes an objective function $ELBO(\\lambda)$ by iteratively maximizing over $\\lambda_i$, holding constant $\\lambda_{-i} = [\\lambda_1\\; \\ldots\\; \\lambda_{i-1}\\; \\lambda_{i+1}\\; \\ldots\\; \\lambda_{I}]$.\n",
    "\n",
    "The ***coordinate ascent variational inference algorithm***:\n",
    "0. **Initialization:** pick an intial value $\\lambda^{(0)}$\n",
    "1. **Coordinate-wise maximization:** \n",
    "\n",
    "   Repeat for $j=1, \\ldots, J$ iterations:\n",
    "\n",
    "   $\\quad\\quad$ Cycle thru $i=1, \\ldots, I$ coordinates:\n",
    "  \n",
    "$$q(\\psi_i | \\lambda^{\\text{new}}_i) \\propto \\exp\\left\\{ \\mathbb{E}_{\\psi_{-i} \\sim q(\\psi_{-i} | \\lambda^{\\text{new}}_{1}, \\ldots, \\lambda^{\\text{new}}_{i-1}, \\lambda^{\\text{old}}_{i+1}, \\ldots, \\lambda^{\\text{old}}_{I})}\\left[\\log p(Y_1, \\ldots, Y_N, \\psi)\\right]\\right\\}.$$\n",
    "       \n",
    "where $\\psi_{-i} = [\\psi_1\\; \\ldots\\; \\psi_{i-1}\\; \\psi_{i+1}\\; \\ldots\\; \\psi_{I}]$."
   ]
  },
  {
   "cell_type": "markdown",
   "metadata": {
    "slideshow": {
     "slide_type": "skip"
    }
   },
   "source": [
    "## Proof of the Update Rule for $q(\\psi_i | \\lambda^{\\text{new}}_i)$\n",
    "\n",
    "We want to show that $q(\\psi_i | \\lambda^{*}_i) \\propto \\exp\\left\\{ \\mathbb{E}_{\\psi_{-i} \\sim q(\\phi_{-i} | \\lambda_{-i})}\\left[\\log p(Y_1, \\ldots, Y_N, \\psi_i | \\psi_{-i})\\right]\\right\\}$, where\n",
    "\n",
    "$$\n",
    "\\lambda^{*}_i = \\underset{\\lambda_i}{\\max}\\underbrace{\\mathbb{E}_{\\psi \\sim q(\\psi|\\lambda)}\\left[\\log\\left(\\frac{p(\\psi, Y_1, \\ldots, Y_N))}{q(\\psi | \\lambda)} \\right)\\right]}_{ELBO(\\lambda)}.\n",
    "$$\n",
    "\n",
    "To maximize the $ELBO$, we will \n",
    "\n",
    "1. use the mean-field assumption to break up the expectation $\\mathbb{E}_{\\psi \\sim q(\\psi|\\lambda)}$ into an interated expectation $\\mathbb{E}_{\\psi_i \\sim q(\\psi_i|\\lambda_i)}\\mathbb{E}_{\\psi_{-i} \\sim q(\\psi_{-i}|\\lambda_{-i})}$\n",
    "2. we will rewrite the outer expectation $\\mathbb{E}_{\\psi_i \\sim q(\\psi_i|\\lambda_i)}$ as a negative KL-divergence\n",
    "3. we will maximize the negative KL-divergence by setting the two arguments of the divergence equal to each other\n",
    "\n",
    "For the following, we will use the following notation:\n",
    "\n",
    "\\begin{aligned}\n",
    "\\lambda_{-i} &= [\\lambda_1\\; \\ldots\\; \\lambda_{i-1}\\; \\lambda_{i+1}\\; \\ldots\\; \\lambda_{I}]\\\\\n",
    "\\psi_{-i} &= [\\psi_1\\; \\ldots\\; \\psi_{i-1}\\; \\psi_{i+1}\\; \\ldots\\; \\psi_{I}]\\\\\n",
    "q(\\psi_{-i}|\\lambda_{-i}) &= \\prod_{j\\neq i}q(\\psi_{j}|\\lambda_{j})\\\\\n",
    "\\Psi_{-i} &= \\bigcup_{j\\neq i} \\Psi_j\\\\\n",
    "d\\psi_{-1} &= d(\\psi_1, \\ldots, \\psi_{i-1}, \\psi_{i+1}, \\ldots, \\psi_{I})\n",
    "\\end{aligned}\n",
    "\n",
    "\n",
    "### Step 1: Show that $\\mathbb{E}_{\\psi \\sim q(\\psi|\\lambda)}[\\ldots] = \\mathbb{E}_{\\psi_i \\sim q(\\psi_i|\\lambda_i)}\\left[\\mathbb{E}_{\\psi_{-i} \\sim q(\\psi_{-i}|\\lambda_{-i})}[\\ldots] \\right]$\n",
    "\n",
    "For step 1, we rewrite the ELBO:\n",
    "\n",
    "\\begin{aligned}\n",
    "\\underbrace{\\mathbb{E}_{\\psi \\sim q(\\psi|\\lambda)}\\left[\\log\\left(\\frac{p(\\psi, Y_1, \\ldots, Y_N))}{q(\\psi | \\lambda)} \\right)\\right]}_{ELBO(\\lambda)} &= \\int_{\\Psi} \\left[ \\log \\left(\\frac{p(Y_1, \\ldots, Y_N, \\psi)}{q(\\psi|\\lambda)} \\right)\\right]q(\\psi|\\lambda) d\\psi\\\\\n",
    "&= \\int_{\\Psi_i} \\int_{\\Psi_{-i}} \\left[ \\log \\left(\\frac{p(Y_1, \\ldots, Y_N, \\psi_i | \\psi_{-i})p(\\psi_{-i})}{q(\\psi_{i}|\\lambda_{i})q(\\psi_{-i}|\\lambda_{-i})} \\right)\\right] q(\\psi_{i}|\\lambda_{i})q(\\psi_{-i}|\\lambda_{-i}) d\\psi_{-i}d\\psi_i\\quad (\\text{Fubini's Theorem})\\\\\n",
    "&= \\int_{\\Psi_i} \\left[\\int_{\\Psi_{-i}} \\left[ \\log \\left(\\frac{p(Y_1, \\ldots, Y_N, \\psi_i | \\psi_{-i})p(\\psi_{-i})}{q(\\psi_{i}|\\lambda_{i})q(\\psi_{-i}|\\lambda_{-i})} \\right)\\right] q(\\psi_{-i}|\\lambda_{-i}) d\\psi_{-i} \\right] q(\\psi_{i}|\\lambda_{i})d\\psi_i\\\\\n",
    "&= \\mathbb{E}_{\\psi_i \\sim q(\\psi_i|\\lambda_i)}\\left[\\mathbb{E}_{\\psi_{-i} \\sim q(\\psi_{-i}|\\lambda_{-i})} \\left[\\log \\left(\\frac{p(Y_1, \\ldots, Y_N, \\psi_i | \\psi_{-i})p(\\psi_{-i})}{q(\\psi_{i}|\\lambda_{i})q(\\psi_{-i}|\\lambda_{-i})} \\right)\\right]\\right]\n",
    "\\end{aligned}\n",
    "\n",
    "Now we decompose the ELBO into terms containing $\\lambda_i$, over which we are going to optimize, and terms not containing $\\lambda_i$:\n",
    "\n",
    "\\begin{aligned}\n",
    "ELBO(\\lambda)&=\\mathbb{E}_{\\psi_i \\sim q(\\psi_i|\\lambda_i)}\\left[\\mathbb{E}_{\\psi_{-i} \\sim q(\\psi_{-i}|\\lambda_{-i})} \\left[\\log \\left(\\frac{p(Y_1, \\ldots, Y_N, \\psi_i | \\psi_{-i})p(\\psi_{-i})}{q(\\psi_{i}|\\lambda_{i})q(\\psi_{-i}|\\lambda_{-i})} \\right)\\right]\\right]\\\\\n",
    "&= \\mathbb{E}_{\\psi_i \\sim q(\\psi_i|\\lambda_i)}\\left[\\mathbb{E}_{\\psi_{-i} \\sim q(\\psi_{-i}|\\lambda_{-i})} \\left[\\log \\left(\\frac{p(Y_1, \\ldots, Y_N, \\psi_i | \\psi_{-i})}{q(\\psi_{i}|\\lambda_{i})} \\right) + \\log\\left(\\frac{p(\\psi_{-i})}{q(\\psi_{-i}|\\lambda_{-i})} \\right)\\right]\\right]\\\\\n",
    "&= \\mathbb{E}_{\\psi_i \\sim q(\\psi_i|\\lambda_i)}\\left[\\mathbb{E}_{\\psi_{-i} \\sim q(\\psi_{-i}|\\lambda_{-i})} \\left[\\log \\left(\\frac{p(Y_1, \\ldots, Y_N, \\psi_i | \\psi_{-i})}{q(\\psi_{i}|\\lambda_{i})} \\right)\\right]\\right] + \\mathbb{E}_{\\psi_i \\sim q(\\psi_i|\\lambda_i)}\\left[\\mathbb{E}_{\\psi_{-i} \\sim q(\\psi_{-i}|\\lambda_{-i})} \\left[\\log\\left(\\frac{p(\\psi_{-i})}{q(\\psi_{-i}|\\lambda_{-i})} \\right)\\right]\\right]\\\\\n",
    "&= \\mathbb{E}_{\\psi_i \\sim q(\\psi_i|\\lambda_i)}\\left[\\mathbb{E}_{\\psi_{-i} \\sim q(\\psi_{-i}|\\lambda_{-i})} \\left[\\log \\left(\\frac{p(Y_1, \\ldots, Y_N, \\psi_i | \\psi_{-i})}{q(\\psi_{i}|\\lambda_{i})} \\right)\\right]\\right] + \\underbrace{\\mathbb{E}_{\\psi_{-i} \\sim q(\\psi_{-i}|\\lambda_{-i})} \\left[\\log\\left(\\frac{p(\\psi_{-i})}{q(\\psi_{-i}|\\lambda_{-i})} \\right)\\right]}_{\\text{constant with respect to }\\lambda_i}\\\\\n",
    "\\end{aligned}\n",
    "\n",
    "Note that we don't need to consider the constant term when optimizing with respect to $\\lambda_i$.\n",
    "\n",
    "### Step 2: Show that $\\underset{\\lambda_i}{\\max}\\mathbb{E}_{\\psi_i \\sim q(\\psi_i|\\lambda_i)}[\\ldots] \\equiv \\underset{\\lambda_i}{\\min} D_{\\text{KL}}[\\ldots]$\n",
    "\n",
    "We show that maximizing the $ELBO$ with respect to $\\lambda_{i}$ is equivalent to minimizing a KL-divergence:\n",
    "\n",
    "\\begin{aligned}\n",
    "\\underset{\\lambda_i}{\\max} ELBO(\\lambda) &= \\underset{\\lambda_i}{\\max} \\mathbb{E}_{\\psi_i \\sim q(\\psi_i|\\lambda_i)}\\left[\\mathbb{E}_{\\psi_{-i} \\sim q(\\psi_{-i}|\\lambda_{-i})} \\left[\\log \\left(\\frac{p(Y_1, \\ldots, Y_N, \\psi_i | \\psi_{-i})}{q(\\psi_{i}|\\lambda_{i})} \\right)\\right]\\right]\\\\\n",
    "&= \\underset{\\lambda_i}{\\max} \\mathbb{E}_{\\psi_i \\sim q(\\psi_i|\\lambda_i)}\\left[\\mathbb{E}_{\\psi_{-i} \\sim q(\\psi_{-i}|\\lambda_{-i})} \\left[\\log \\left(p(Y_1, \\ldots, Y_N, \\psi_i | \\psi_{-i}) \\right)\\right] - \\mathbb{E}_{\\psi_{-i} \\sim q(\\psi_{-i}|\\lambda_{-i})} \\left[\\log\\left(q(\\psi_{i}|\\lambda_{i})\\right)\\right]\\right]\\\\\n",
    "&= \\underset{\\lambda_i}{\\max} \\mathbb{E}_{\\psi_i \\sim q(\\psi_i|\\lambda_i)}\\left[\\mathbb{E}_{\\psi_{-i} \\sim q(\\psi_{-i}|\\lambda_{-i})} \\left[\\log \\left(p(Y_1, \\ldots, Y_N, \\psi_i | \\psi_{-i}) \\right)\\right] - \\log\\left(q(\\psi_{i}|\\lambda_{i})\\right)\\right]\\\\\n",
    "&= \\underset{\\lambda_i}{\\max} \\mathbb{E}_{\\psi_i \\sim q(\\psi_i|\\lambda_i)}\\left[ \\log \\left(\\exp\\left\\{\\mathbb{E}_{\\psi_{-i} \\sim q(\\psi_{-i}|\\lambda_{-i})} \\left[\\log \\left(p(Y_1, \\ldots, Y_N, \\psi_i | \\psi_{-i}) \\right)\\right] - \\log\\left(q(\\psi_{i}|\\lambda_{i})\\right)\\right\\}\\right)\\right]\\quad (\\text{adding both a log and an exp})\\\\\n",
    "&= \\underset{\\lambda_i}{\\max} \\mathbb{E}_{\\psi_i \\sim q(\\psi_i|\\lambda_i)}\\left[ \\log \\left(\\frac{\\exp\\left\\{\\mathbb{E}_{\\psi_{-i} \\sim q(\\psi_{-i}|\\lambda_{-i})} \\left[\\log \\left(p(Y_1, \\ldots, Y_N, \\psi_i | \\psi_{-i}) \\right)\\right]\\right\\} } {\\exp \\left\\{\\log\\left(q(\\psi_{i}|\\lambda_{i})\\right)\\right\\}} \\right)\\right]\\\\\n",
    "&= \\underset{\\lambda_i}{\\max} \\mathbb{E}_{\\psi_i \\sim q(\\psi_i|\\lambda_i)}\\left[ \\log \\left(\\frac{\\exp\\left\\{\\mathbb{E}_{\\psi_{-i} \\sim q(\\psi_{-i}|\\lambda_{-i})} \\left[\\log \\left(p(Y_1, \\ldots, Y_N, \\psi_i | \\psi_{-i}) \\right)\\right]\\right\\} } {q(\\psi_{i}|\\lambda_{i})} \\right)\\right]\\\\\n",
    "&\\equiv \\underset{\\lambda_i}{\\min} -\\mathbb{E}_{\\psi_i \\sim q(\\psi_i|\\lambda_i)}\\left[ \\log \\left(\\frac{\\exp\\left\\{\\mathbb{E}_{\\psi_{-i} \\sim q(\\psi_{-i}|\\lambda_{-i})} \\left[\\log \\left(p(Y_1, \\ldots, Y_N, \\psi_i | \\psi_{-i}) \\right)\\right]\\right\\} } {q(\\psi_{i}|\\lambda_{i})} \\right)\\right]\\\\\n",
    "&= \\underset{\\lambda_i}{\\min} \\underbrace{\\mathbb{E}_{\\psi_i \\sim q(\\psi_i|\\lambda_i)}\\left[ \\log \\left(\\frac{ q(\\psi_{i}|\\lambda_{i}) } {\\exp\\left\\{\\mathbb{E}_{\\psi_{-i} \\sim q(\\psi_{-i}|\\lambda_{-i})} \\left[\\log \\left(p(Y_1, \\ldots, Y_N, \\psi_i | \\psi_{-i}) \\right)\\right]\\right\\} } \\right)\\right]}_{\\text{looks like a KL except the denominator is not a distribution}}\\quad (\\text{using the properties of log})\\\\\n",
    "&= \\underset{\\lambda_i}{\\min} \\mathbb{E}_{\\psi_i \\sim q(\\psi_i|\\lambda_i)}\\left[ \\log \\left(\\frac{ \\mathcal{Z} q(\\psi_{i}|\\lambda_{i}) } {\\mathcal{Z}\\exp\\left\\{\\mathbb{E}_{\\psi_{-i} \\sim q(\\psi_{-i}|\\lambda_{-i})} \\left[\\log \\left(p(Y_1, \\ldots, Y_N, \\psi_i | \\psi_{-i}) \\right)\\right]\\right\\} } \\right)\\right],\\quad (\\mathcal{Z} \\text{ normalizes the denominator})\\\\\n",
    "&= \\underset{\\lambda_i}{\\min} \\mathbb{E}_{\\psi_i \\sim q(\\psi_i|\\lambda_i)}\\left[ \\log \\left(\\frac{  q(\\psi_{i}|\\lambda_{i}) } {\\mathcal{Z}\\exp\\left\\{\\mathbb{E}_{\\psi_{-i} \\sim q(\\psi_{-i}|\\lambda_{-i})} \\left[\\log \\left(p(Y_1, \\ldots, Y_N, \\psi_i | \\psi_{-i}) \\right)\\right]\\right\\} } \\right)\\right] +\\mathbb{E}_{\\psi_i \\sim q(\\psi_i|\\lambda_i)}\\left[ \\log(\\mathcal{Z})\\right] \\\\\n",
    "&= \\underset{\\lambda_i}{\\min} \\mathbb{E}_{\\psi_i \\sim q(\\psi_i|\\lambda_i)}\\left[ \\log \\left(\\frac{  q(\\psi_{i}|\\lambda_{i}) } {\\mathcal{Z}\\exp\\left\\{\\mathbb{E}_{\\psi_{-i} \\sim q(\\psi_{-i}|\\lambda_{-i})} \\left[\\log \\left(p(Y_1, \\ldots, Y_N, \\psi_i | \\psi_{-i}) \\right)\\right]\\right\\} } \\right)\\right] +\\log(\\mathcal{Z})\\\\\n",
    "&= \\underset{\\lambda_i}{\\min} \\mathbb{E}_{\\psi_i \\sim q(\\psi_i|\\lambda_i)}\\left[ \\log \\left(\\frac{  q(\\psi_{i}|\\lambda_{i}) } {\\mathcal{Z}\\exp\\left\\{\\mathbb{E}_{\\psi_{-i} \\sim q(\\psi_{-i}|\\lambda_{-i})} \\left[\\log \\left(p(Y_1, \\ldots, Y_N, \\psi_i | \\psi_{-i}) \\right)\\right]\\right\\} } \\right)\\right]\\\\\n",
    "&= \\underset{\\lambda_i}{\\min}D_{\\text{KL}} \\left[ q(\\psi_{i}|\\lambda_{i})\\| \\mathcal{Z}\\exp\\left\\{\\mathbb{E}_{\\psi_{-i} \\sim q(\\psi_{-i}|\\lambda_{-i})} \\left[\\log \\left(p(Y_1, \\ldots, Y_N, \\psi_i | \\psi_{-i}) \\right)\\right]\\right\\}\\right].\n",
    "\\end{aligned}\n",
    "\n",
    "### Step 3: Minimize the KL-divergence\n",
    "\n",
    "We see that \n",
    "\n",
    "$$\n",
    "D_{\\text{KL}} \\left[ q(\\psi_{i}|\\lambda_{i})\\| \\mathcal{Z}\\exp\\left\\{\\mathbb{E}_{\\psi_{-i} \\sim q(\\psi_{-i}|\\lambda_{-i})} \\left[\\log \\left(p(Y_1, \\ldots, Y_N, \\psi_i | \\psi_{-i}) \\right)\\right]\\right\\}\\right]\n",
    "$$\n",
    "\n",
    "is minimized when \n",
    "\n",
    "$$\n",
    " q(\\psi_{i}|\\lambda_{i})\\propto \\exp\\left\\{\\mathbb{E}_{\\psi_{-i} \\sim q(\\psi_{-i}|\\lambda_{-i})} \\left[\\log \\left(p(Y_1, \\ldots, Y_N, \\psi_i | \\psi_{-i}) \\right)\\right]\\right\\}.\n",
    "$$\n",
    "\n",
    "This is also exactly where the ELBO is maximized.\n",
    "\n",
    "We can further rewrite the update rule for $ q(\\psi_{i}|\\lambda_{i})$ as:\n",
    "\n",
    "\\begin{aligned}\n",
    " q(\\psi_{i}|\\lambda_{i})&\\propto \\exp\\left\\{\\mathbb{E}_{\\psi_{-i} \\sim q(\\psi_{-i}|\\lambda_{-i})} \\left[\\log \\left(p(Y_1, \\ldots, Y_N, \\psi_i | \\psi_{-i}) \\right)\\right]\\right\\}\\\\\n",
    " &= \\exp\\left\\{\\mathbb{E}_{\\psi_{-i} \\sim q(\\psi_{-i}|\\lambda_{-i})} \\left[\\log \\left(p(Y_1, \\ldots, Y_N, \\psi_i | \\psi_{-i}) \\right)p(\\psi_{-i})\\right] - \\mathbb{E}_{\\psi_{-i} \\sim q(\\psi_{-i}|\\lambda_{-i})} \\left[\\log p(\\psi_{-i})\\right]\\right\\}\\\\\n",
    " &= \\frac{\\exp\\left\\{\\mathbb{E}_{\\psi_{-i} \\sim q(\\psi_{-i}|\\lambda_{-i})} \\left[\\log \\left(p(Y_1, \\ldots, Y_N, \\psi_i | \\psi_{-i}) \\right)p(\\psi_{-i})\\right]\\right\\}}{\\exp\\left\\{\\mathbb{E}_{\\psi_{-i} \\sim q(\\psi_{-i}|\\lambda_{-i})}  \\left[\\log p(\\psi_{-i})\\right]\\right\\}}\\\\\n",
    " &\\propto \\exp\\left\\{\\mathbb{E}_{\\psi_{-i} \\sim q(\\psi_{-i}|\\lambda_{-i})} \\left[\\log \\left(p(Y_1, \\ldots, Y_N, \\psi_i | \\psi_{-i}) \\right)p(\\psi_{-i})\\right]\\right\\}\\\\\n",
    " &= \\exp\\left\\{\\mathbb{E}_{\\psi_{-i} \\sim q(\\psi_{-i}|\\lambda_{-i})} \\left[\\log \\left(p(Y_1, \\ldots, Y_N, \\psi) \\right)\\right]\\right\\}\n",
    "\\end{aligned}\n",
    "\n",
    "The rational for rewriting the update for $q(\\psi_{i}|\\lambda_{i})$ in terms of the joint $p(Y_1, \\ldots, Y_N, \\psi)$ is that the joint is easy to compute.\n"
   ]
  },
  {
   "cell_type": "markdown",
   "metadata": {
    "slideshow": {
     "slide_type": "slide"
    }
   },
   "source": [
    "## Bayesian Gaussian Mixture Models"
   ]
  },
  {
   "cell_type": "markdown",
   "metadata": {
    "slideshow": {
     "slide_type": "slide"
    }
   },
   "source": [
    "## Variational Inference for Bayesian Gaussian Mixture Models\n",
    "We consider a Bayesian model for a mixture of $K$ number of univariate Gaussians:\n",
    "\n",
    "<img src=\"fig/bayesian_gmm.jpg\" style=\"height:250px;\">\n",
    "\n",
    "The ***hyperparameters*** of the models are $\\pi, \\sigma^2, m_0, s^2_0$, which are constants that must be selected prior to inference. For example, to simplify our computations we selected $\\pi = [1/K, \\ldots, 1/K]$, $m_0 = 0$, $\\sigma=1$.\n",
    "\n",
    "We make the mean field assumption -- that our variational posterior factorizes completely:\n",
    "\n",
    "$$q(Z, \\mu| m, s^2, \\phi) = \\prod_{k=1}^K q(\\mu_k|m_k, s_k^2) \\prod_{n=1}^N q(Z_n|\\phi_n).$$"
   ]
  },
  {
   "cell_type": "markdown",
   "metadata": {
    "slideshow": {
     "slide_type": "skip"
    }
   },
   "source": [
    "## Coordinate Ascent Variational Inference Updates for Bayesian GMM\n",
    "\n",
    "In coordinate ascent variational inference, we update the variational distribution for each variable in turn. For the Bayesian GMM this means:\n",
    "\n",
    "\\begin{aligned}\n",
    "q(Z_n | \\phi_n) &\\propto \\exp\\left\\{ \\mathbb{E}_{\\mu \\sim q(\\mu | m, s^2), Z_{-n} \\sim q(Z_{-n} | \\phi_{-n})}\\left[\\log p(Y_1, \\ldots, Y_N, Z_1, \\ldots, Z_N, \\mu)\\right]\\right\\}\\\\\n",
    "q(\\mu_k | m_k, s_k^2) &\\propto \\exp\\left\\{ \\mathbb{E}_{Z \\sim q(Z | \\phi), q(\\mu_{-k}|m_{-k}, s_{-k})}\\left[\\log p(Y_1, \\ldots, Y_N, Z_1, \\ldots, Z_N, \\mu)\\right]\\right\\}\n",
    "\\end{aligned}\n",
    "\n",
    "where \n",
    "\n",
    "\\begin{aligned}\n",
    "q(\\mu | m, s^2) &= \\prod_{k=1}^K q(\\mu_k|m_k, s_k^2),\\\\\n",
    "q(\\mu_{-k} | m_{-k}, s_{-k}^2) &= \\prod_{j\\neq k} q(\\mu_j|m_j, s_j^2),\\\\\n",
    "Z &= [Z_1\\;\\;\\ldots\\;\\; Z_N],\\\\\n",
    "q(Z |\\phi) &= \\prod_{n=1}^N q(Z_n|\\phi_n),\\\\\n",
    "Z_{-n} &= [Z_1\\;\\;\\ldots\\;\\;Z_{n-1}\\;\\; Z_{n+1}\\;\\;\\ldots\\;\\; Z_N],\\\\\n",
    "q(Z_{-n} |\\phi_{-n}) &= \\prod_{m\\neq n} q(Z_m|\\phi_m).\n",
    "\\end{aligned}\n",
    "\n",
    "\n",
    "### Update rule for $q(Z_n | \\phi_n)$\n",
    "\n",
    "To update $q(Z_n | \\phi_n)$, we rewrite $exp\\left\\{ \\mathbb{E}_{\\mu \\sim q(\\mu | m, s^2), Z_{-n} \\sim q(Z_{-n} | \\phi_{-n})}\\left[\\log p(Y_1, \\ldots, Y_N, Z_1, \\ldots, Z_N, \\mu)\\right]\\right\\}$, dropping all terms that do not involve $Z_n$ and $\\mu$:\n",
    "\n",
    "\\begin{aligned}\n",
    "q(Z_n | \\phi_n) &\\propto \\exp\\left\\{ \\mathbb{E}_{\\mu \\sim q(\\mu | m, s^2), Z_{-n} \\sim q(Z_{-n} | \\phi_{-n})}\\left[\\log p(Y_1, \\ldots, Y_N, Z_1, \\ldots, Z_N, \\mu)\\right]\\right\\}\\\\\n",
    "&= \\exp\\left\\{ \\mathbb{E}_{\\mu \\sim q(\\mu | m, s^2), Z_{-n} \\sim q(Z_{-n} | \\phi_{-n})}\\left[\\log \\left(\\prod_{m=1}^N p(Y_m|\\mu, Z_m) p(Z_m)\\right)p(\\mu)\\right]\\right\\}\\\\\n",
    "&= \\exp\\left\\{ \\mathbb{E}_{\\mu \\sim q(\\mu | m, s^2), Z_{-n} \\sim q(Z_{-n} | \\phi_{-n})}\\left[\\log \\left(\\prod_{m=1}^N p(Y_m|\\mu, Z_m) p(Z_m)\\right)\\right] + \\log[p(\\mu)]\\right\\}\\\\\n",
    "&= \\exp\\left\\{ \\mathbb{E}_{\\mu \\sim q(\\mu | m, s^2), Z_{-n} \\sim q(Z_{-n} | \\phi_{-n})}\\left[\\log \\left(\\prod_{m=1}^N p(Y_m|\\mu, Z_m) p(Z_m)\\right)\\right]\\right\\} \\exp\\left\\{ \\log[p(\\mu)]\\right\\}\\\\\n",
    "&\\propto \\exp\\left\\{ \\mathbb{E}_{\\mu \\sim q(\\mu | m, s^2), Z_{-n} \\sim q(Z_{-n} | \\phi_{-n})}\\left[\\log \\left(\\prod_{m=1}^N p(Y_m|\\mu, Z_m) p(Z_m)\\right)\\right]\\right\\}\\quad\\quad (\\text{dropped priors on $\\mu$})\\\\\n",
    "&= \\exp\\left\\{ \\mathbb{E}_{\\mu \\sim q(\\mu | m, s^2), Z_{-n} \\sim q(Z_{-n} | \\phi_{-n})}\\left[\\log \\left(p(Y_n | \\mu, Z_n) p(Z_n) \\prod_{m\\neq n} p(Y_m|\\mu, Z_m) p(Z_m)\\right)\\right]\\right\\}\\\\\n",
    "&=  \\exp\\left\\{ \\mathbb{E}_{\\mu \\sim q(\\mu | m, s^2), Z_{-n} \\sim q(Z_{-n} | \\phi_{-n})}\\left[ \\log p(Y_n | \\mu, Z_n) + \\log p(Z_n) + \\sum_{m\\neq n} \\log \\left( p(Y_m|\\mu, Z_m) p(Z_m)\\right) \\right]\\right\\}\\\\\n",
    "&=  \\exp\\left\\{ \\mathbb{E}_{\\mu \\sim q(\\mu | m, s^2)}\\left[ \\log p(Y_n | \\mu, Z_n) + \\log p(Z_n)\\right] +  \\mathbb{E}_{\\mu \\sim q(\\mu | m, s^2), Z_{-n} \\sim q(Z_{-n} | \\phi_{-n})}\\left[\\sum_{m\\neq n} \\log \\left( p(Y_m|\\mu, Z_m) p(Z_m)\\right) \\right]\\right\\}\\\\\n",
    "&=  \\exp\\left\\{ \\mathbb{E}_{\\mu \\sim q(\\mu | m, s^2)}\\left[ \\log p(Y_n | \\mu, Z_n) + \\log p(Z_n)\\right]\\right\\} \\underbrace{\\exp\\left\\{\\mathbb{E}_{\\mu \\sim q(\\mu | m, s^2), Z_{-n} \\sim q(Z_{-n} | \\phi_{-n})}\\left[\\sum_{m\\neq n} \\log \\left( p(Y_m|\\mu, Z_m) p(Z_m)\\right) \\right]\\right\\}}_{\\text{constant with respect to $Z_n$}}\\\\\n",
    "&\\propto  \\exp\\left\\{ \\mathbb{E}_{\\mu \\sim q(\\mu | m, s^2)}\\left[ \\log p(Y_n | \\mu, Z_n) + \\log p(Z_n)\\right]\\right\\} \\quad\\quad (\\text{dropped all terms except for the $n$-th})\\\\\n",
    "&= \\exp\\left\\{ \\mathbb{E}_{\\mu \\sim q(\\mu | m, s^2)}\\left[ \\log p(Y_n | \\mu, Z_n) \\right]+ \\mathbb{E}_{\\mu \\sim q(\\mu | m, s^2)} \\left[\\log p(Z_n)\\right]\\right\\}\\\\\n",
    "&= \\exp\\left\\{ \\mathbb{E}_{\\mu \\sim q(\\mu | m, s^2)}\\left[ \\log p(Y_n | \\mu, Z_n) \\right]+ \\log p(Z_n)\\right\\}\\\\\n",
    "&= \\exp\\left\\{ \\mathbb{E}_{\\mu \\sim q(\\mu | m, s^2)}\\left[ \\log p(Y_n | \\mu, Z_n) \\right]+ \\log \\frac{1}{K}\\right\\}\\\\\n",
    "&= \\exp\\left\\{ \\mathbb{E}_{\\mu \\sim q(\\mu | m, s^2)}\\left[ \\log p(Y_n | \\mu, Z_n) \\right]\\right\\} \\exp\\left\\{\\log \\frac{1}{K}\\right\\}\\\\\n",
    "&\\propto \\exp\\left\\{ \\mathbb{E}_{\\mu \\sim q(\\mu | m, s^2)}\\left[ \\log p(Y_n | \\mu, Z_n) \\right]\\right\\}\\quad\\quad (\\text{dropped the prior on $Z_n$})\\\\\n",
    "\\end{aligned}\n",
    "\n",
    "The likelihood $p(Y_n | \\mu, Z_n)$ is a normal distribution given the value of $Z_n$, we can express this by treating each $Z_n$ as an indicator variable -- a $K$-dimensional binary vector with $Z_{nk}=1$ if $Y_n$ is in class $k$ and 0 otherwise. Thus, we can write\n",
    "\\begin{aligned}\n",
    "\\log p(Y_n | \\mu, Z_n) &= \\log \\prod_{k=1}^K \\mathcal{N}(Y_n; \\mu_k, 1)^{Z_{nk}}\\\\\n",
    "&= \\sum_{k=1}^K Z_{nk} \\log \\mathcal{N}(Y_n; \\mu_k, 1)\\\\\n",
    "&= -\\frac{1}{2}\\sum_{k=1}^K Z_{nk} (Y_n - \\mu_k)^2 + const\\\\\n",
    "\\end{aligned}\n",
    "\n",
    "Finally, we can write the update for $q(Z_n | \\phi_n)$ as follows, again dropping all terms not involving $Z_n$ and $\\mu$:\n",
    "\n",
    "\\begin{aligned}\n",
    "q(Z_n | \\phi_n) &\\propto  \\exp\\left\\{ \\mathbb{E}_{\\mu \\sim q(\\mu | m, s^2)}\\left[ -\\frac{1}{2}\\sum_{k=1}^K Z_{nk} (Y_n - \\mu_k)^2 + const\\right]\\right\\}\\\\\n",
    "&= \\exp\\left\\{ \\mathbb{E}_{\\mu \\sim q(\\mu | m, s^2)}\\left[ -\\frac{1}{2}\\sum_{k=1}^K Z_{nk} (Y_n - \\mu_k)^2\\right]\\right\\} \\exp\\left\\{\\mathbb{E}_{\\mu \\sim q(\\mu | m, s^2)} \\left[const\\right]\\right\\}\\\\\n",
    "&\\propto \\exp\\left\\{ \\mathbb{E}_{\\mu \\sim q(\\mu | m, s^2)}\\left[ -\\frac{1}{2}\\sum_{k=1}^K Z_{nk} (Y_n - \\mu_k)^2\\right]\\right\\}\\\\\n",
    "&= \\exp\\left\\{  -\\frac{1}{2}\\sum_{k=1}^K Z_{nk} \\mathbb{E}_{\\mu \\sim q(\\mu | m, s^2)}\\left[Y^2_n - 2Y_n\\mu_k + \\mu_k^2\\right]\\right\\}\\\\\n",
    "&= \\exp\\left\\{  -\\frac{1}{2}\\sum_{k=1}^K Z_{nk} \\left(\\mathbb{E}_{\\mu \\sim q(\\mu | m, s^2)}\\left[Y^2_n\\right] - 2Y_n\\mathbb{E}_{\\mu \\sim q(\\mu | m, s^2)}\\left[\\mu_k\\right] + \\mathbb{E}_{\\mu \\sim q(\\mu | m, s^2)}\\left[\\mu_k^2\\right]\\right)\\right\\}\\\\\n",
    "&= \\exp\\left\\{  -\\frac{1}{2}\\sum_{k=1}^K Z_{nk} \\left(Y^2_n - 2Y_nm_k + (m_k + s_k^2)\\right)\\right\\}\\\\\n",
    "&= \\exp\\left\\{  -\\sum_{k=1}^K Z_{nk} Y^2_n  +\\sum_{k=1}^KZ_{nk}\\left( Y_nm_k - \\frac{(m_k + s_k^2)}{2}\\right) \\right\\}\\\\\n",
    "&= \\exp\\left\\{  -\\sum_{k=1}^K Z_{nk} Y^2_n\\right\\} \\exp\\left\\{ \\sum_{k=1}^KZ_{nk}\\left( Y_nm_k - \\frac{(m_k + s_k^2)}{2}\\right) \\right\\}\\\\\n",
    "&\\propto \\exp\\left\\{\\sum_{k=1}^KZ_{nk}\\left( Y_nm_k - \\frac{(m_k + s_k^2)}{2}\\right) \\right\\}\n",
    "\\end{aligned}\n",
    "\n",
    "Since $q(Z_n | \\phi_n)$ is a categorical distribution, we can use the above to compute the $k$-th component as:\n",
    "\n",
    "\\begin{aligned}\n",
    "\\phi_{nk}\\propto \\exp\\left\\{ Y_n m_k - \\frac{(m_k + s_k^2)}{2} \\right\\}\n",
    "\\end{aligned}\n",
    "\n",
    "\n",
    "### Update rule for $q(\\mu_k | m_k, s_k^2)$\n",
    "\n",
    "To update $q(\\mu_k | m_k, s_k^2)$, we compute:\n",
    "\\begin{aligned}\n",
    "q(\\mu_k | m_k, s_k^2) &\\propto \\exp\\left\\{ \\mathbb{E}_{Z \\sim q(Z | \\phi), q(\\mu_{-k}|m_{-k}, s_{-k})}\\left[\\log p(Y_1, \\ldots, Y_N, \\psi)\\right]\\right\\}\\\\\n",
    "&= \\exp\\left\\{ \\mathbb{E}_{Z \\sim q(Z | \\phi), q(\\mu_{-k}|m_{-k}, s_{-k})}\\left[\\log \\left(\\prod_{n=1}^N p(Y_n|\\mu, Z_n) p(Z_n)\\right) p(\\mu)\\right] \\right\\}\\\\\n",
    "&= \\exp\\left\\{ \\mathbb{E}_{Z \\sim q(Z | \\phi), q(\\mu_{-k}|m_{-k}, s_{-k})}\\left[\\log \\left(\\prod_{n=1}^N p(Y_n|\\mu, Z_n) \\right) p(\\mu)\\right]  +  \\log \\prod_{n=1}^N p(Z_n) \\right\\}\\\\\n",
    "&= \\exp\\left\\{ \\mathbb{E}_{Z \\sim q(Z | \\phi), q(\\mu_{-k}|m_{-k}, s_{-k})}\\left[\\log \\left(\\left(\\prod_{n=1}^N p(Y_n|\\mu, Z_n) \\right)p(\\mu)\\right) \\right] \\right\\}  \\exp\\left\\{\\log \\prod_{m=1}^Mp(Z_m) \\right\\}\\\\\n",
    "&\\propto \\exp\\left\\{ \\mathbb{E}_{Z \\sim q(Z | \\phi), q(\\mu_{-k}|m_{-k}, s_{-k})}\\left[\\log \\left(\\prod_{k=1}^K \\prod_{n=1}^N p(Y_n|\\mu_k, Z_n) \\prod_{k=1}^K p(\\mu_k)\\right) \\right] \\right\\}\\\\\n",
    "&= \\exp\\left\\{ \\mathbb{E}_{Z \\sim q(Z | \\phi), q(\\mu_{-k}|m_{-k}, s_{-k})}\\left[\\log \\left(\\prod_{n=1}^N p(Y_n|\\mu_k, Z_n) p(\\mu_k) \\left(\\prod_{j\\neq k} \\prod_{n=1}^N p(Y_n|\\mu_j, Z_n) \\prod_{j\\neq k} p(\\mu_j)\\right) \\right)\\right] \\right\\}\\\\\n",
    "&= \\exp\\left\\{ \\mathbb{E}_{Z \\sim q(Z | \\phi), q(\\mu_{-k}|m_{-k}, s_{-k})}\\left[\\log \\left(\\prod_{n=1}^N p(Y_n|\\mu_k, Z_n) p(\\mu_k)\\right) + \\log \\left(\\prod_{j\\neq k} \\prod_{n=1}^N p(Y_n|\\mu_j, Z_n)  \\prod_{j\\neq k} p(\\mu_j)\\right)\\right] \\right\\}\\\\\n",
    "&= \\exp\\left\\{ \\mathbb{E}_{Z \\sim q(Z | \\phi), q(\\mu_{-k}|m_{-k}, s_{-k})}\\left[\\log \\left(\\prod_{n=1}^N p(Y_n|\\mu_k, Z_n) p(\\mu_k)\\right)\\right] + \\mathbb{E}_{Z \\sim q(Z | \\phi), q(\\mu_{-k}|m_{-k}, s_{-k})}\\left[\\log \\left(\\prod_{j\\neq k} \\prod_{n=1}^N p(Y_n|\\mu_j, Z_n)  \\prod_{j\\neq k} p(\\mu_j)\\right)\\right] \\right\\}\\\\\n",
    "&= \\exp\\left\\{ \\mathbb{E}_{Z \\sim q(Z | \\phi)}\\left[\\log \\left(\\prod_{n=1}^N p(Y_n|\\mu_k, Z_n) p(\\mu_k)\\right)\\right] \\right\\} \\exp\\left\\{ \\mathbb{E}_{Z \\sim q(Z | \\phi), q(\\mu_{-k}|m_{-k}, s_{-k})}\\left[\\log \\left(\\prod_{j\\neq k} \\prod_{n=1}^N p(Y_n|\\mu_j, Z_n)  \\prod_{j\\neq k} p(\\mu_j)\\right)\\right] \\right\\}\\\\\n",
    "&\\propto \\exp\\left\\{ \\mathbb{E}_{Z \\sim q(Z | \\phi)}\\left[\\log \\left(\\prod_{n=1}^N p(Y_n|\\mu_k, Z_n) p(\\mu_k)\\right)\\right] \\right\\}\n",
    "&=\\exp\\left\\{ \\mathbb{E}_{Z \\sim q(Z | \\phi)}\\left[\\sum_{n=1}^N \\log p(Y_n|\\mu_k, Z_n) + \\log p(\\mu_k)\\right] \\right\\}\\\\\n",
    "&= \\exp\\left\\{ \\mathbb{E}_{Z \\sim q(Z | \\phi)}\\left[\\sum_{n=1}^N \\sum_{j=1}^K Z_{nj}\\log \\mathcal{N}(Y_n; \\mu_j, 1) + \\log \\mathcal{N}(\\mu_k; 0, s^2_0)\\right] \\right\\}\\\\\n",
    "&= \\exp\\left\\{ \\sum_{n=1}^N \\sum_{j=1}^K \\mathbb{E}_{Z \\sim q(Z | \\phi)}\\left[Z_{nj}\\right]\\log \\mathcal{N}(Y_n; \\mu_j, 1) + \\log \\mathcal{N}(\\mu_k; 0, s^2_0) \\right\\}\\\\\n",
    "&= \\exp\\left\\{ \\sum_{n=1}^N \\sum_{j=1}^K \\phi_{nj}\\log \\mathcal{N}(Y_n; \\mu_j, 1) + \\log \\mathcal{N}(\\mu_k; 0, s^2_0) \\right\\}\\\\\n",
    "&= \\exp\\left\\{ \\sum_{n=1}^N  \\phi_{nk}\\log \\mathcal{N}(Y_n; \\mu_k, 1) + \\log \\mathcal{N}(\\mu_k; 0, s^2_0)  +  \\sum_{n=1}^N \\sum_{j\\neq k} \\phi_{nj}\\log \\mathcal{N}(Y_n; \\mu_j, 1) \\right\\}\\\\\n",
    "&= \\exp\\left\\{ \\sum_{n=1}^N  \\phi_{nk}\\log \\mathcal{N}(Y_n; \\mu_k, 1) + \\log \\mathcal{N}(\\mu_k; 0, s^2_0)\\right\\}  \\exp\\left\\{\\sum_{n=1}^N \\sum_{j\\neq k} \\phi_{nj}\\log \\mathcal{N}(Y_n; \\mu_j, 1) \\right\\}\\\\\n",
    "&\\propto \\exp\\left\\{ \\sum_{n=1}^N  \\phi_{nk}\\log \\mathcal{N}(Y_n; \\mu_k, 1) + \\log \\mathcal{N}(\\mu_k; 0, s^2_0)\\right\\}\\\\\n",
    "&= \\exp\\left\\{ \\sum_{n=1}^N  \\phi_{nk} \\frac{(y_n-\\mu_k)^2}{2} - \\frac{\\mu_k^2}{2\\sigma_0^2} + const\\right\\}\\\\\n",
    "&= \\exp\\left\\{ \\sum_{n=1}^N  \\phi_{nk} \\frac{(y_n-\\mu_k)^2}{2} - \\frac{\\mu_k^2}{2\\sigma_0^2}\\right\\}\\exp\\left\\{const\\right\\}\\\\\n",
    "&\\propto \\exp\\left\\{ \\sum_{n=1}^N  \\phi_{nk} \\frac{(y_n-\\mu_k)^2}{2} - \\frac{\\mu_k^2}{2\\sigma_0^2}\\right\\}\\\\\n",
    "&= \\exp\\left\\{ \\left(\\sum_{n=1}^N  \\phi_{nk} y_n\\right)\\mu_k - \\frac{1}{2}\\left(\\sum_{n=1}^N  \\phi_{nk} + \\frac{1}{\\sigma_0^2}\\right)\\mu^2_k + const\\right\\}\\\\\n",
    "&= \\exp\\left\\{ \\left(\\sum_{n=1}^N  \\phi_{nk} y_n\\right)\\mu_k - \\frac{1}{2}\\left(\\sum_{n=1}^N  \\phi_{nk} + \\frac{1}{\\sigma_0^2}\\right)\\mu^2_k\\right\\} \\exp\\left\\{ const\\right\\}\\\\\n",
    "&\\propto \\exp\\left\\{ \\underbrace{\\left(\\sum_{n=1}^N  \\phi_{nk} y_n\\right)}_{A}\\mu_k - \\underbrace{\\frac{1}{2}\\left(\\sum_{n=1}^N  \\phi_{nk} + \\frac{1}{\\sigma_0^2}\\right)}_{B}\\mu^2_k\\right\\} \\\\\n",
    "&= \\exp\\left\\{ - (B\\mu_k^2 - A\\mu_k)\\right\\}\\\\\n",
    "&= \\exp\\left\\{ - B\\left(\\mu_k^2 - \\frac{A}{B}\\mu_k + \\left( \\frac{A}{2B}\\right)^2 - \\left( \\frac{A}{2B}\\right)^2 \\right)\\right\\}\\\\\n",
    "&= \\exp\\left\\{ - B\\left(\\mu_k^2 - \\frac{A}{2B}\\right)^2  - B\\left( \\frac{A}{2B}\\right)^2 \\right\\}\\\\\n",
    "&= \\exp\\left\\{ - B\\left(\\mu_k^2 - \\frac{A}{2B}\\right)^2\\right\\} \\exp\\left\\{- B\\left( \\frac{A}{2B}\\right)^2 \\right\\}\\\\\n",
    "&\\propto \\exp\\left\\{ - B\\left(\\mu_k^2 - \\frac{A}{2B}\\right)^2\\right\\} \n",
    "\\end{aligned}\n",
    "\n",
    "Thus, we see that $q(\\mu_k | m_k, s_k^2) \\propto \\exp\\left\\{ - B\\left(\\mu_k^2 - \\frac{A}{2B}\\right)^2\\right\\} $ is a Gaussian with mean \n",
    "\n",
    "$$m_k = \\frac{A}{2B} = \\frac{\\sum_{n=1}^N \\phi_{nk} y_n}{\\sum_{n=1}^N \\phi_{nk} + \\frac{1}{\\sigma_0^2}},$$\n",
    "\n",
    "and variance\n",
    "\n",
    "$$s^2_k = \\frac{1}{2B} = \\frac{1}{\\sum_{n=1}^N \\phi_{nk} + \\frac{1}{\\sigma_0^2}}.$$"
   ]
  },
  {
   "cell_type": "markdown",
   "metadata": {
    "slideshow": {
     "slide_type": "slide"
    }
   },
   "source": [
    "## Implemenation of CAVI for Bayesian GMM"
   ]
  },
  {
   "cell_type": "code",
   "execution_count": 9,
   "metadata": {
    "slideshow": {
     "slide_type": "skip"
    }
   },
   "outputs": [],
   "source": [
    "#Generate data\n",
    "N = 2000\n",
    "pis = [1./3, 1./3, 1./3]\n",
    "mus = [6, 10, 14]\n",
    "sigmas = [1., 1., 1.]\n",
    "K = 3\n",
    "zs = np.random.choice(np.arange(K), size=N, p=pis)\n",
    "y = np.array([np.random.normal(mus[z], sigmas[z]**0.5, 1)[0] for z in zs])\n",
    "\n",
    "#defining the bayesian model\n",
    "sigma_sq = 1.**2\n",
    "s_sq_0 = 1.\n",
    "\n",
    "#initialization for CAVI\n",
    "m_init = np.array([2, 4, 5])\n",
    "s_sq_init = np.array([1., 1., 1.])\n",
    "\n",
    "#implement coordinate ascent VI\n",
    "m_current = m_init\n",
    "s_sq_current = s_sq_init\n",
    "\n",
    "total_iter = 10000\n",
    "threshold = 1e-10\n",
    "delta_m = 1.\n",
    "delta_s = 1.\n",
    "i = 0\n",
    "\n",
    "#implementation of the ELBO\n",
    "def elbo(m, s_sq, phi):\n",
    "    summand_1 = (np.log(s_sq) - m / s_sq_0).sum()\n",
    "    summand_2 = ((-0.5 * np.add.outer(y**2, s_sq + m**2) + np.outer(y, m) - np.log(phi)) * phi).sum()\n",
    "    return summand_1 + summand_2\n",
    "\n",
    "ELBOs = []\n",
    "while i < total_iter and delta_m > threshold and delta_s > threshold:\n",
    "    #update q(Z_n)\n",
    "    exponent = np.outer(y, m_current) + -(0.5 * m_current**2 + 0.5 * s_sq_current)[np.newaxis, :]\n",
    "    phi_unnormalized = np.exp(exponent)\n",
    "    phi = phi_unnormalized / phi_unnormalized.sum(1)[:, np.newaxis]\n",
    "    #update mu\n",
    "    m_new = (phi * y[:, np.newaxis]).sum(0) * (1. / s_sq_0 + phi.sum(0))**(-1)\n",
    "    #update s squared \n",
    "    s_sq_new = (1. / s_sq_0 + phi.sum(0))**(-1)\n",
    "    \n",
    "    #compute ELBO\n",
    "    ELBOs.append(elbo(m_new, s_sq_new, phi))\n",
    "    \n",
    "    #compute variational parameter change\n",
    "    delta_m = np.linalg.norm(m_new - m_current)\n",
    "    delta_s = np.linalg.norm(s_sq_new - s_sq_current)\n",
    "    \n",
    "    m_current = m_new\n",
    "    s_sq_current = s_sq_new\n",
    "    \n",
    "    i += 1\n",
    "    \n",
    "#sample from posterior predictive    \n",
    "def posterior_predictive_sampling(means, variances, S):\n",
    "    posterior_predictive_samples = []\n",
    "    for mean, variance in zip(means, variances):\n",
    "        posterior_samples = np.random.normal(mean, variance**2, size=S)\n",
    "        posterior_predictive_samples += [np.random.normal(sample, sigma_sq**2, 1)[0] for sample in posterior_samples]\n",
    "    return np.array(posterior_predictive_samples)\n",
    "    \n",
    "x = np.linspace(y.min(), y.max(), 1000)"
   ]
  },
  {
   "cell_type": "code",
   "execution_count": 10,
   "metadata": {
    "slideshow": {
     "slide_type": "fragment"
    }
   },
   "outputs": [
    {
     "data": {
      "image/png": "[encoded data removed]",
      "text/plain": [
       "<Figure size 720x360 with 1 Axes>"
      ]
     },
     "metadata": {
      "needs_background": "light"
     },
     "output_type": "display_data"
    }
   ],
   "source": [
    "fig, ax = plt.subplots(1, 1, figsize=(10, 5))\n",
    "ax.hist(y, bins=60, density=True, color='gray', alpha=0.7, label='histogram of birth weights')\n",
    "posterior_predictive_samples = posterior_predictive_sampling(m_current, s_sq_current, 100)\n",
    "ax.hist(posterior_predictive_samples, bins=60, density=True, color='red', alpha=0.3, label='variational posterior predictive')\n",
    "ax.set_title('GMM for Birth Weights')\n",
    "ax.legend(loc='best')\n",
    "plt.show()"
   ]
  },
  {
   "cell_type": "markdown",
   "metadata": {
    "slideshow": {
     "slide_type": "slide"
    }
   },
   "source": [
    "## Sanity Check: ELBO During Training\n",
    "\n",
    "Remember that ploting the posterior predictive against actual data is not always an option (e.g. high-dimensional data).\n",
    "\n",
    "A sanity check for that your CAVI algorithm has been implemented correctly is to plot the ELBO (or alternatively, the observed data log-likelihood) over the iterations of the algorithm:\n",
    "\n",
    "$$\n",
    "ELBO(\\phi, m, s^2) = \\mathbb{E}_{Z, \\mu\\sim q(Z, \\mu | \\phi, m, s^2)} \\left[\\log \\left( \\frac{p(Y_1, \\ldots, Y_N, Z_1, \\ldots, Z_N, \\mu)}{q(Z, \\mu | \\phi, m, s^2)}\\right) \\right]\n",
    "$$"
   ]
  },
  {
   "cell_type": "code",
   "execution_count": 12,
   "metadata": {
    "slideshow": {
     "slide_type": "fragment"
    }
   },
   "outputs": [
    {
     "data": {
      "image/png": "[encoded data removed]",
      "text/plain": [
       "<Figure size 720x144 with 1 Axes>"
      ]
     },
     "metadata": {
      "needs_background": "light"
     },
     "output_type": "display_data"
    }
   ],
   "source": [
    "fig, ax = plt.subplots(1, 1, figsize=(10, 2))\n",
    "ax.plot(range(len(ELBOs)), ELBOs, color='red', alpha=0.5)\n",
    "ax.set_title('ELBO over iterations of CAVI')\n",
    "plt.show()"
   ]
  }
 ],
 "metadata": {
  "celltoolbar": "Slideshow",
  "kernelspec": {
   "display_name": "Python 3",
   "language": "python",
   "name": "python3"
  },
  "language_info": {
   "codemirror_mode": {
    "name": "ipython",
    "version": 3
   },
   "file_extension": ".py",
   "mimetype": "text/x-python",
   "name": "python",
   "nbconvert_exporter": "python",
   "pygments_lexer": "ipython3",
   "version": "3.7.4"
  }
 },
 "nbformat": 4,
 "nbformat_minor": 2
}
