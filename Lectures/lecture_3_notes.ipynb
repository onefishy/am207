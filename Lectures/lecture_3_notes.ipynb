{
 "cells": [
  {
   "cell_type": "markdown",
   "metadata": {
    "slideshow": {
     "slide_type": "slide"
    }
   },
   "source": [
    "### Lecture #3: Bayesian Modeling\n",
    "## AM 207: Advanced Scientific Computing\n",
    "### Stochastic Methods for Data Analysis, Inference and Optimization\n",
    "### Fall, 2021"
   ]
  },
  {
   "cell_type": "markdown",
   "metadata": {
    "slideshow": {
     "slide_type": "slide"
    }
   },
   "source": [
    "<img src=\"fig/logos.jpg\" style=\"height:150px;\">"
   ]
  },
  {
   "cell_type": "code",
   "execution_count": 9,
   "metadata": {
    "slideshow": {
     "slide_type": "skip"
    }
   },
   "outputs": [],
   "source": [
    "### Import basic libraries\n",
    "import numpy as np\n",
    "import scipy as sp\n",
    "import pandas as pd\n",
    "import sklearn as sk\n",
    "from sklearn.linear_model import LinearRegression\n",
    "import matplotlib.pyplot as plt\n",
    "%matplotlib inline"
   ]
  },
  {
   "cell_type": "markdown",
   "metadata": {
    "slideshow": {
     "slide_type": "slide"
    }
   },
   "source": [
    "## Outline\n",
    "1. Review of the Method of Maximum Likelihood\n",
    "2. Models for Real Data\n",
    "3. The Beta-Binomial Model\n",
    "4. Bayesian Modeling\n",
    "5. Connections and Comparisons with Frequentist Inference"
   ]
  },
  {
   "cell_type": "markdown",
   "metadata": {
    "slideshow": {
     "slide_type": "slide"
    }
   },
   "source": [
    "# Review of the Method of Maximum Likelihood"
   ]
  },
  {
   "cell_type": "markdown",
   "metadata": {
    "slideshow": {
     "slide_type": "slide"
    }
   },
   "source": [
    "## The Method of Maximum Likelihood\n",
    "\n",
    "1. **(Model)** Assume observations from $N$ number of ***independently and identically distributed*** outcomes, $Y_1, \\ldots, Y_N$, with $Y_n \\sim p(Y|\\theta)$ and where $\\theta$ is the set of parameters of the distribution $p(Y|\\theta)$. The likelihood function is\n",
    "  \\begin{aligned}\n",
    "    \\mathcal{L}(\\theta) = \\prod_{n=1}^N p(y_n | \\theta)\n",
    "  \\end{aligned}\n",
    "\n",
    "2. **(Inference)**\n",
    "  We estimate $\\theta$ using the ***maximium likelihood estimate***, defined as\n",
    "    \\begin{aligned}\n",
    "    \\theta_{\\text{MLE}} = \\underset{\\theta}{\\mathrm{argmax}}\\; \\mathcal{L}(\\theta) = \\underset{\\theta}{\\mathrm{argmax}}\\; \\prod_{n=1}^N p(y_n | \\theta)\n",
    "    \\end{aligned}\n",
    "\n",
    "3. **(Inference Method)**\n",
    "  - *Unconstrained Optimization:* if $\\theta$ doesn't need to satisfy any special property, then it's as simple as setting the ***gradient*** of the likelihood equal to zero and solving! \n",
    "    **(Except it's not that simple!)**<br><br>\n",
    "    \n",
    "   - *Constrained Optimization:* if $\\theta$ needs to satisfy special properties, then it's as simple as setting the gradient of the ***Lagrangian*** of the likelihood and the constraint equal to zero and solving! \n",
    "    **(Except it's not that simple!)**"
   ]
  },
  {
   "cell_type": "markdown",
   "metadata": {
    "slideshow": {
     "slide_type": "slide"
    }
   },
   "source": [
    "## Evaluating the MLE    \n",
    "If we have the true parameters $\\theta$, we can compute the ***Mean Squared Error***:\n",
    "\n",
    "$$\n",
    "\\mathrm{MSE}_{\\theta} = \\mathbb{E}_{Y^{\\theta}}\\left[(\\theta_{\\text{MLE}}\\left(Y^\\theta\\right) - \\theta)^2\\right]\n",
    "$$\n",
    "\n",
    "If we don't have the true parameters $\\theta$, we can use $\\theta_{\\text{MLE}}$ ***predict*** or ***simulate*** data and compare it with the observed data, i.e. sample\n",
    "\n",
    "$$\n",
    "Y^{\\theta_{\\text{MLE}}} \\sim p(Y| \\theta_{\\text{MLE}}),\n",
    "$$\n",
    "\n",
    "compare $Y^{\\theta_{\\text{MLE}}}$ and $Y^{\\theta}$."
   ]
  },
  {
   "cell_type": "markdown",
   "metadata": {
    "slideshow": {
     "slide_type": "slide"
    }
   },
   "source": [
    "## Properties of The Maximum Likelihood Estimator\n",
    "**Why Choose MLE?**\n",
    "Asymptotically, i.e. given an infinite number of samples, the MLE is\n",
    "1. *Consistent:* $\\theta_{\\text{MLE}}$ approaches the true parameters $\\theta$.\n",
    "2. *Unbiased:* The average $\\theta_{\\text{MLE}}$, taken over many different samples of the data, is $\\theta$.\n",
    "3. *Minimum Variance:* The MLE has the lowest variance of all unbiased estimators.\n",
    "\n",
    "**Why Not Choose MLE?**\n",
    "When the sample size is \"small\", the MLE can be\n",
    "1. *Overfitted:* The MLE can is sensitive to outliers in the data.\n",
    "2. *Biased:* The average $\\theta_{\\text{MLE}}$, taken over many different data samples, is not $\\theta$.\n",
    "3. *Imprecise:* The MLE can have high variance.\n",
    "\n",
    "**What Other Estimators are There?**\n",
    "1. Method of Moments\n",
    "2. Minimum Variance Unbiased Estimator\n",
    "3. Regularized MLE\n",
    "\n",
    "**Note:** the computation of (1) and (2) can be much more complex than MLE. "
   ]
  },
  {
   "cell_type": "markdown",
   "metadata": {
    "slideshow": {
     "slide_type": "slide"
    }
   },
   "source": [
    "## Is Bias Always Bad?\n",
    "\n",
    "Recall that we can use the properties of expectations to decompose the mean squared error of the maximum likelihood estimator:\n",
    "\n",
    "$$\n",
    "\\mathrm{MSE}_{\\theta_{\\text{MLE}}} = \\underbrace{\\mathbb{E}\\left[(\\theta_{\\text{MLE}} - \\mathbb{E}[\\theta_{\\text{MLE}}])^2\\right]}_{\\text{variance}} + \\underbrace{\\left( \\mathbb{E}[\\theta_{\\text{MLE}}] - \\theta\\right)^2}_{\\text{bias}}\n",
    "$$\n",
    "\n",
    "Although we want an unbiased estimator, the above decomposition says that if the variance of the estimator is high our espected error will nonetheless be high.\n",
    "\n",
    "The ***variance-bias trade-off*** refers to the phenomenon that, in many cases, when estimators have low bias they have high corresponding variance (and vice versa), and hence high MSE. "
   ]
  },
  {
   "cell_type": "markdown",
   "metadata": {
    "slideshow": {
     "slide_type": "skip"
    }
   },
   "source": [
    "#### Decomposition of MSE\n",
    "\\begin{aligned}\n",
    "\\mathrm{MSE}_{\\theta_{\\text{MLE}}} &= \\mathbb{E}_{Y^\\theta} \\left[\\left(\\theta_{\\text{MLE}} - \\theta \\right)^2 \\right]\\\\\n",
    "&= \\mathbb{E}_{Y^\\theta}\\left[\\left( \\theta_{\\text{MLE}} - \\mathbb{E}[\\theta_{\\text{MLE}}] + \\mathbb{E}[\\theta_{\\text{MLE}}] - \\theta \\right)^2 \\right]\\\\\n",
    "&= \\mathbb{E}\\left[\\left(\\theta_{\\text{MLE}} - \\mathbb{E}[\\theta_{\\text{MLE}}]\\right)^2\\right] + \\mathbb{E}\\left[\\left(\\mathbb{E}[\\theta_{\\text{MLE}}] - \\theta \\right)^2 \\right] + 2\\mathbb{E}\\left[ (\\theta_{\\text{MLE}} - \\mathbb{E}[\\theta_{\\text{MLE}}])(\\mathbb{E}[\\theta_{\\text{MLE}}] - \\theta)\\right]\\\\\n",
    "&= \\underbrace{\\mathbb{E}\\left[(\\theta_{\\text{MLE}} - \\mathbb{E}[\\theta_{\\text{MLE}}])^2\\right]}_{\\text{variance}} + \\underbrace{\\left( \\mathbb{E}[\\theta_{\\text{MLE}}] - \\theta\\right)^2}_{\\text{bias}}\n",
    "\\end{aligned}\n",
    "\n",
    "#### Example of the Bias Variance Trade-off\n",
    "Let $Y \\sim\\mathcal{N}(0, \\sigma^2)$. Consider two estimators of the variance $\\sigma^2$:\n",
    "1. $\\widehat{\\theta}_1(Y) = Y^2$\n",
    "2. $\\widehat{\\theta}_2(Y) = \\frac{1}{3}Y^2$\n",
    "\n",
    "The expected values of the estimators are:\n",
    "1. $\\mathbb{E}[\\widehat{\\theta}_1] = \\mathbb{E}[Y^2]=\\sigma^2$, using the fact $Y^2$ is a Gamma distribution with mean $\\sigma^2$.\n",
    "2. $\\mathbb{E}[\\widehat{\\theta}_1] = \\mathbb{E}[Y^2]=\\frac{1}{3}\\sigma^2$\n",
    "So we see that $\\widehat{\\theta}_1$ is unbiased, whereas $\\widehat{\\theta}_2$ is biased.\n",
    "\n",
    "Note that the two estimators are both of the form $cY^2$ where $c$ is a constant. We can compute the MSE, in a general way, for this class of estimators:\n",
    "\n",
    "\\begin{aligned}\n",
    "\\mathrm{MSE}_{\\widehat{\\theta}} &= \\mathbb{E}\\left[\\left(\\widehat{\\theta}_2 - \\sigma^2\\right)^2\\right]\\\\\n",
    "&= \\mathbb{E}\\left[c^2Y^4 - 2\\sigma^2 cY^2 + \\sigma^4 \\right]\\\\\n",
    "&= c^2\\mathbb{E} \\left[Y^4 \\right] - 2\\sigma^2c\\mathbb{E} \\left[Y^2 \\right] + \\sigma^4\\\\\n",
    "&= 3c^2\\sigma^4 - 2c\\sigma^4 + \\sigma^4\\\\\n",
    "&= \\sigma^4(3c^2 - 2c + 1)\n",
    "\\end{aligned}\n",
    "\n",
    "From the expression of the MSE, we can find the $c$ that will minimize $\\mathrm{MSE}_{\\widehat{\\theta}}$ - this involves finding the stationary points of the derivative of $\\mathrm{MSE}_{\\widehat{\\theta}}$ (and then checking concavity/convexity!):\n",
    "\n",
    "$$\n",
    "\\frac{d}{dc}\\mathrm{MSE}_{\\widehat{\\theta}} = \\sigma^4(6a - 2) = 0\n",
    "$$\n",
    "\n",
    "We see that $\\mathrm{MSE}_{\\widehat{\\theta}}$ has a unique global minimum at $c = \\frac{1}{3}$. That is, the biased estimator $\\widehat{\\theta}_2$ has smaller MSE than the unbiased estimator $\\widehat{\\theta}_1$.\n"
   ]
  },
  {
   "cell_type": "markdown",
   "metadata": {
    "slideshow": {
     "slide_type": "slide"
    }
   },
   "source": [
    "## Limitations of MLE: Overfitting Under Scarcity of Data\n",
    "Suppose that we have three observations from a Bernoulli distribution, $Ber(\\theta)$: $\\{ H, H, H\\}$. From what we've see before, the MLE of $\\theta$ is\n",
    "$$\n",
    "\\theta_{\\text{MLE}} = \\frac{3}{3} = 1.\n",
    "$$\n",
    "Is this a good estimate of the bias of the coin? What can we do to make this estimate better?"
   ]
  },
  {
   "cell_type": "markdown",
   "metadata": {
    "slideshow": {
     "slide_type": "slide"
    }
   },
   "source": [
    "## Limitations of MLE: Overfitting Under Scarcity of Data\n",
    "Suppose that we have two YouTube videos with 4/5 likes and 3,500/5,000 likes respectively. We can model the probability that a viewer will like each video as two Bernoulli distribtutions, $Ber(\\theta_1)$, $Ber(\\theta_2)$, where $\\theta_i$ is the \"inherent\" likeability of each video. \n",
    "\n",
    "Again, we can compute the MLE of the Bernoulli parameters:\n",
    "\n",
    "$$\n",
    "\\theta_1 = 4/5 = 0.8,\\; \\theta_2 = 3,500/5,000 = 0.75.\n",
    "$$\n",
    "\n",
    "It is fair to say that the second video is more likeable base on our estimates?"
   ]
  },
  {
   "cell_type": "markdown",
   "metadata": {
    "slideshow": {
     "slide_type": "slide"
    }
   },
   "source": [
    "## Regularization\n",
    "We can prevent MLE from overfitting to the observations when training data is scarce by constraining it from unreasonable values. \n",
    "\n",
    "Recall that in order to prevent the MLE solution for linear regression from learn unrealistically large slopes and intercepts, we add $\\ell_2$-regularization on the model parameters during training, essentially forcing the parameters to stay as small (close to zero) as they can be while still capturing the data. \n",
    "\n",
    "Similarly, if want the MLE of the parameter $\\theta$ of a Bernoulli distribution to avoid extreme values (1 and 0), we need to 'anchor' our estimation of $\\theta$ to some 'reasonable' value:\n",
    "\n",
    "\\begin{align}\n",
    "\\theta_{\\text{MLE Reg.}} = \\frac{\\text{# positive outcome} + \\alpha}{\\text{# total trials} + \\beta}\n",
    "\\end{align}\n",
    "\n",
    "The fraction $\\alpha/\\beta$ expresses your notion of what is a reasonable looking probability.\n",
    "\n",
    "But is regularization a principled way to perform inference (i.e. will it ruin the nice properties of MLE)? How do you choose the hyperparameters $\\alpha$, $\\beta$ in a principled manner?"
   ]
  },
  {
   "cell_type": "markdown",
   "metadata": {
    "slideshow": {
     "slide_type": "slide"
    }
   },
   "source": [
    "# Models for Real Data"
   ]
  },
  {
   "cell_type": "markdown",
   "metadata": {
    "slideshow": {
     "slide_type": "skip"
    }
   },
   "source": [
    "## Die Roll\n",
    "We can model the outcome, $Y$, of a single dice roll with a ***categorical*** distribution,\n",
    "\n",
    "$$\n",
    "Y \\sim Cat(\\theta)\n",
    "$$\n",
    "\n",
    "where $\\theta = [\\theta_1 \\ldots \\theta_6]$ is a vector satisfying $\\sum_{i=1}^6 \\theta_i = 1$, and where $\\theta_i$ is the probability of rolling a number $i$. \n",
    "\n",
    "Given $Y_1,\\ldots, Y_N$ identically and independently distributed outcomes with $Y_n \\sim Cat(\\theta)$. Denote the total number observed for each face as a vector $F = [f_1 \\ldots f_6]$, where $f_i$ is the number of times the number $i$ was rolled. Then $F$ can be modeled with a ***multinomial*** distribution,\n",
    "\n",
    "$$\n",
    "F \\sim Mul(N, \\theta).\n",
    "$$\n",
    "\n",
    "**Model Critique:** What are the assumptions made in this model? Are they realistic?"
   ]
  },
  {
   "cell_type": "markdown",
   "metadata": {
    "slideshow": {
     "slide_type": "slide"
    }
   },
   "source": [
    "## Video Ranking\n",
    "\n",
    "We can model the outcome, $Y$, of a user rating for a specific YouTube video as a Bernoulli distribution,\n",
    "\n",
    "$$\n",
    "Y \\sim Ber(\\theta)\n",
    "$$\n",
    "\n",
    "where $\\theta$ is the probability that a user will like the video. \n",
    "\n",
    "Given $Y_1,\\ldots, Y_N$ identically and independently distributed outcomes with $Y_n \\sim Ber(\\theta)$. Denote the total number of likes by $L$. Then $L$ can be modeled with a ***binomial*** distribution,\n",
    "\n",
    "$$\n",
    "L \\sim Bin(N, \\theta).\n",
    "$$\n",
    "\n",
    "**Model Critique:** What are the assumptions made in this model? Are they realistic?"
   ]
  },
  {
   "cell_type": "markdown",
   "metadata": {
    "slideshow": {
     "slide_type": "slide"
    }
   },
   "source": [
    "## Kidney Cancer Rates\n",
    "Given a dataset with $N$ number of US counties and the incidents of kidney cancer in each county, we can model the observed incidents of cancer, $C_n$, of the $n$-th county with a Poisson distribution,\n",
    "\n",
    "$$\n",
    "C_n \\sim Poi(T_n\\theta_n)\n",
    "$$\n",
    "\n",
    "where $T_n$ is the total population of the county and $\\theta_n$ is the \"true\" cancer rate of the county. \n",
    "\n",
    "**Model Critique:** What are the assumptions made in this model? Are they realistic?"
   ]
  },
  {
   "cell_type": "markdown",
   "metadata": {
    "slideshow": {
     "slide_type": "slide"
    }
   },
   "source": [
    "## Kidney Cancer Rates\n",
    "The following is a visualization of the counties with the highest rates of kidney cancer (Gelman 1998). Is there any noticeable spatial pattern in these maps? Recall that the MLE of the rate of the Poisson distribution for each county is $\\frac{C_n}{T_n}$.\n",
    "\n",
    "<img src=\"fig/kidney.jpg\" style=\"height:350px;\">"
   ]
  },
  {
   "cell_type": "markdown",
   "metadata": {
    "slideshow": {
     "slide_type": "slide"
    }
   },
   "source": [
    "## Birth Weights\n",
    "\n",
    "In our lab, we work with IVF clinics to build models for prediction and data analysis. One of our current tasks is to model the birth weights of the infants born in the clinic. \n",
    "\n",
    "Naively, given observed birth weights $Y_1, \\ldots, Y_N$, we can model each outcome $Y_n$ with a normal distribution,\n",
    "\n",
    "$$\n",
    "Y_n \\sim \\mathcal{N}(\\mu, \\sigma^2)\n",
    "$$\n",
    "\n",
    "where $\\mu$ is the average birth weight for this population and $\\sigma^2$ is the population variance.\n",
    "\n",
    "\n",
    "**Model Critique:** What are the assumptions made in this model? Are they realistic?"
   ]
  },
  {
   "cell_type": "markdown",
   "metadata": {
    "slideshow": {
     "slide_type": "slide"
    }
   },
   "source": [
    "# The Beta-Binomial Model"
   ]
  },
  {
   "cell_type": "markdown",
   "metadata": {
    "slideshow": {
     "slide_type": "slide"
    }
   },
   "source": [
    "## The Coin Toss Model: Revisited\n",
    "\n",
    "Suppose that we have three observations from a Bernoulli distribution, $Ber(\\theta)$: $\\{ H, H, H\\}$. The MLE of $\\theta$ is\n",
    "$$\n",
    "\\theta_{\\text{MLE}} = \\frac{3}{3} = 1.\n",
    "$$\n",
    "This is a clear case of the MLE overfitting to the observed data.\n",
    "\n",
    "Last time, you'd suggested tying the estimate to some fixed reasonable number, for example,\n",
    "$$\n",
    "\\theta_{\\text{MLE Reg}} = \\frac{H + 1}{N + 2},\n",
    "$$\n",
    "and in general,\n",
    "$$\n",
    "\\theta_{\\text{MLE Reg}} = \\frac{H + \\alpha}{N + \\beta}.\n",
    "$$\n",
    "The terms $\\alpha$ and $\\beta$ are called ***regularization terms*** .\n",
    "\n",
    "**Question:** What is the effect of $\\alpha$, $\\beta$ on our estimate? What values should we choose for $\\alpha$, $\\beta$?"
   ]
  },
  {
   "cell_type": "markdown",
   "metadata": {
    "slideshow": {
     "slide_type": "slide"
    }
   },
   "source": [
    "## Incoporating Prior Beliefs\n",
    "\n",
    "Our choise of the regularization terms, $\\alpha$, $\\beta$, depends on our prior beliefs about the coin. The way we chose to incorporate these beliefs doesn't indicate any uncertainty. \n",
    "\n",
    "Alternatively, we can incorporate our prior belief about $\\theta$ as a distribution, this is called the ***prior distribution***. Since $\\theta$ is a number between 0 and 1, a beta distribution is an appropriate choice.\n",
    "\n",
    "<img src=\"fig/beta.jpg\" style=\"height:350px;\">"
   ]
  },
  {
   "cell_type": "markdown",
   "metadata": {
    "slideshow": {
     "slide_type": "slide"
    }
   },
   "source": [
    "## The Beta-Binomial Model\n",
    "A model that involves both a likelihood for the data and prior on the parameters in the likelihood is called a ***Bayesian model***.\n",
    "\n",
    "**Bayesian Model for Coin Flip**\n",
    "\n",
    "\\begin{aligned}\n",
    "Y &\\sim Bin(N, \\theta),\\quad &\\text{(Likelihood)}\\\\\n",
    "\\theta &\\sim Beta(\\alpha, \\beta),\\quad &\\text{(Prior)}\n",
    "\\end{aligned}\n",
    "\n",
    "where $\\alpha, \\beta$ are called ***hyperparameters*** of the model.\n",
    "\n",
    "\n",
    "Now, computing the MLE no longer makes sense (since the MLE only considers the likelihood). Luckily, Bayes' Rule allows us to derive a distribution that considers both the prior and the likelihood:\n",
    "\n",
    "\\begin{aligned}\n",
    "p(\\theta | Y) = \\frac{\\overbrace{p(Y| \\theta)}^{\\text{likelihood}} \\overbrace{p(\\theta)}^{\\text{prior}}}{\\underbrace{p(Y)}_{\\text{marginal data likelihood}}} = \\frac{p(Y, \\theta)}{\\int p(Y, \\theta) d\\theta}\n",
    "\\end{aligned}\n",
    "\n",
    "The distribution $p(\\theta | Y)$ is called the ***posterior***. "
   ]
  },
  {
   "cell_type": "markdown",
   "metadata": {
    "slideshow": {
     "slide_type": "slide"
    }
   },
   "source": [
    "## Posterior for the Beta-Binomial Model\n",
    "\n",
    "In our case, the posterior is given by\n",
    "\\begin{aligned}\n",
    "p(\\theta | Y) = \\frac{p(Y| \\theta)p(\\theta)}{p(Y)} = \\frac{\\overbrace{{N \\choose Y}\\theta^{Y}(1- \\theta)^{N-Y}}^{\\text{binomial pdf}} \\overbrace{\\frac{1}{B(\\alpha, \\beta)} \\theta^{\\alpha - 1} (1 - \\theta)^{\\beta - 1}}^{\\text{beta pdf}}}{p(Y)}\n",
    "\\end{aligned}\n",
    "We can rewrite the posterior as\n",
    "\n",
    "\\begin{aligned}\n",
    "p(\\theta | Y) = const * \\theta^{(Y+\\alpha) - 1}(1 - \\theta)^{(N-Y + \\beta) - 1}\n",
    "\\end{aligned}\n",
    "\n",
    "where $const = \\frac{{N \\choose Y}}{B(\\alpha, \\beta)p(Y)}$ must be the normalizing constant for $p(\\theta | Y)$.\n",
    "\n",
    "We recognize the posterior as a beta distribution, $Beta(Y+\\alpha, N-Y + \\beta)$! Can you see why?"
   ]
  },
  {
   "cell_type": "markdown",
   "metadata": {
    "slideshow": {
     "slide_type": "slide"
    }
   },
   "source": [
    "## Interpreting the Posterior: Bayesian Update\n",
    "\n",
    "Rather than a point estimate for $\\theta$, we now have a posterior distribution, $p(\\theta|Y)$, over $\\theta$. What does the posterior tell us about $\\theta$?\n",
    "\n",
    "Since the prior distribution $p(\\theta)$ encoded our beliefs about $\\theta$ along with our uncertainty, it is natural to interpret the posterior as yet another **belief** about $\\theta$. \n",
    "\n",
    "Since the posterior includes the likelihood, this belief has been **updated by the data**. "
   ]
  },
  {
   "cell_type": "markdown",
   "metadata": {
    "slideshow": {
     "slide_type": "slide"
    }
   },
   "source": [
    "## Simulation: Bayesian Update for the Coin Flip\n",
    "\n",
    "What is the effect of the choice of the prior on the posterior? What is the effect of the number of observations, $N$, on the posterior?"
   ]
  },
  {
   "cell_type": "code",
   "execution_count": 122,
   "metadata": {
    "slideshow": {
     "slide_type": "skip"
    }
   },
   "outputs": [],
   "source": [
    "#a function for computing the prior and the posterior (after simulating data)\n",
    "def make_models(alpha, beta, N, theta):\n",
    "    #prior definition: beta distribution\n",
    "    prior = sp.stats.beta(alpha, beta).pdf\n",
    "    \n",
    "    #sample data\n",
    "    H = np.random.binomial(N, theta)\n",
    "    \n",
    "    #update posterior: beta distribution\n",
    "    posterior_alpha = H + alpha\n",
    "    posterior_beta = N - H + beta\n",
    "    posterior = sp.stats.beta(posterior_alpha, posterior_beta).pdf\n",
    "    \n",
    "    return prior, posterior, H, posterior_alpha, posterior_beta\n",
    "\n",
    "# a function for ploting the prior and posterior distribution\n",
    "def plot_prior_posterior(ax, prior, posterior, H, N):\n",
    "    x = np.linspace(0, 1, 100)\n",
    "    \n",
    "    ax[0].plot(x, prior(x), color='blue')\n",
    "    ax[0].set_title('Prior distribution')\n",
    "    ax[1].plot(x, posterior(x), color='red')\n",
    "    ax[1].set_title('Posterior distribution after seeing {} Heads/{} Flips'.format(H, N))\n",
    "    return ax\n",
    "\n",
    "#prior definition: beta distribution\n",
    "#try: alpha = beta = 0.5, 1, 10; try: alpha=10, beta=1; try: alpha=1, beta=10\n",
    "alpha = 0.5\n",
    "beta = 0.5\n",
    "#data: binomial distribution\n",
    "N = 10\n",
    "theta = 0.3\n",
    "\n",
    "prior, posterior, H, posterior_alpha, posterior_beta = make_models(alpha, beta, N, theta)"
   ]
  },
  {
   "cell_type": "code",
   "execution_count": 123,
   "metadata": {
    "slideshow": {
     "slide_type": "fragment"
    }
   },
   "outputs": [
    {
     "data": {
      "image/png": "[encoded data removed]",
      "text/plain": [
       "<Figure size 1440x576 with 2 Axes>"
      ]
     },
     "metadata": {
      "needs_background": "light"
     },
     "output_type": "display_data"
    }
   ],
   "source": [
    "fig, ax = plt.subplots(1, 2, figsize=(20, 8))\n",
    "ax = plot_prior_posterior(ax, prior, posterior, H, N)\n",
    "plt.show()"
   ]
  },
  {
   "cell_type": "markdown",
   "metadata": {
    "slideshow": {
     "slide_type": "skip"
    }
   },
   "source": [
    "## Simulation: Iterated Bayesian Update for the Coin Flip"
   ]
  },
  {
   "cell_type": "code",
   "execution_count": 137,
   "metadata": {
    "slideshow": {
     "slide_type": "skip"
    }
   },
   "outputs": [
    {
     "data": {
      "image/png": "[encoded data removed]",
      "text/plain": [
       "<Figure size 1440x576 with 2 Axes>"
      ]
     },
     "metadata": {
      "needs_background": "light"
     },
     "output_type": "display_data"
    }
   ],
   "source": [
    "#run this multiple times to see the effect of updates\n",
    "posterior_alpha = 0.5\n",
    "posterior_beta = 0.5\n",
    "prior, posterior, H, posterior_alpha, posterior_beta = make_models(posterior_alpha, posterior_beta, N, theta)\n",
    "fig, ax = plt.subplots(1, 2, figsize=(20, 8))\n",
    "ax = plot_prior_posterior(ax, prior, posterior, H, N)\n",
    "plt.show()"
   ]
  },
  {
   "cell_type": "markdown",
   "metadata": {
    "slideshow": {
     "slide_type": "slide"
    }
   },
   "source": [
    "## Making Predictions\n",
    "\n",
    "If the posteriors we infer represent beliefs, how do we evaluate these beliefs? \n",
    "\n",
    "1. In the case that we the true parameter $\\theta^{\\text{true}}$, we can check to see if the posterior assigns high likelihood to $\\theta^{\\text{true}}$, and the certainty the posterior has around $\\theta^{\\text{true}}$.<br><br>\n",
    "\n",
    "2. When we do not know $\\theta^{\\text{true}}$, we can simulate data $Y^{\\theta}$ using samples of $\\theta$ from the posterior. We compare the distribution of simulated data, or ***posterior predictive***, to the observed data. "
   ]
  },
  {
   "cell_type": "markdown",
   "metadata": {
    "slideshow": {
     "slide_type": "slide"
    }
   },
   "source": [
    "## Simulation: Posterior Predictive for the Coin Flip"
   ]
  },
  {
   "cell_type": "code",
   "execution_count": 101,
   "metadata": {
    "slideshow": {
     "slide_type": "skip"
    }
   },
   "outputs": [],
   "source": [
    "# function to plot the posterior predictive of the beta-binomial model\n",
    "def plot_posterior_predictive(ax, posterior_pred, H):\n",
    "    ax.axvline(x=H, color='black', label='observed heads')\n",
    "    ax.hist(posterior_pred, bins=50, color='red', alpha=0.6, label='histogram of predicted head')\n",
    "    ax.set_xticks(range(np.max(posterior_pred) + 1))\n",
    "    ax.set_title('posterior predictive over heads')\n",
    "    ax.legend(loc='best')\n",
    "    return ax"
   ]
  },
  {
   "cell_type": "code",
   "execution_count": 102,
   "metadata": {
    "slideshow": {
     "slide_type": "fragment"
    }
   },
   "outputs": [
    {
     "data": {
      "image/png": "[encoded data removed]",
      "text/plain": [
       "<Figure size 720x360 with 1 Axes>"
      ]
     },
     "metadata": {
      "needs_background": "light"
     },
     "output_type": "display_data"
    }
   ],
   "source": [
    "posterior_samples = np.random.beta(posterior_alpha, posterior_beta, size=500)\n",
    "posterior_pred = [np.random.binomial(N, theta_sample, 1)[0] for theta_sample in posterior_samples]\n",
    "\n",
    "fig, ax = plt.subplots(1, 1, figsize=(10, 5))\n",
    "ax = plot_posterior_predictive(ax, posterior_pred, H)\n",
    "plt.show()"
   ]
  },
  {
   "cell_type": "markdown",
   "metadata": {
    "slideshow": {
     "slide_type": "slide"
    }
   },
   "source": [
    "# Bayesian Modeling - A Summary"
   ]
  },
  {
   "cell_type": "markdown",
   "metadata": {
    "slideshow": {
     "slide_type": "slide"
    }
   },
   "source": [
    "## The Bayesian Modeling Process\n",
    "\n",
    "In order to make statements about $Y$, the outcome, and $\\theta$, parameters of the distribution generating the data, we form the joint distribution over both variables and use the various marginals/conditional distributions to reason about $Y$ and $\\theta$.\n",
    "\n",
    "1. we form the ***joint distribution*** over both variables $p(Y, \\theta) = p(Y | \\theta) p(\\theta)$.\n",
    "\n",
    "2. we can condition on the observed outcome to make inferences about $\\theta$,\n",
    "$$\n",
    "p(\\theta | Y) = \\frac{p(Y, \\theta)}{p(Y)}\n",
    "$$\n",
    "where $p(\\theta | Y)$ is called the ***posterior distribution*** and $p(Y)$ is called the ***evidence***.\n",
    "3. before any data is observed, we can simulate data by using our prior\n",
    "$$\n",
    "p(Y^*) = \\int_\\Theta p(Y^*, \\theta) d\\theta = \\int_\\Theta p(Y^* | \\theta) p(\\theta) d\\theta\n",
    "$$\n",
    "where $Y^*$ represents new data and $p(Y^*)$ is called the ***prior predictive***.\n",
    "4. after observing data, we can simulate new data simliar to the observed data by using our posterior\n",
    "$$\n",
    "p(Y^*|Y) = \\int_\\Theta p(Y^*, \\theta|Y) d\\theta = \\int_\\Theta p(Y^* | \\theta) p(\\theta | Y) d\\theta\n",
    "$$\n",
    "where $Y^*$ represents new data and $p(Y^*|Y)$ is called the ***posterior predictive***."
   ]
  },
  {
   "cell_type": "markdown",
   "metadata": {
    "slideshow": {
     "slide_type": "slide"
    }
   },
   "source": [
    "## Evaluating Bayesian Models\n",
    "\n",
    "As we have seen in the Beta-Binomial model, we can simulate the posterior (and prior) predictive rather than compute them analytically. That is, you don't need to know the pdf of $p(Y^*|Y)$. \n",
    "\n",
    "The posterior predictive can be represented by **samples** of predictions:\n",
    "\n",
    "1. we sample values of $\\theta_n$ from the posterior, $p(\\theta|Y)$.\n",
    "2. we sample an outcome $Y_n$ from $p(Y|\\theta_n)$ for each posterior sample $\\theta_n$.\n",
    "\n",
    "The set $Y_n$ we obtain emprirically represents the posterior predictve distribution $p(Y^*|Y)$. "
   ]
  },
  {
   "cell_type": "markdown",
   "metadata": {
    "slideshow": {
     "slide_type": "skip"
    }
   },
   "source": [
    "How do we evaluate the quality of our Bayesian model: how appropriate was our choice of prior? How appropriate was our choice of noise structure for the data (i.e. how appropriate is our choice of likelihood)?\n",
    "\n",
    "Evaluating Bayesian models is challenging for two reasons:\n",
    "\n",
    "1. Instead of learning a single best estimate of the model parameters $\\theta$, like in the case of maximum likelihood estimation, we learn a distribution over possible values of $\\theta$, $p(\\theta|Y)$\n",
    "2. In real life we do not have access to the ground truth values of model parameters\n",
    "\n",
    "Thus, we evaluate our model by seeing how well it fits the observed data. That is, we check to see how well our predicted distribution of $Y^*$, $p(Y^* | Y)$, matches up with the observed data $Y^*$.\n",
    "\n",
    "When we are able to visualize the data (i.e. when $Y^*$ is low-dimensional), we can visualize both data $Y^*$ and samples from  $p(Y^* | Y)$. If the model is a good fit for the data, these two plots should be similar.\n",
    "\n",
    "But what if it's not possible to visualize the data?"
   ]
  },
  {
   "cell_type": "markdown",
   "metadata": {
    "slideshow": {
     "slide_type": "slide"
    }
   },
   "source": [
    "## Where do Priors Come From?\n",
    "\n",
    "Hopefully you've noticed a key property of the priors we chose:\n",
    "\n",
    ">  All the priors combined with the likelihood to form a distribution we recognize! Specifically, the posterior distribution is of the same type as the prior!\n",
    "\n",
    "These priors are called ***conjugate priors*** for the corresponding likelihoods. This is a purely mathematical property.\n",
    "\n",
    "**Question:** is it right to choose priors that are mathematically convenient? What is a good way to choose a prior? What if we \"choose wrong\"?"
   ]
  },
  {
   "cell_type": "markdown",
   "metadata": {
    "slideshow": {
     "slide_type": "skip"
    }
   },
   "source": [
    "## Uninformative Priors: How to Say I Don't Know\n",
    "\n",
    "If you don't have a strong prior believe about the parameters in the likelihood, you should choose a prior that has no effect when combined with the likelihood -- i.e. **let the data speak for itself**.\n",
    "\n",
    "**Example:**\n",
    "In the Beta-Binomial model, is there a choice of the hyperparameters of the prior that has no effect on the posterior?\n",
    "\n",
    "We might try $Beta(1, 1)$, which is the uniform distribution over $[0, 1]$. The posterior $p(\\theta|Y)$ is then $Beta(Y + 1, N - Y + 1)$. In the following example, visualizing the posterior, we see that the posterior assigns the highest mass to the MLE of $\\theta$. But the posterior assigns more mass to values of $\\theta$ smaller than the MLE. In this sense, the prior **does** inform the posterior. "
   ]
  },
  {
   "cell_type": "code",
   "execution_count": 114,
   "metadata": {
    "slideshow": {
     "slide_type": "skip"
    }
   },
   "outputs": [
    {
     "data": {
      "image/png": "[encoded data removed]",
      "text/plain": [
       "<Figure size 720x360 with 1 Axes>"
      ]
     },
     "metadata": {
      "needs_background": "light"
     },
     "output_type": "display_data"
    }
   ],
   "source": [
    "Y = 11\n",
    "N = 15\n",
    "MLE = Y * 1. / N\n",
    "posterior = sp.stats.beta(Y + 1, N - Y + 1).pdf\n",
    "posterior_mean = (Y + 1.) / (N + 2.)\n",
    "\n",
    "fig, ax = plt.subplots(1, 1, figsize=(10, 5))\n",
    "x = np.linspace(0, 1, 100)\n",
    "ax.plot(x, posterior(x), color='red', label='Posterior pdf')\n",
    "ax.axvline(x=MLE, color='black', label='Maximum Likelihood Estimate')\n",
    "ax.axvline(x=posterior_mean, color='green', label='Posterior Mean')\n",
    "ax.set_title('Comparison of the posterior with the MLE')\n",
    "ax.legend(loc='best')\n",
    "plt.show()"
   ]
  },
  {
   "cell_type": "markdown",
   "metadata": {
    "slideshow": {
     "slide_type": "skip"
    }
   },
   "source": [
    "There is a general purpose technique for creating non-informative priors, called ***Jeffreys priors***, which places less prior weight on parameter values where the likelihood function is flat. This prevents the prior from having undue influency on the posterior.\n",
    "\n",
    "There are many resources that cover the construction of Jeffreys priors for common likelihoods."
   ]
  }
 ],
 "metadata": {
  "celltoolbar": "Slideshow",
  "kernelspec": {
   "display_name": "Python 3",
   "language": "python",
   "name": "python3"
  },
  "language_info": {
   "codemirror_mode": {
    "name": "ipython",
    "version": 3
   },
   "file_extension": ".py",
   "mimetype": "text/x-python",
   "name": "python",
   "nbconvert_exporter": "python",
   "pygments_lexer": "ipython3",
   "version": "3.7.4"
  }
 },
 "nbformat": 4,
 "nbformat_minor": 2
}
