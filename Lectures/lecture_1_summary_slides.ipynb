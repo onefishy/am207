{
 "cells": [
  {
   "cell_type": "markdown",
   "metadata": {
    "slideshow": {
     "slide_type": "slide"
    }
   },
   "source": [
    "# Lecture #1: Course Overview\n",
    "## AM 207: Advanced Scientific Computing\n",
    "### Stochastic Methods for Data Analysis, Inference and Optimization\n",
    "### Fall, 2021"
   ]
  },
  {
   "cell_type": "markdown",
   "metadata": {
    "slideshow": {
     "slide_type": "slide"
    }
   },
   "source": [
    "<img src=\"fig/logos.jpg\" style=\"height:150px;\">"
   ]
  },
  {
   "cell_type": "markdown",
   "metadata": {
    "slideshow": {
     "slide_type": "slide"
    }
   },
   "source": [
    "## Outline\n",
    "0. What's Exciting About This Class?\n",
    "1. What is Hard About This Class?\n",
    "2. Why is This Class Hard?\n",
    "3. How are We Helping?"
   ]
  },
  {
   "cell_type": "markdown",
   "metadata": {
    "slideshow": {
     "slide_type": "slide"
    }
   },
   "source": [
    "## What's Exciting About This Class?\n",
    "\n",
    "- <i>\"[This course] forced me to ask myself deep and challenging questions about the heart of machine learning and its role in society. Second, it gave me a strong foundation in Bayesian modelling. And third, it made me a better critical thinker when evaluating the successes and failures of an algorithm.\"</i><br><br>\n",
    "\n",
    "- <i>Besides all the new content learned, I think one great aspect of this course was that it helped me learn more about research in machine learning. After this course, I've been reading machine learning papers in a much more productive way and I feel like I'm understanding them in more depth.</i>\n",
    "\n",
    "**In-short:** we want to *empower* you to become informed users or innovator of machine learning tools, or policy makers legislating the applications of these tools. "
   ]
  },
  {
   "cell_type": "markdown",
   "metadata": {
    "slideshow": {
     "slide_type": "slide"
    }
   },
   "source": [
    "## What is Hard About This Class?\n",
    "\n",
    "1. We're asking you to really engage with the theory<br><br>\n",
    "  We're not interested in having you memorize equations and perform long derivations, rather we want you to internalize the high-level ideas of the theory (e.g. why is something true? How will something behave?). We want you to connect theory to concrete real-life consequences in meaningful ways.<br><br>\n",
    "2. We're asking you to implement lots of things from scratch<br><br>\n",
    "  We want you to have a maker's perspective and understand the mechanical underpinnings of how machine learning pipelines and models are put together, so that you can see the limitations, vunerabilities and paths to improvement in these systems.<br><br>\n",
    "3. We're asking you to consider the concrete broader impact of sometimes very niche abstract technologies<br><br>\n",
    "  On *every* assignment, we're asking you to engage with domain expertise, history, culture, sociology, economics, ethics and assume accountability for the complex ways your tech interacts with human stake-holders when deployed.<br><br>\n",
    "\n",
    "4. There are no \"right answers\", but lots of answers that are undesirable, incomplete, task inappropriate or impractical<br><br>\n",
    "  We often survey the state-of-the-art and the answers to many of your questions will be unknown to even researchers in the field. In most cases in machine learning, we know what we don't want, we can see the limitations of our existing tech, but we may not know how to build a fully satisfactory solution.\n",
    "  \n",
    "  <i>\"All models are wrong, but some are useful.\"</i> - George EP Box"
   ]
  },
  {
   "cell_type": "markdown",
   "metadata": {
    "slideshow": {
     "slide_type": "slide"
    }
   },
   "source": [
    "## Why is This Class Hard?\n",
    "\n",
    "Our alumns, reflecting on their experience at Harvard/IACS: \"We wish that we were better better guided on how to navigate the realities of being a data scientist in industry.\"\n",
    "\n",
    "1. Why theory? \n",
    "  \n",
    "  The machine learning models and algorithms that are ubiquitously impacting your lives today are so complex, that is it impossible to predict their behaviours (and therefore impossible to choose an appropriate model/algorithm for a real-life task) without engaging with theory. <br><br>\n",
    "  While theory is beautiful in itself, nothing in this course is here just because it's beautiful. Every piece of theory has concrete path of impact, so you need to keep asking: \"What is this good for?\", \"Why should I care?\"<br><br>\n",
    "\n",
    "2. Why implementation? \n",
    "\n",
    "  Solving real-life problems requires satisfying real-life constraints (e.g. constraints on computational resources, constraints on human expertise). Understanding implementation is the only way evaluate the scalability of ML solutions. Understanding implementation forces us to face up to real-life, practical constraints on computations resources.<br><br>\n",
    "\n",
    "3. Why broader impact? \n",
    "\n",
    "  Increasingly, we can no longer be insulated by the mindset of \"I'm just an engineer\". Laws are increasingly holding tech companies responsible for the broader impacts of their products: EU's General Data Protection Regulation, Executive Order 05.12.2021 “Software Bill of Materials”. Tech companies and the research communities are increasingly looking for ways bridge the gap between the technical and the social: NSF, Neurips etc require broader impact analysis; interpretability, fairness and participatory design are fast growing subfields of ML.<br><br>\n",
    "\n",
    "4. But in real-life, on the job, aren't most things either right or wrong?\n",
    "\n",
    "  In real-life there are no perfect solutions, only solutions that are the best you can find given a set amount of time and resources and for every solution, we have to be accountable for unintended side-effects and failures during deployment.\n",
    "\n",
    "**Take-away:** every component in this course was designed with a purpose! We want you to ask about everything: what is this good for and why should I care?"
   ]
  },
  {
   "cell_type": "markdown",
   "metadata": {
    "slideshow": {
     "slide_type": "slide"
    }
   },
   "source": [
    "## How are We Helping?\n",
    "\n",
    "**Every element of this class is designed to maximize useful interaction and feedback:**\n",
    "1. We split a large class into two sections\n",
    "2. Class time is active learning time\n",
    "3. You have bi-weekly feedback on concept quizzes and In-Class exercises\n",
    "4. You have weekly feedback on assignments\n",
    "5. There are at least two office hours every day of the week (except for Thursday when homework assignments are due)\n",
    "6. Office hours are themed and structured: students presubmit questions on Piazza so that staff can prepare answers in a pedagogical and organized fashion\n",
    "\n",
    "**Things we've improved upon:**\n",
    "1. We've added concept quizes for each lecture, giving you timely signal on your understanding of the materials\n",
    "2. We've streamlined and simplified all In-Class Exercises and Homeworks\n",
    "3. We've added solutions for In-Class Exercises\n"
   ]
  },
  {
   "cell_type": "markdown",
   "metadata": {
    "slideshow": {
     "slide_type": "slide"
    }
   },
   "source": [
    "## Final Advice\n",
    "\n",
    " - The teaching staff are your advocates, not your adversaries! \n",
    " - Don't fall through the cracks!"
   ]
  },
  {
   "cell_type": "markdown",
   "metadata": {
    "slideshow": {
     "slide_type": "slide"
    }
   },
   "source": [
    "## Today's In-Class Exercise\n",
    "\n",
    "We're comparing maximum likelihood models and Bayesian models for linear regression.\n",
    "\n",
    "In line with the philosophy of the class: \n",
    "\n",
    "1. you should focus on connecting the theory behind these models to concrete behaviors/properties in the context of the real down-stream task; \n",
    "\n",
    "2. you should also imagine how this model would interact with human stake-holders when embedded in its deployment setting, and anticipate both the potential benefits as well as harms of the model. \n",
    "\n",
    "  For a guide on how to assess the broader impact of ML models/algorithms, see \"How to Assess the Broader Impact of Technology\" in the Week 1 module. "
   ]
  }
 ],
 "metadata": {
  "celltoolbar": "Slideshow",
  "kernelspec": {
   "display_name": "Python 3",
   "language": "python",
   "name": "python3"
  },
  "language_info": {
   "codemirror_mode": {
    "name": "ipython",
    "version": 3
   },
   "file_extension": ".py",
   "mimetype": "text/x-python",
   "name": "python",
   "nbconvert_exporter": "python",
   "pygments_lexer": "ipython3",
   "version": "3.7.4"
  }
 },
 "nbformat": 4,
 "nbformat_minor": 2
}
